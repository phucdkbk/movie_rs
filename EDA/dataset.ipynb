{
 "cells": [
  {
   "cell_type": "code",
   "execution_count": 4,
   "metadata": {},
   "outputs": [],
   "source": [
    "import numpy as np\n",
    "import pandas as pd\n",
    "from tqdm import tqdm"
   ]
  },
  {
   "cell_type": "code",
   "execution_count": 5,
   "metadata": {},
   "outputs": [],
   "source": [
    "class DataSet:\n",
    "\n",
    "    def __init__(self, ratings, batch_size=128):\n",
    "        self.ratings = ratings\n",
    "        self.batch_size = batch_size\n",
    "        self.num_batch = self.ratings.shape[0] // self.batch_size\n",
    "\n",
    "    def get_user_rated_items(self):\n",
    "        rated_data = self.get_rated_data()\n",
    "        user_rated_items = dict()\n",
    "        for user_id, item_id, rate in rated_data:\n",
    "            if not user_rated_items.__contains__(user_id):\n",
    "                user_rated_items[user_id] = set()\n",
    "            user_rated_items[user_id].add(item_id)\n",
    "        return user_rated_items\n",
    "\n",
    "    def shuffle(self):\n",
    "        np.random.shuffle(self.ratings)\n",
    "\n",
    "    def get_batch(self, i):\n",
    "        user_ids = self.ratings[i * self.batch_size: (i + 1) * self.batch_size, 0]\n",
    "        item_ids = self.ratings[i * self.batch_size: (i + 1) * self.batch_size, 1]\n",
    "        rates = self.ratings[i * self.batch_size: (i + 1) * self.batch_size, 2]\n",
    "        return (np.array(user_ids, dtype=np.int32),\n",
    "                np.array(item_ids, dtype=np.int32),\n",
    "                np.array(rates, dtype=np.float32))"
   ]
  },
  {
   "cell_type": "code",
   "execution_count": 6,
   "metadata": {},
   "outputs": [
    {
     "name": "stderr",
     "output_type": "stream",
     "text": [
      "100%|████████████████████████████████████████████████████████████████████████| 50828/50828 [00:00<00:00, 165747.50it/s]\n"
     ]
    }
   ],
   "source": [
    "# base_folder = 'F:\\\\Projects\\\\train\\\\episerver\\\\data\\\\rs\\\\'\n",
    "base_folder = 'E:\\\\Projects\\\\Train\\\\episerver\\\\data\\\\rs\\\\'\n",
    "\n",
    "ratings = pd.read_csv(base_folder + 'ratings.csv')\n",
    "ratings = ratings[['userId', 'movieId', 'rating']].values\n",
    "dataset = DataSet(ratings, batch_size=512)\n",
    "dataset.shuffle()\n",
    "for i in tqdm(range(dataset.num_batch)):\n",
    "    user_ids, item_ids, ratings = dataset.get_batch(i)"
   ]
  },
  {
   "cell_type": "code",
   "execution_count": 5,
   "metadata": {},
   "outputs": [
    {
     "name": "stderr",
     "output_type": "stream",
     "text": [
      "100%|█████████████████████████████████████████████████████████████████████████| 50828/50828 [00:00<00:00, 87021.94it/s]\n"
     ]
    }
   ],
   "source": [
    "dataset.shuffle()\n",
    "for i in tqdm(range(dataset.num_batch)):\n",
    "    user_ids, item_ids, ratings = dataset.get_batch(i)"
   ]
  },
  {
   "cell_type": "code",
   "execution_count": 8,
   "metadata": {},
   "outputs": [
    {
     "name": "stdout",
     "output_type": "stream",
     "text": [
      "Wall time: 38.1 s\n"
     ]
    }
   ],
   "source": [
    "%%time\n",
    "dataset.shuffle()"
   ]
  },
  {
   "cell_type": "code",
   "execution_count": 7,
   "metadata": {},
   "outputs": [
    {
     "name": "stderr",
     "output_type": "stream",
     "text": [
      "100%|████████████████████████████████████████████████████████████████████████| 50828/50828 [00:00<00:00, 168762.13it/s]\n"
     ]
    }
   ],
   "source": [
    "for i in tqdm(range(dataset.num_batch)):\n",
    "    user_ids, item_ids, ratings = dataset.get_batch(i)"
   ]
  },
  {
   "cell_type": "code",
   "execution_count": 9,
   "metadata": {},
   "outputs": [
    {
     "data": {
      "text/plain": [
       "array([1. , 1. , 4. , 2.5, 2. , 3. , 3. , 4. , 4. , 3. , 5. , 3. , 0.5,\n",
       "       3.5, 4.5, 4.5, 5. , 4. , 3.5, 3. , 4.5, 3. , 4. , 5. , 5. , 4.5,\n",
       "       2.5, 3. , 1.5, 3.5, 4. , 3. , 1. , 3.5, 3.5, 4. , 1.5, 3. , 4. ,\n",
       "       4. , 4. , 5. , 3. , 3. , 5. , 3.5, 4. , 3. , 4.5, 5. , 4. , 4. ,\n",
       "       5. , 5. , 4. , 5. , 3.5, 4. , 4. , 4. , 3. , 3. , 4.5, 4. , 4. ,\n",
       "       2.5, 4.5, 4.5, 4. , 4. , 3.5, 2.5, 5. , 3. , 5. , 3. , 5. , 5. ,\n",
       "       1.5, 3.5, 3. , 4. , 4. , 4. , 5. , 3. , 3. , 4. , 3. , 0.5, 2.5,\n",
       "       3.5, 2. , 4. , 5. , 5. , 2.5, 3. , 3. , 2.5, 3. , 4. , 4. , 4. ,\n",
       "       3.5, 3.5, 3. , 5. , 3. , 4. , 3.5, 2. , 4. , 3. , 2. , 4. , 5. ,\n",
       "       3. , 4. , 3. , 5. , 5. , 4. , 3. , 2.5, 3. , 3.5, 3.5, 5. , 3. ,\n",
       "       3. , 3.5, 4.5, 3. , 4.5, 3.5, 4. , 3.5, 3.5, 4. , 5. , 4.5, 3.5,\n",
       "       3.5, 5. , 3. , 5. , 1. , 4.5, 1.5, 5. , 4.5, 4. , 2.5, 3. , 3. ,\n",
       "       3. , 5. , 4. , 4. , 4.5, 4. , 4.5, 3. , 3. , 3.5, 2. , 4.5, 3. ,\n",
       "       4. , 2.5, 5. , 4. , 4. , 4. , 0.5, 3.5, 5. , 3. , 5. , 2. , 2.5,\n",
       "       2. , 4. , 4. , 4.5, 3. , 4. , 3. , 3. , 3. , 4. , 4.5, 5. , 2. ,\n",
       "       5. , 3. , 3. , 4. , 1. , 4. , 5. , 5. , 3. , 2. , 4. , 5. , 4. ,\n",
       "       3. , 5. , 2. , 3. , 3. , 5. , 1. , 4.5, 4. , 5. , 3. , 2.5, 3.5,\n",
       "       4. , 4.5, 3. , 4. , 1. , 4. , 5. , 4. , 4. , 3. , 3. , 1.5, 2. ,\n",
       "       3.5, 4. , 4. , 3.5, 3.5, 2. , 4. , 3. , 4. , 5. , 5. , 5. , 4. ,\n",
       "       3. , 4. , 4. , 4.5, 3. , 4. , 3.5, 1. , 4.5, 1. , 5. , 4. , 4. ,\n",
       "       5. , 4.5, 2. , 3. , 0.5, 4. , 5. , 2. , 4. , 3.5, 4. , 4. , 2.5,\n",
       "       3. , 3.5, 3.5, 3. , 4. , 4. , 4. , 4. , 5. , 4. , 3. , 4. , 4. ,\n",
       "       3. , 3. , 4. , 4. , 3.5, 2.5, 3.5, 3. , 2. , 3. , 4. , 3. , 4. ,\n",
       "       2. , 1. , 4. , 3. , 5. , 4. , 2. , 2.5, 3.5, 4. , 5. , 3.5, 4. ,\n",
       "       0.5, 3. , 3. , 3.5, 3. , 2. , 1.5, 3. , 3. , 3. , 5. , 4. , 3. ,\n",
       "       3.5, 4. , 5. , 3. , 2. , 4. , 5. , 2. , 3.5, 3. , 4.5, 2.5, 5. ,\n",
       "       4. , 1. , 2.5, 5. , 5. , 3.5, 4. , 3. , 5. , 3. , 3.5, 4. , 3.5,\n",
       "       3.5, 2. , 4. , 4.5, 4.5, 5. , 2. , 3.5, 4.5, 2.5, 1.5, 5. , 2. ,\n",
       "       3.5, 2. , 4. , 5. , 4. , 0.5, 3.5, 4.5, 3. , 3. , 3. , 5. , 3. ,\n",
       "       2.5, 1. , 3.5, 3. , 4. , 2. , 0.5, 0.5, 3. , 4. , 4. , 4. , 3. ,\n",
       "       4. , 3.5, 4. , 2.5, 4. , 3. , 4.5, 4. , 0.5, 4. , 4.5, 3.5, 2.5,\n",
       "       2. , 5. , 3. , 3. , 3.5, 2.5, 3. , 3. , 2. , 3.5, 4. , 5. , 2. ,\n",
       "       4. , 4. , 5. , 3. , 4. , 2. , 4.5, 5. , 1. , 2. , 5. , 3.5, 2. ,\n",
       "       3. , 4. , 1. , 2. , 5. , 2. , 3.5, 3. , 3. , 5. , 4. , 4. , 3.5,\n",
       "       3.5, 1. , 4. , 3.5, 2. , 1.5, 1.5, 4.5, 3. , 5. , 4. , 2. , 2. ,\n",
       "       2. , 3. , 4.5, 3. , 4. , 0.5, 2. , 5. , 5. , 3.5, 2. , 3.5, 3. ,\n",
       "       5. , 4. , 4. , 1. , 3.5, 5. , 2. , 3. , 3.5, 4. , 4. , 2.5, 3. ,\n",
       "       3. , 5. , 2.5, 1. , 4. , 4. , 3.5, 4. , 1.5, 3.5, 3.5, 4. , 2. ,\n",
       "       4.5, 3. , 3. , 4. , 3. , 4.5, 3.5, 2. , 4. , 1. , 4.5, 1.5, 5. ,\n",
       "       4.5, 1.5, 3. , 5. , 5. ], dtype=float32)"
      ]
     },
     "execution_count": 9,
     "metadata": {},
     "output_type": "execute_result"
    }
   ],
   "source": [
    "ratings"
   ]
  },
  {
   "cell_type": "code",
   "execution_count": null,
   "metadata": {},
   "outputs": [],
   "source": []
  },
  {
   "cell_type": "code",
   "execution_count": null,
   "metadata": {},
   "outputs": [],
   "source": []
  },
  {
   "cell_type": "code",
   "execution_count": null,
   "metadata": {},
   "outputs": [],
   "source": []
  },
  {
   "cell_type": "code",
   "execution_count": null,
   "metadata": {},
   "outputs": [],
   "source": []
  },
  {
   "cell_type": "code",
   "execution_count": null,
   "metadata": {},
   "outputs": [],
   "source": []
  },
  {
   "cell_type": "code",
   "execution_count": null,
   "metadata": {},
   "outputs": [],
   "source": []
  },
  {
   "cell_type": "code",
   "execution_count": null,
   "metadata": {},
   "outputs": [],
   "source": []
  }
 ],
 "metadata": {
  "kernelspec": {
   "display_name": "Python 3",
   "language": "python",
   "name": "python3"
  },
  "language_info": {
   "codemirror_mode": {
    "name": "ipython",
    "version": 3
   },
   "file_extension": ".py",
   "mimetype": "text/x-python",
   "name": "python",
   "nbconvert_exporter": "python",
   "pygments_lexer": "ipython3",
   "version": "3.8.0"
  }
 },
 "nbformat": 4,
 "nbformat_minor": 2
}
