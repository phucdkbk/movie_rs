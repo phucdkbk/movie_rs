{
 "cells": [
  {
   "cell_type": "code",
   "execution_count": 1,
   "metadata": {},
   "outputs": [],
   "source": [
    "import tensorflow as tf\n",
    "from tensorflow.keras import Model\n",
    "import numpy as np\n",
    "from tensorflow.keras.initializers import TruncatedNormal\n",
    "from tqdm import tqdm\n",
    "from time import time\n",
    "import pandas as pd\n",
    "import numpy as np\n",
    "import pickle\n",
    "import pandas as pd\n",
    "from tqdm import tqdm\n",
    "import seaborn as sns\n",
    "import matplotlib.pyplot as plt\n",
    "import sys"
   ]
  },
  {
   "cell_type": "code",
   "execution_count": 2,
   "metadata": {},
   "outputs": [],
   "source": [
    "# base_folder = 'F:\\\\Projects\\\\train\\\\episerver\\\\data\\\\rs\\\\'\n",
    "base_folder = 'E:\\\\Projects\\\\Train\\\\episerver\\\\data\\\\rs\\\\'\n",
    "model_folder = 'E:\\\\Projects\\\\Train\\\\episerver\\\\model\\\\rs\\\\'"
   ]
  },
  {
   "cell_type": "code",
   "execution_count": 9,
   "metadata": {},
   "outputs": [],
   "source": [
    "class RSModel(Model):\n",
    "\n",
    "    def __init__(self, args):\n",
    "        super(RSModel, self).__init__()\n",
    "        self.embedding_size = args['embedding_size']\n",
    "        self.keyword_embedding_size = args['keyword_embedding_size']\n",
    "        self.alpha = args['alpha']\n",
    "        self.beta = args['beta']\n",
    "        self.gamma = args['gamma']\n",
    "        self.num_items = args['num_items']\n",
    "        self.num_users = args['num_users']\n",
    "        self.num_keywords = args['num_keywords']\n",
    "        self.item_keywords = tf.constant(args['item_keywords'], dtype=tf.int32)\n",
    "        self.keyword_embedding = tf.keras.layers.Embedding(input_dim=self.num_keywords + 1, output_dim=self.keyword_embedding_size,\n",
    "                                                           embeddings_initializer=TruncatedNormal(mean=0., stddev=0.1),\n",
    "                                                           mask_zero=True,\n",
    "                                                           embeddings_regularizer=tf.keras.regularizers.L2(self.alpha)\n",
    "                                                           )\n",
    "        self.user_embedding = tf.keras.layers.Embedding(input_dim=self.num_users + 1, output_dim=self.embedding_size,\n",
    "                                                        embeddings_initializer=TruncatedNormal(mean=0., stddev=0.1),\n",
    "                                                        embeddings_regularizer=tf.keras.regularizers.L2(self.beta))\n",
    "        self.item_embedding = tf.keras.layers.Embedding(input_dim=self.num_items, output_dim=self.embedding_size,\n",
    "                                                        embeddings_initializer=TruncatedNormal(mean=0., stddev=0.1),\n",
    "                                                        embeddings_regularizer=tf.keras.regularizers.L2(self.beta))\n",
    "        self.bias_u = tf.keras.layers.Embedding(input_dim=self.num_users + 1, output_dim=1,\n",
    "                                                embeddings_initializer=TruncatedNormal(mean=0., stddev=0.1),\n",
    "                                                embeddings_regularizer=tf.keras.regularizers.L2(self.gamma))\n",
    "#         self.bias_i = tf.keras.layers.Embedding(input_dim=self.num_items, output_dim=1,\n",
    "#                                                 embeddings_initializer=TruncatedNormal(mean=0., stddev=0.1),\n",
    "#                                                 embeddings_regularizer=tf.keras.regularizers.L2(self.gamma))\n",
    "        self.mlp_dense = tf.keras.layers.Dense(units=1)\n",
    "\n",
    "    def call(self, user_ids, item_ids):\n",
    "        user_bias = self.bias_u(user_ids)\n",
    "#         item_bias = self.bias_i(item_ids)\n",
    "        # matrix factorization\n",
    "        users_embedding = self.user_embedding(user_ids)\n",
    "        items_embedding = self.item_embedding(item_ids)\n",
    "        mf = tf.math.multiply(users_embedding, items_embedding)\n",
    "        # mlp\n",
    "        item_keyword = tf.nn.embedding_lookup(self.item_keywords, item_ids)\n",
    "        item_keyword_embedding = self.keyword_embedding(item_keyword)\n",
    "        item_encode = tf.reduce_sum(item_keyword_embedding, axis=1)\n",
    "        item_encode = self.mlp_dense(item_encode)\n",
    "        # rating score\n",
    "        r = tf.squeeze(user_bias) + tf.reduce_sum(mf, axis=1) + tf.reduce_sum(item_encode, axis=1)\n",
    "#         r = tf.squeeze(user_bias) + tf.squeeze(item_bias) + tf.reduce_sum(mf, axis=1) + tf.reduce_sum(item_encode, axis=1)\n",
    "        #         r = tf.squeeze(user_bias) + tf.squeeze(item_bias) + tf.reduce_sum(mf, axis=1)\n",
    "        return r\n",
    "\n",
    "    def loss_fn_rmse(self, predictions, labels):\n",
    "        loss = tf.reduce_sum(tf.math.square(predictions - labels))\n",
    "        loss += tf.reduce_sum(self.keyword_embedding.losses)\n",
    "        loss += tf.reduce_sum(self.user_embedding.losses) + tf.reduce_sum(self.item_embedding.losses)\n",
    "        #         loss += tf.reduce_sum(self.bias_u.losses) + tf.reduce_sum(self.bias_i.losses)\n",
    "        return loss"
   ]
  },
  {
   "cell_type": "code",
   "execution_count": 10,
   "metadata": {},
   "outputs": [],
   "source": [
    "\n",
    "\n",
    "def get_val_rmse(rs_model, val_dataset):\n",
    "    all_ratings = []\n",
    "    all_predictions = []\n",
    "    for i in tqdm(range(val_dataset.num_batch)):\n",
    "        user_ids, item_ids, ratings = val_dataset.get_batch(i)\n",
    "        predictions = rs_model(user_ids, item_ids)\n",
    "        all_predictions.append(predictions.numpy())\n",
    "        all_ratings.append(ratings)\n",
    "    val_predictions = np.concatenate(all_predictions, axis=0)\n",
    "    val_ratings = np.concatenate(all_ratings, axis=0)\n",
    "    return np.sqrt(np.mean((val_predictions - val_ratings) ** 2))"
   ]
  },
  {
   "cell_type": "code",
   "execution_count": 4,
   "metadata": {},
   "outputs": [],
   "source": [
    "class DataSet:\n",
    "\n",
    "    def __init__(self, ratings, batch_size=128):\n",
    "        self.ratings = ratings\n",
    "        self.batch_size = batch_size\n",
    "        self.num_batch = self.ratings.shape[0] // self.batch_size\n",
    "\n",
    "    def shuffle(self):\n",
    "        np.random.shuffle(self.ratings)\n",
    "\n",
    "    def get_batch(self, i):\n",
    "        user_ids = self.ratings[i * self.batch_size: (i + 1) * self.batch_size, 0]\n",
    "        item_ids = self.ratings[i * self.batch_size: (i + 1) * self.batch_size, 1]\n",
    "        rates = self.ratings[i * self.batch_size: (i + 1) * self.batch_size, 2]\n",
    "        return (np.array(user_ids, dtype=np.int32),\n",
    "                np.array(item_ids, dtype=np.int32),\n",
    "                np.array(rates, dtype=np.float32))"
   ]
  },
  {
   "cell_type": "markdown",
   "metadata": {},
   "source": [
    "### load data"
   ]
  },
  {
   "cell_type": "code",
   "execution_count": 5,
   "metadata": {},
   "outputs": [],
   "source": [
    "train = pickle.load(open(model_folder + 'train.pkl', 'rb'))\n",
    "val = pickle.load(open(model_folder + 'val.pkl', 'rb'))\n",
    "test = pickle.load(open(model_folder + 'test.pkl', 'rb'))\n",
    "\n",
    "movie_id_idx_map = pickle.load(open(model_folder + 'movie_id_idx_map.pkl', 'rb'))\n",
    "idx_movie_id_map = pickle.load(open(model_folder + 'idx_movie_id_map.pkl', 'rb'))\n",
    "meta_data = pickle.load(open(model_folder + 'meta_data.pkl', 'rb'))\n",
    "\n",
    "item_keywords = pickle.load(open(model_folder + 'item_keywords.pkl', 'rb'))"
   ]
  },
  {
   "cell_type": "code",
   "execution_count": 6,
   "metadata": {},
   "outputs": [],
   "source": [
    "args = dict()\n",
    "args['embedding_size'] = 64\n",
    "args['keyword_embedding_size'] = 64\n",
    "args['alpha'] = 0.001\n",
    "args['beta'] = 0.001\n",
    "args['gamma'] = 0.000\n",
    "args['num_items'] = meta_data['num_items']\n",
    "args['num_users'] = meta_data['num_users']\n",
    "args['num_keywords'] = meta_data['num_keywords']\n",
    "args['item_keywords'] = item_keywords"
   ]
  },
  {
   "cell_type": "code",
   "execution_count": 7,
   "metadata": {},
   "outputs": [
    {
     "name": "stdout",
     "output_type": "stream",
     "text": [
      "load pretrained model at: E:\\Projects\\Train\\episerver\\model\\rs\\/rsmodel_ckpt\\ckpt-5\n"
     ]
    },
    {
     "data": {
      "text/plain": [
       "<tensorflow.python.training.tracking.util.CheckpointLoadStatus at 0x168d6bdd160>"
      ]
     },
     "execution_count": 7,
     "metadata": {},
     "output_type": "execute_result"
    }
   ],
   "source": [
    "rec_model = RSModel(args)\n",
    "\n",
    "epoch_step = tf.Variable(0, dtype=tf.int32)\n",
    "ckpt = tf.train.Checkpoint(rec_model=rec_model, epoch_step=epoch_step)\n",
    "manager = tf.train.CheckpointManager(checkpoint=ckpt, directory=model_folder + '/rsmodel_ckpt', max_to_keep=3)\n",
    "print('load pretrained model at: ' + manager.latest_checkpoint)\n",
    "ckpt.restore(manager.latest_checkpoint)"
   ]
  },
  {
   "cell_type": "code",
   "execution_count": 11,
   "metadata": {},
   "outputs": [
    {
     "name": "stderr",
     "output_type": "stream",
     "text": [
      "100%|█████████████████████████████████████████████████████████████████████████████| 1270/1270 [00:03<00:00, 339.90it/s]\n"
     ]
    },
    {
     "data": {
      "text/plain": [
       "0.89457804"
      ]
     },
     "execution_count": 11,
     "metadata": {},
     "output_type": "execute_result"
    }
   ],
   "source": [
    "test_dataset = DataSet(test[['userId', 'itemId', 'rating']].values, batch_size=1024)\n",
    "get_val_rmse(rec_model, test_dataset)"
   ]
  },
  {
   "cell_type": "code",
   "execution_count": 12,
   "metadata": {},
   "outputs": [],
   "source": [
    "top_n = 100\n",
    "item_ids = np.array(range(meta_data['num_items']))"
   ]
  },
  {
   "cell_type": "code",
   "execution_count": 13,
   "metadata": {},
   "outputs": [],
   "source": [
    "users_embedding = rec_model.user_embedding.weights[0].numpy()\n",
    "items_encode = rec_model.item_embedding.weights[0].numpy()\n",
    "# items_bias = np.squeeze(rec_model.bias_i.weights[0].numpy())\n",
    "users_bias = rec_model.bias_u.weights[0].numpy()"
   ]
  },
  {
   "cell_type": "code",
   "execution_count": 14,
   "metadata": {},
   "outputs": [],
   "source": [
    "item_keyword = tf.nn.embedding_lookup(rec_model.item_keywords, item_ids)\n",
    "item_keyword_embedding = rec_model.keyword_embedding(item_keyword)\n",
    "item_keyword_encode = tf.reduce_sum(item_keyword_embedding, axis=1)\n",
    "item_keyword_encode = rec_model.mlp_dense(item_keyword_encode)\n",
    "item_keyword_encode = np.squeeze(item_keyword_encode.numpy())"
   ]
  },
  {
   "cell_type": "markdown",
   "metadata": {},
   "source": [
    "#### EDA model"
   ]
  },
  {
   "cell_type": "code",
   "execution_count": 15,
   "metadata": {},
   "outputs": [
    {
     "name": "stderr",
     "output_type": "stream",
     "text": [
      "c:\\users\\admin\\appdata\\local\\programs\\python\\python38\\lib\\site-packages\\seaborn\\distributions.py:2551: FutureWarning: `distplot` is a deprecated function and will be removed in a future version. Please adapt your code to use either `displot` (a figure-level function with similar flexibility) or `histplot` (an axes-level function for histograms).\n",
      "  warnings.warn(msg, FutureWarning)\n"
     ]
    },
    {
     "data": {
      "text/plain": [
       "<matplotlib.axes._subplots.AxesSubplot at 0x168d67337c0>"
      ]
     },
     "execution_count": 15,
     "metadata": {},
     "output_type": "execute_result"
    },
    {
     "data": {
      "image/png": "[encoded data removed]",
      "text/plain": [
       "<Figure size 432x288 with 1 Axes>"
      ]
     },
     "metadata": {
      "needs_background": "light"
     },
     "output_type": "display_data"
    }
   ],
   "source": [
    "sns.distplot(item_keyword_encode)"
   ]
  },
  {
   "cell_type": "code",
   "execution_count": 16,
   "metadata": {},
   "outputs": [
    {
     "data": {
      "text/plain": [
       "1.718663"
      ]
     },
     "execution_count": 16,
     "metadata": {},
     "output_type": "execute_result"
    }
   ],
   "source": [
    "min(item_keyword_encode)"
   ]
  },
  {
   "cell_type": "code",
   "execution_count": 17,
   "metadata": {},
   "outputs": [
    {
     "data": {
      "text/plain": [
       "4.2375193"
      ]
     },
     "execution_count": 17,
     "metadata": {},
     "output_type": "execute_result"
    }
   ],
   "source": [
    "max(item_keyword_encode)"
   ]
  },
  {
   "cell_type": "code",
   "execution_count": 15,
   "metadata": {},
   "outputs": [],
   "source": [
    "bias_i = np.squeeze(rec_model.bias_i.weights[0].numpy())\n",
    "bias_u = np.squeeze(rec_model.bias_u.weights[0].numpy())"
   ]
  },
  {
   "cell_type": "code",
   "execution_count": 16,
   "metadata": {},
   "outputs": [
    {
     "data": {
      "text/plain": [
       "<seaborn.axisgrid.FacetGrid at 0x2aaf9300430>"
      ]
     },
     "execution_count": 16,
     "metadata": {},
     "output_type": "execute_result"
    },
    {
     "data": {
      "image/png": "[encoded data removed]",
      "text/plain": [
       "<Figure size 360x360 with 1 Axes>"
      ]
     },
     "metadata": {
      "needs_background": "light"
     },
     "output_type": "display_data"
    }
   ],
   "source": [
    "sns.displot(bias_i)"
   ]
  },
  {
   "cell_type": "code",
   "execution_count": 17,
   "metadata": {},
   "outputs": [
    {
     "data": {
      "text/plain": [
       "<seaborn.axisgrid.FacetGrid at 0x2aaf93a1b20>"
      ]
     },
     "execution_count": 17,
     "metadata": {},
     "output_type": "execute_result"
    },
    {
     "data": {
      "image/png": "[encoded data removed]",
      "text/plain": [
       "<Figure size 360x360 with 1 Axes>"
      ]
     },
     "metadata": {
      "needs_background": "light"
     },
     "output_type": "display_data"
    }
   ],
   "source": [
    "sns.displot(bias_u)"
   ]
  },
  {
   "cell_type": "code",
   "execution_count": 18,
   "metadata": {},
   "outputs": [],
   "source": [
    "item_embedding = rec_model.item_embedding.weights[0].numpy()\n",
    "user_embedding = rec_model.user_embedding.weights[0].numpy()\n",
    "keyword_embedding = rec_model.keyword_embedding.weights[0].numpy()"
   ]
  },
  {
   "cell_type": "code",
   "execution_count": 19,
   "metadata": {},
   "outputs": [],
   "source": [
    "a = item_embedding[:,0]"
   ]
  },
  {
   "cell_type": "code",
   "execution_count": 20,
   "metadata": {},
   "outputs": [
    {
     "name": "stderr",
     "output_type": "stream",
     "text": [
      "c:\\users\\admin\\appdata\\local\\programs\\python\\python38\\lib\\site-packages\\seaborn\\distributions.py:2551: FutureWarning: `distplot` is a deprecated function and will be removed in a future version. Please adapt your code to use either `displot` (a figure-level function with similar flexibility) or `histplot` (an axes-level function for histograms).\n",
      "  warnings.warn(msg, FutureWarning)\n"
     ]
    },
    {
     "data": {
      "text/plain": [
       "<matplotlib.axes._subplots.AxesSubplot at 0x2aa84b63fa0>"
      ]
     },
     "execution_count": 20,
     "metadata": {},
     "output_type": "execute_result"
    },
    {
     "data": {
      "image/png": "[encoded data removed]",
      "text/plain": [
       "<Figure size 432x288 with 1 Axes>"
      ]
     },
     "metadata": {
      "needs_background": "light"
     },
     "output_type": "display_data"
    }
   ],
   "source": [
    "sns.distplot(item_embedding[:,6][:10000])"
   ]
  },
  {
   "cell_type": "code",
   "execution_count": 21,
   "metadata": {},
   "outputs": [
    {
     "data": {
      "text/plain": [
       "array([[ 9.0987579e-35,  1.2233260e-34,  2.1921280e-34, ...,\n",
       "         6.8338535e-35,  2.3998782e-34,  4.3442644e-35],\n",
       "       [ 8.3420006e-15, -1.0032314e-11, -1.5800544e-03, ...,\n",
       "        -4.7944226e-10, -9.1539931e-08,  6.4115623e-11],\n",
       "       [-2.3831967e-03,  1.0096478e-02,  1.9461319e-03, ...,\n",
       "         4.7625448e-03, -8.5721019e-04, -3.2074206e-02],\n",
       "       ...,\n",
       "       [-7.8217588e-02, -6.1987638e-02,  3.4079202e-02, ...,\n",
       "        -5.4857779e-02,  7.0840478e-02,  6.1521478e-02],\n",
       "       [ 5.4386043e-35, -1.2240984e-23, -2.3178857e-29, ...,\n",
       "        -1.0469826e-19, -1.5119498e-34, -5.9248277e-06],\n",
       "       [-1.9539343e-02, -5.0345004e-02, -1.1350744e-02, ...,\n",
       "         1.3121729e-01, -6.1527297e-02, -4.3892104e-02]], dtype=float32)"
      ]
     },
     "execution_count": 21,
     "metadata": {},
     "output_type": "execute_result"
    }
   ],
   "source": [
    "user_embedding"
   ]
  },
  {
   "cell_type": "code",
   "execution_count": 22,
   "metadata": {},
   "outputs": [
    {
     "data": {
      "text/plain": [
       "array([[-1.5504549e-01,  2.2910610e-01, -9.6611393e-04, ...,\n",
       "         9.8560574e-03, -1.5674889e-01,  3.0587537e-02],\n",
       "       [-1.4317950e-03,  6.9332975e-03, -6.7215733e-05, ...,\n",
       "         9.5750578e-04, -1.2073553e-03,  3.6364392e-04],\n",
       "       [-5.1634191e-03,  3.0844789e-02,  1.7332437e-04, ...,\n",
       "        -1.7758172e-03, -3.7850200e-03,  4.8841535e-05],\n",
       "       ...,\n",
       "       [-1.5190179e-34, -1.6668335e-34, -1.2876912e-34, ...,\n",
       "         4.1907476e-35,  8.3333274e-35, -1.1484836e-34],\n",
       "       [-5.3426062e-05, -8.8040601e-05, -5.0500616e-06, ...,\n",
       "        -8.2628656e-05,  2.3510864e-05, -3.6704780e-05],\n",
       "       [-8.9737698e-35,  3.4155504e-35,  3.8457293e-07, ...,\n",
       "         1.4287355e-12, -1.2584930e-35,  1.6268695e-34]], dtype=float32)"
      ]
     },
     "execution_count": 22,
     "metadata": {},
     "output_type": "execute_result"
    }
   ],
   "source": [
    "keyword_embedding"
   ]
  },
  {
   "cell_type": "code",
   "execution_count": null,
   "metadata": {},
   "outputs": [],
   "source": []
  },
  {
   "cell_type": "code",
   "execution_count": 60,
   "metadata": {},
   "outputs": [
    {
     "name": "stderr",
     "output_type": "stream",
     "text": [
      "  0%|                                                                                         | 0/1270 [00:00<?, ?it/s]\n"
     ]
    }
   ],
   "source": [
    "for i in tqdm(range(test_dataset.num_batch)):\n",
    "    user_ids, item_ids, ratings = test_dataset.get_batch(i)\n",
    "    break"
   ]
  },
  {
   "cell_type": "code",
   "execution_count": 62,
   "metadata": {},
   "outputs": [],
   "source": [
    "user_bias = rec_model.bias_u(user_ids)\n",
    "item_bias = rec_model.bias_i(item_ids)\n",
    "# matrix factorization\n",
    "users_embedding = rec_model.user_embedding(user_ids)\n",
    "items_embedding = rec_model.item_embedding(item_ids)\n",
    "mf = tf.math.multiply(users_embedding, items_embedding)\n",
    "# mlp\n",
    "item_keyword = tf.nn.embedding_lookup(rec_model.item_keywords, item_ids)\n",
    "item_keyword_embedding = rec_model.keyword_embedding(item_keyword)\n",
    "item_encode = tf.reduce_sum(item_keyword_embedding, axis=1)\n",
    "item_encode = rec_model.mlp_dense(item_encode)\n",
    "# rating score\n",
    "r = tf.squeeze(user_bias) + tf.squeeze(item_bias) + tf.reduce_sum(mf, axis=1) + tf.reduce_sum(item_encode, axis=1)"
   ]
  },
  {
   "cell_type": "code",
   "execution_count": 66,
   "metadata": {},
   "outputs": [
    {
     "data": {
      "text/plain": [
       "<tf.Tensor: shape=(1024,), dtype=float32, numpy=\n",
       "array([ 0.02690527,  0.08788073, -0.00196143, ..., -0.23726195,\n",
       "        0.13069665,  0.0513425 ], dtype=float32)>"
      ]
     },
     "execution_count": 66,
     "metadata": {},
     "output_type": "execute_result"
    }
   ],
   "source": [
    "tf.reduce_sum(mf, axis=1)"
   ]
  },
  {
   "cell_type": "code",
   "execution_count": 67,
   "metadata": {},
   "outputs": [
    {
     "data": {
      "text/plain": [
       "TensorShape([1024, 15])"
      ]
     },
     "execution_count": 67,
     "metadata": {},
     "output_type": "execute_result"
    }
   ],
   "source": [
    "item_keyword.shape"
   ]
  },
  {
   "cell_type": "code",
   "execution_count": 68,
   "metadata": {},
   "outputs": [
    {
     "data": {
      "text/plain": [
       "TensorShape([1024, 15, 64])"
      ]
     },
     "execution_count": 68,
     "metadata": {},
     "output_type": "execute_result"
    }
   ],
   "source": [
    "item_keyword_embedding.shape"
   ]
  },
  {
   "cell_type": "code",
   "execution_count": 70,
   "metadata": {},
   "outputs": [
    {
     "data": {
      "text/plain": [
       "TensorShape([1024, 64])"
      ]
     },
     "execution_count": 70,
     "metadata": {},
     "output_type": "execute_result"
    }
   ],
   "source": [
    "tf.reduce_sum(item_keyword_embedding, axis=1).shape"
   ]
  },
  {
   "cell_type": "code",
   "execution_count": null,
   "metadata": {},
   "outputs": [],
   "source": []
  },
  {
   "cell_type": "code",
   "execution_count": null,
   "metadata": {},
   "outputs": [],
   "source": []
  },
  {
   "cell_type": "code",
   "execution_count": null,
   "metadata": {},
   "outputs": [],
   "source": []
  },
  {
   "cell_type": "code",
   "execution_count": null,
   "metadata": {},
   "outputs": [],
   "source": []
  },
  {
   "cell_type": "code",
   "execution_count": null,
   "metadata": {},
   "outputs": [],
   "source": []
  },
  {
   "cell_type": "code",
   "execution_count": null,
   "metadata": {},
   "outputs": [],
   "source": []
  },
  {
   "cell_type": "code",
   "execution_count": null,
   "metadata": {},
   "outputs": [],
   "source": []
  },
  {
   "cell_type": "code",
   "execution_count": 65,
   "metadata": {},
   "outputs": [
    {
     "data": {
      "text/plain": [
       "<seaborn.axisgrid.FacetGrid at 0x1ac847e3e20>"
      ]
     },
     "execution_count": 65,
     "metadata": {},
     "output_type": "execute_result"
    },
    {
     "data": {
      "image/png": "[encoded data removed]",
      "text/plain": [
       "<Figure size 360x360 with 1 Axes>"
      ]
     },
     "metadata": {
      "needs_background": "light"
     },
     "output_type": "display_data"
    }
   ],
   "source": [
    "sns.displot(r.numpy())"
   ]
  },
  {
   "cell_type": "code",
   "execution_count": null,
   "metadata": {},
   "outputs": [],
   "source": []
  },
  {
   "cell_type": "code",
   "execution_count": null,
   "metadata": {},
   "outputs": [],
   "source": []
  },
  {
   "cell_type": "code",
   "execution_count": 23,
   "metadata": {},
   "outputs": [
    {
     "name": "stderr",
     "output_type": "stream",
     "text": [
      "100%|█████████████████████████████████████████████████████████████████████████| 270895/270895 [08:56<00:00, 504.68it/s]\n"
     ]
    }
   ],
   "source": [
    "predict_user_dict = dict()\n",
    "# list_predict_users = []\n",
    "for user_id in tqdm(range(1, meta_data['num_users'])):\n",
    "    user_embedded = users_embedding[user_id]\n",
    "    user_bias = users_bias[user_id]\n",
    "    predicts = np.squeeze(np.matmul(user_embedded.reshape(1, -1), items_encode.T)) + items_bias + user_bias + item_keyword_encode\n",
    "    best = np.argpartition(predicts, -top_n)[-top_n:]\n",
    "#     predict_user_dict[user_id] = sorted(zip(best, predicts[best]), key=lambda x: -x[1])\n",
    "    predict_user_dict[user_id] = best.astype(np.int32)\n",
    "#     list_predict_users.append(best.astype(np.int32))"
   ]
  },
  {
   "cell_type": "code",
   "execution_count": 28,
   "metadata": {},
   "outputs": [
    {
     "data": {
      "text/plain": [
       "array([3.8265123, 3.8272524, 3.8279557, 3.8280892, 3.8306725, 3.8303266,\n",
       "       3.8291981, 3.8300228, 3.8279972, 3.8312564, 3.832132 , 3.833696 ,\n",
       "       3.8357131, 3.8330035, 3.832798 , 3.834689 , 3.8349419, 3.8363554,\n",
       "       3.9269688, 3.863015 , 3.8600516, 3.8762105, 3.9655   , 3.9233413,\n",
       "       3.840219 , 3.8542964, 3.8383946, 3.862608 , 3.883445 , 3.865651 ,\n",
       "       3.903876 , 3.8633454, 3.8897338, 3.8965964, 3.8536224, 3.8449965,\n",
       "       3.8540912, 3.9395492, 3.8694162, 3.8964703, 3.8464932, 3.861515 ,\n",
       "       3.8752131, 3.934359 , 3.8505778, 3.909958 , 3.9218001, 3.8459768,\n",
       "       3.954794 , 3.994964 , 3.9696147, 3.8848288, 4.0522366, 3.85141  ,\n",
       "       3.9518216, 3.863862 , 3.9062917, 3.8675296, 3.9521265, 3.8477402,\n",
       "       3.8369443, 3.905295 , 3.9305167, 3.8441598, 3.848311 , 3.852375 ,\n",
       "       3.837367 , 3.8828175, 3.8603027, 3.840543 , 4.182045 , 3.8412013,\n",
       "       3.8940358, 3.8395011, 3.8902214, 3.8960922, 3.8755555, 3.8450232,\n",
       "       3.8746767, 3.8819   , 3.8953326, 3.873482 , 3.9182131, 3.8549647,\n",
       "       3.8391035, 3.8625286, 3.902246 , 4.124934 , 3.9129865, 3.919351 ,\n",
       "       3.8413284, 3.8914149, 3.9177942, 3.9284613, 3.8519626, 3.870479 ,\n",
       "       3.8668368, 3.9853556, 4.1370335, 3.870499 ], dtype=float32)"
      ]
     },
     "execution_count": 28,
     "metadata": {},
     "output_type": "execute_result"
    }
   ],
   "source": [
    "predicts[best]"
   ]
  },
  {
   "cell_type": "code",
   "execution_count": 27,
   "metadata": {},
   "outputs": [
    {
     "data": {
      "text/plain": [
       "array([2531,  587, 2824, 6969, 2832, 4640, 2261, 3456, 8090,  661, 3712,\n",
       "        123,  606, 1601, 2296, 5093,   14,  333, 2538, 3508,  796,  295,\n",
       "        294,  303, 1753, 8039,  556,  768,  577, 5865,  579,  863, 5867,\n",
       "        196,  876,  904,  905, 4633, 3031,  219, 3055, 1710, 2279, 2265,\n",
       "       4577,  350,  588,  541,   51,  540,  115,  117,  538, 2821,  118,\n",
       "        319,  119,  278, 1706, 1024,  603, 1705,  605, 1676, 3151, 6257,\n",
       "       2796, 2403,  612,  139,  140,  141, 6351,  142,  616, 6353,  148,\n",
       "       3685, 3684, 6376,  619, 5299, 2764, 1098, 6430,  153,  622, 8226,\n",
       "        395, 2345, 1602,    8, 2303,  630, 2254, 2634, 1556,    3,    2,\n",
       "       9701], dtype=int64)"
      ]
     },
     "execution_count": 27,
     "metadata": {},
     "output_type": "execute_result"
    }
   ],
   "source": [
    "best"
   ]
  },
  {
   "cell_type": "code",
   "execution_count": 26,
   "metadata": {},
   "outputs": [
    {
     "data": {
      "text/plain": [
       "array([3.7440915, 3.319021 , 4.1370335, ..., 1.2729695, 1.0697612,\n",
       "       1.3448677], dtype=float32)"
      ]
     },
     "execution_count": 26,
     "metadata": {},
     "output_type": "execute_result"
    }
   ],
   "source": [
    "predicts"
   ]
  },
  {
   "cell_type": "code",
   "execution_count": 24,
   "metadata": {},
   "outputs": [
    {
     "data": {
      "text/plain": [
       "270895"
      ]
     },
     "execution_count": 24,
     "metadata": {},
     "output_type": "execute_result"
    }
   ],
   "source": [
    "predict_user_dict.__len__()"
   ]
  },
  {
   "cell_type": "code",
   "execution_count": 25,
   "metadata": {},
   "outputs": [],
   "source": [
    "pickle.dump(predict_user_dict, open(model_folder + 'predict_user_dict.pkl', 'wb'))"
   ]
  },
  {
   "cell_type": "markdown",
   "metadata": {},
   "source": [
    "### GUI prediction"
   ]
  },
  {
   "cell_type": "code",
   "execution_count": 15,
   "metadata": {},
   "outputs": [],
   "source": [
    "user_id = 1000"
   ]
  },
  {
   "cell_type": "code",
   "execution_count": 16,
   "metadata": {},
   "outputs": [
    {
     "name": "stderr",
     "output_type": "stream",
     "text": [
      "c:\\users\\admin\\appdata\\local\\programs\\python\\python38\\lib\\site-packages\\IPython\\core\\interactiveshell.py:3145: DtypeWarning: Columns (10) have mixed types.Specify dtype option on import or set low_memory=False.\n",
      "  has_raised = await self.run_ast_nodes(code_ast.body, cell_name,\n"
     ]
    }
   ],
   "source": [
    "ratings = pd.read_csv(base_folder + 'ratings.csv')\n",
    "movies_metadata = pd.read_csv(base_folder + 'movies_metadata.csv')"
   ]
  },
  {
   "cell_type": "code",
   "execution_count": 17,
   "metadata": {},
   "outputs": [
    {
     "data": {
      "text/plain": [
       "6"
      ]
     },
     "execution_count": 17,
     "metadata": {},
     "output_type": "execute_result"
    }
   ],
   "source": [
    "movies_metadata['title'].isna().sum()"
   ]
  },
  {
   "cell_type": "code",
   "execution_count": 18,
   "metadata": {},
   "outputs": [
    {
     "data": {
      "text/plain": [
       "(45466, 24)"
      ]
     },
     "execution_count": 18,
     "metadata": {},
     "output_type": "execute_result"
    }
   ],
   "source": [
    "movies_metadata.shape"
   ]
  },
  {
   "cell_type": "code",
   "execution_count": 19,
   "metadata": {},
   "outputs": [],
   "source": [
    "movies_metadata = movies_metadata[['id', 'release_date', 'title']].copy()"
   ]
  },
  {
   "cell_type": "code",
   "execution_count": 20,
   "metadata": {},
   "outputs": [],
   "source": [
    "movies_metadata['id'] = movies_metadata['id'].apply(lambda x: -1 if str(x).__contains__('-') else int(x))\n",
    "movies_metadata['id'] = movies_metadata['id'].astype(np.int64)"
   ]
  },
  {
   "cell_type": "code",
   "execution_count": 21,
   "metadata": {},
   "outputs": [
    {
     "data": {
      "text/html": [
       "<div>\n",
       "<style scoped>\n",
       "    .dataframe tbody tr th:only-of-type {\n",
       "        vertical-align: middle;\n",
       "    }\n",
       "\n",
       "    .dataframe tbody tr th {\n",
       "        vertical-align: top;\n",
       "    }\n",
       "\n",
       "    .dataframe thead th {\n",
       "        text-align: right;\n",
       "    }\n",
       "</style>\n",
       "<table border=\"1\" class=\"dataframe\">\n",
       "  <thead>\n",
       "    <tr style=\"text-align: right;\">\n",
       "      <th></th>\n",
       "      <th>id</th>\n",
       "      <th>release_date</th>\n",
       "      <th>title</th>\n",
       "    </tr>\n",
       "  </thead>\n",
       "  <tbody>\n",
       "    <tr>\n",
       "      <th>0</th>\n",
       "      <td>862</td>\n",
       "      <td>1995-10-30</td>\n",
       "      <td>Toy Story</td>\n",
       "    </tr>\n",
       "    <tr>\n",
       "      <th>1</th>\n",
       "      <td>8844</td>\n",
       "      <td>1995-12-15</td>\n",
       "      <td>Jumanji</td>\n",
       "    </tr>\n",
       "    <tr>\n",
       "      <th>2</th>\n",
       "      <td>15602</td>\n",
       "      <td>1995-12-22</td>\n",
       "      <td>Grumpier Old Men</td>\n",
       "    </tr>\n",
       "    <tr>\n",
       "      <th>3</th>\n",
       "      <td>31357</td>\n",
       "      <td>1995-12-22</td>\n",
       "      <td>Waiting to Exhale</td>\n",
       "    </tr>\n",
       "    <tr>\n",
       "      <th>4</th>\n",
       "      <td>11862</td>\n",
       "      <td>1995-02-10</td>\n",
       "      <td>Father of the Bride Part II</td>\n",
       "    </tr>\n",
       "    <tr>\n",
       "      <th>...</th>\n",
       "      <td>...</td>\n",
       "      <td>...</td>\n",
       "      <td>...</td>\n",
       "    </tr>\n",
       "    <tr>\n",
       "      <th>45461</th>\n",
       "      <td>439050</td>\n",
       "      <td>NaN</td>\n",
       "      <td>Subdue</td>\n",
       "    </tr>\n",
       "    <tr>\n",
       "      <th>45462</th>\n",
       "      <td>111109</td>\n",
       "      <td>2011-11-17</td>\n",
       "      <td>Century of Birthing</td>\n",
       "    </tr>\n",
       "    <tr>\n",
       "      <th>45463</th>\n",
       "      <td>67758</td>\n",
       "      <td>2003-08-01</td>\n",
       "      <td>Betrayal</td>\n",
       "    </tr>\n",
       "    <tr>\n",
       "      <th>45464</th>\n",
       "      <td>227506</td>\n",
       "      <td>1917-10-21</td>\n",
       "      <td>Satan Triumphant</td>\n",
       "    </tr>\n",
       "    <tr>\n",
       "      <th>45465</th>\n",
       "      <td>461257</td>\n",
       "      <td>2017-06-09</td>\n",
       "      <td>Queerama</td>\n",
       "    </tr>\n",
       "  </tbody>\n",
       "</table>\n",
       "<p>45463 rows × 3 columns</p>\n",
       "</div>"
      ],
      "text/plain": [
       "           id release_date                        title\n",
       "0         862   1995-10-30                    Toy Story\n",
       "1        8844   1995-12-15                      Jumanji\n",
       "2       15602   1995-12-22             Grumpier Old Men\n",
       "3       31357   1995-12-22            Waiting to Exhale\n",
       "4       11862   1995-02-10  Father of the Bride Part II\n",
       "...       ...          ...                          ...\n",
       "45461  439050          NaN                       Subdue\n",
       "45462  111109   2011-11-17          Century of Birthing\n",
       "45463   67758   2003-08-01                     Betrayal\n",
       "45464  227506   1917-10-21             Satan Triumphant\n",
       "45465  461257   2017-06-09                     Queerama\n",
       "\n",
       "[45463 rows x 3 columns]"
      ]
     },
     "execution_count": 21,
     "metadata": {},
     "output_type": "execute_result"
    }
   ],
   "source": [
    "movies_metadata[movies_metadata['id'] > 0]"
   ]
  },
  {
   "cell_type": "code",
   "execution_count": 22,
   "metadata": {},
   "outputs": [
    {
     "data": {
      "text/plain": [
       "7565"
      ]
     },
     "execution_count": 22,
     "metadata": {},
     "output_type": "execute_result"
    }
   ],
   "source": [
    "set(ratings['movieId'].unique()).intersection(set(movies_metadata['id'])).__len__()"
   ]
  },
  {
   "cell_type": "code",
   "execution_count": 23,
   "metadata": {},
   "outputs": [],
   "source": [
    "ratings = ratings.drop(columns='timestamp')\n",
    "ratings = ratings.merge(movies_metadata, how='left', left_on='movieId', right_on='id')\n",
    "ratings = ratings.drop(columns='id')"
   ]
  },
  {
   "cell_type": "code",
   "execution_count": 24,
   "metadata": {},
   "outputs": [],
   "source": [
    "user_id = 10002"
   ]
  },
  {
   "cell_type": "code",
   "execution_count": 25,
   "metadata": {},
   "outputs": [],
   "source": [
    "rec_item_idx = predict_user_dict[user_id]\n",
    "rec_movie_ids = []\n",
    "for item_idx in rec_item_idx:\n",
    "    rec_movie_ids.append(idx_movie_id_map[item_idx])"
   ]
  },
  {
   "cell_type": "code",
   "execution_count": 52,
   "metadata": {},
   "outputs": [
    {
     "data": {
      "text/plain": [
       "array([[3.5, '1988-10-21', 'Ariel'],\n",
       "       [1.5, '1986-10-16', 'Shadows in Paradise'],\n",
       "       [2.0, '1927-01-10', 'Metropolis'],\n",
       "       [2.5, '2003-10-10', 'Kill Bill: Vol. 1'],\n",
       "       [4.5, nan, nan],\n",
       "       [2.0, nan, nan],\n",
       "       [4.0, nan, nan],\n",
       "       [1.5, '1998-07-01', 'Armageddon'],\n",
       "       [2.0, '1998-08-20', 'Run Lola Run'],\n",
       "       [3.0, '1994-05-27', 'Three Colors: Red'],\n",
       "       [1.5, '2003-12-01',\n",
       "        'The Lord of the Rings: The Return of the King'],\n",
       "       [2.5, '1996-05-13', 'Breaking the Waves'],\n",
       "       [3.0, '1982-12-07', '48 Hrs.'],\n",
       "       [2.0, '2003-08-31', 'Lost in Translation'],\n",
       "       [1.5, '1989-06-09', 'Star Trek V: The Final Frontier'],\n",
       "       [1.0, '1954-12-23', '20,000 Leagues Under the Sea'],\n",
       "       [1.5, '1994-11-17', 'Star Trek: Generations'],\n",
       "       [1.5, '1990-05-25', 'Back to the Future Part III'],\n",
       "       [2.5, '1942-03-05', 'To Be or Not to Be'],\n",
       "       [2.0, nan, nan],\n",
       "       [3.0, '1974-03-05', 'Ali: Fear Eats the Soul'],\n",
       "       [2.0, '1984-10-26', 'The Terminator'],\n",
       "       [1.5, '1940-04-12', 'Rebecca'],\n",
       "       [4.0, '2005-11-23', 'Syriana'],\n",
       "       [3.0, '2005-09-23', 'Oliver Twist'],\n",
       "       [5.0, '1935-06-01', 'The 39 Steps'],\n",
       "       [4.0, '1952-03-27', 'High Noon'],\n",
       "       [2.0, '2005-09-12', \"Dave Chappelle's Block Party\"],\n",
       "       [4.5, '2003-07-02', 'Terminator 3: Rise of the Machines'],\n",
       "       [2.5, '2002-02-12', 'Grill Point'],\n",
       "       [1.0, '2000-09-09', 'Brother'],\n",
       "       [4.0, '1999-08-26', 'Bang, Boom, Bang'],\n",
       "       [2.0, nan, nan],\n",
       "       [4.0, nan, nan],\n",
       "       [3.0, '1992-06-19', 'Batman Returns'],\n",
       "       [1.0, nan, nan],\n",
       "       [2.0, nan, nan],\n",
       "       [2.0, '1984-11-14', 'A Nightmare on Elm Street'],\n",
       "       [1.0, nan, nan],\n",
       "       [2.0, nan, nan],\n",
       "       [1.5, nan, nan],\n",
       "       [3.5, '2001-08-30', 'Monsoon Wedding'],\n",
       "       [3.0, '2003-09-07', 'Love Actually'],\n",
       "       [1.5, nan, nan],\n",
       "       [4.0, '1994-09-02', 'Once Were Warriors'],\n",
       "       [1.0, '2005-12-23', 'Transamerica'],\n",
       "       [4.5, nan, nan],\n",
       "       [3.0, '1974-04-07', 'The Conversation'],\n",
       "       [3.0, '1997-11-18', 'Titanic'],\n",
       "       [2.0, '2005-07-14', 'Final Fantasy VII: Advent Children'],\n",
       "       [3.0, '1946-10-29', 'Beauty and the Beast'],\n",
       "       [1.5, '1922-03-15', 'Nosferatu'],\n",
       "       [2.0, nan, nan],\n",
       "       [2.5, nan, nan],\n",
       "       [1.0, '1975-03-13', 'Monty Python and the Holy Grail'],\n",
       "       [4.5, '1953-02-26', \"Monsieur  Hulot's Holiday\"],\n",
       "       [2.0, '1928-04-21', 'The Passion of Joan of Arc'],\n",
       "       [1.5, '1996-05-05', 'Kolya'],\n",
       "       [2.0, '2000-09-15', 'Almost Famous'],\n",
       "       [3.5, '1968-06-12', \"Rosemary's Baby\"],\n",
       "       [3.5, '1931-05-11', 'M'],\n",
       "       [2.5, '1981-06-26', 'Dragonslayer'],\n",
       "       [2.5, '2004-10-17', 'Finding Neverland'],\n",
       "       [1.5, '1995-09-12', \"Antonia's Line\"],\n",
       "       [2.5, nan, nan],\n",
       "       [2.5, nan, nan],\n",
       "       [2.5, '1991-07-12', 'Point Break'],\n",
       "       [1.5, '1982-06-25', 'The Thing'],\n",
       "       [3.0, nan, nan],\n",
       "       [2.0, nan, nan],\n",
       "       [3.5, nan, nan],\n",
       "       [1.5, nan, nan],\n",
       "       [4.5, nan, nan],\n",
       "       [4.5, nan, nan],\n",
       "       [2.5, nan, nan],\n",
       "       [3.5, nan, nan],\n",
       "       [4.5, nan, nan],\n",
       "       [0.5, nan, nan],\n",
       "       [3.0, nan, nan],\n",
       "       [3.0, nan, nan],\n",
       "       [2.5, '1991-10-01', 'A Brief History of Time'],\n",
       "       [2.0, '1958-11-19', 'Houseboat'],\n",
       "       [3.5, '2006-05-20', 'Shortbus'],\n",
       "       [3.5, '2005-07-27', 'The Cave of the Yellow Dog'],\n",
       "       [2.5, '1971-03-03', 'Get Carter'],\n",
       "       [1.5, '2005-06-11', 'Mongolian Ping Pong'],\n",
       "       [2.5, nan, nan],\n",
       "       [2.0, nan, nan],\n",
       "       [4.0, nan, nan],\n",
       "       [3.5, nan, nan],\n",
       "       [2.0, '2007-04-26', '28 Weeks Later'],\n",
       "       [2.0, '1948-08-23', 'Rope'],\n",
       "       [3.5, '2003-10-03', 'School of Rock'],\n",
       "       [3.0, '2000-10-06', 'Meet the Parents'],\n",
       "       [2.5, '1996-03-01', 'When Saturday Comes'],\n",
       "       [3.5, nan, nan],\n",
       "       [3.5, nan, nan],\n",
       "       [1.5, '1999-03-12', 'Forces of Nature'],\n",
       "       [2.0, '1993-02-05', 'The Vanishing'],\n",
       "       [1.0, '1996-07-24', 'A Time to Kill'],\n",
       "       [3.0, '2004-02-06', 'The Motorcycle Diaries'],\n",
       "       [1.0, '2005-05-13', 'Last Days'],\n",
       "       [1.5, '1967-12-19', 'Will Penny'],\n",
       "       [2.5, '1962-08-11', 'King Kong vs. Godzilla'],\n",
       "       [4.0, '1964-04-29', 'Mothra vs. Godzilla'],\n",
       "       [0.5, '1985-10-18', 'Re-Animator'],\n",
       "       [3.0, nan, nan],\n",
       "       [2.5, nan, nan],\n",
       "       [2.0, '2008-04-18', 'The Forbidden Kingdom'],\n",
       "       [1.0, nan, nan],\n",
       "       [3.0, nan, nan],\n",
       "       [4.0, '1994-10-01', 'Don Juan DeMarco'],\n",
       "       [1.5, '2003-12-24', 'Who Killed Bambi?'],\n",
       "       [2.5, '1992-06-03', 'Twin Peaks: Fire Walk with Me'],\n",
       "       [3.5, '2007-10-01', 'My Name Is Bruce'],\n",
       "       [2.5, '1972-12-29', 'Aguirre: The Wrath of God'],\n",
       "       [2.5, '2004-01-28', 'Anatomy of Hell'],\n",
       "       [2.5, '1992-05-28', 'Sister Act'],\n",
       "       [3.5, '2007-05-23', 'Persepolis'],\n",
       "       [2.5, '2007-10-02', 'Silent Light'],\n",
       "       [2.0, '1989-04-14', 'Say Anything...'],\n",
       "       [1.5, '1995-12-29', \"Mr. Holland's Opus\"],\n",
       "       [0.5, '2007-08-31', 'Halloween'],\n",
       "       [3.5, '2003-10-03', 'Out of Time'],\n",
       "       [2.0, '1973-03-14', 'The Legend of Paul and Paula'],\n",
       "       [2.5, nan, nan],\n",
       "       [3.0, '1980-06-06', \"Teheran '43\"],\n",
       "       [2.0, nan, nan],\n",
       "       [2.0, nan, nan],\n",
       "       [1.5, nan, nan],\n",
       "       [2.5, nan, nan],\n",
       "       [2.0, nan, nan],\n",
       "       [3.0, '1967-03-08', 'The Young Girls of Rochefort'],\n",
       "       [2.0, '1983-08-10', 'Confidentially Yours'],\n",
       "       [2.0, '1989-12-12', 'Tie Me Up! Tie Me Down!'],\n",
       "       [1.5, '2004-08-07', 'Nobody Knows'],\n",
       "       [2.5, nan, nan],\n",
       "       [2.5, '2004-12-17', 'The Aviator'],\n",
       "       [3.0, nan, nan],\n",
       "       [1.5, '1986-05-09', 'Short Circuit'],\n",
       "       [1.0, '1989-08-16', 'Uncle Buck'],\n",
       "       [2.5, '1988-06-17', 'The Great Outdoors'],\n",
       "       [2.5, nan, nan],\n",
       "       [3.5, '1988-10-01', 'Heathers'],\n",
       "       [0.5, '1998-09-17', 'Pleasantville'],\n",
       "       [3.0, nan, nan],\n",
       "       [1.5, '1996-11-17', 'Titanic'],\n",
       "       [1.5, nan, nan],\n",
       "       [2.0, nan, nan],\n",
       "       [3.0, nan, nan],\n",
       "       [3.5, nan, nan],\n",
       "       [1.5, '2002-04-27', 'The Other Side of the Bed'],\n",
       "       [2.0, nan, nan],\n",
       "       [4.5, '1937-11-01', 'Young and Innocent'],\n",
       "       [3.0, nan, nan],\n",
       "       [3.5, nan, nan],\n",
       "       [2.0, nan, nan],\n",
       "       [2.0, nan, nan],\n",
       "       [2.5, nan, nan],\n",
       "       [3.0, '2000-01-27', 'André Hazes, Zij Gelooft in Mij'],\n",
       "       [3.0, nan, nan],\n",
       "       [3.5, nan, nan],\n",
       "       [3.5, '2007-07-04', 'License to Wed'],\n",
       "       [3.0, nan, nan],\n",
       "       [2.0, nan, nan],\n",
       "       [4.0, nan, nan],\n",
       "       [2.0, nan, nan],\n",
       "       [4.0, '1998-01-21', 'Gods and Monsters'],\n",
       "       [2.5, nan, nan],\n",
       "       [2.0, '1965-08-08', 'Frankenstein Conquers the World'],\n",
       "       [3.5, nan, nan],\n",
       "       [2.5, '2000-01-29', 'Beat'],\n",
       "       [2.5, nan, nan],\n",
       "       [2.5, nan, nan],\n",
       "       [2.5, nan, nan],\n",
       "       [2.5, nan, nan],\n",
       "       [1.0, nan, nan],\n",
       "       [2.0, nan, nan],\n",
       "       [2.5, nan, nan],\n",
       "       [1.5, nan, nan],\n",
       "       [1.5, nan, nan],\n",
       "       [4.0, nan, nan],\n",
       "       [3.0, '2005-05-19', \"Don't Come Knocking\"],\n",
       "       [3.0, nan, nan],\n",
       "       [2.0, nan, nan],\n",
       "       [4.0, '1933-10-26', 'The Tunnel'],\n",
       "       [1.0, nan, nan],\n",
       "       [1.0, nan, nan],\n",
       "       [0.5, nan, nan],\n",
       "       [1.0, nan, nan],\n",
       "       [1.5, nan, nan],\n",
       "       [3.5, nan, nan],\n",
       "       [2.0, nan, nan],\n",
       "       [2.5, nan, nan],\n",
       "       [2.0, nan, nan],\n",
       "       [2.0, nan, nan],\n",
       "       [2.0, nan, nan],\n",
       "       [1.0, nan, nan],\n",
       "       [2.5, nan, nan],\n",
       "       [3.0, nan, nan],\n",
       "       [3.5, '1988-02-29', 'Beetlejuice'],\n",
       "       [2.5, nan, nan],\n",
       "       [4.5, '2000-10-17',\n",
       "        'Shriek If You Know What I Did Last Friday the Thirteenth'],\n",
       "       [2.0, nan, nan],\n",
       "       [2.5, nan, nan],\n",
       "       [3.0, nan, nan],\n",
       "       [2.5, nan, nan],\n",
       "       [2.5, nan, nan],\n",
       "       [2.5, nan, nan],\n",
       "       [3.0, nan, nan],\n",
       "       [2.5, '2006-11-29', 'Nichts als Gespenster'],\n",
       "       [3.0, nan, nan],\n",
       "       [4.5, '1968-07-28', '5 Card Stud'],\n",
       "       [3.5, '1966-03-01', 'Carry On Cowboy'],\n",
       "       [2.5, nan, nan],\n",
       "       [2.5, nan, nan],\n",
       "       [4.5, nan, nan],\n",
       "       [3.5, nan, nan],\n",
       "       [3.5, nan, nan],\n",
       "       [3.5, nan, nan],\n",
       "       [3.5, nan, nan],\n",
       "       [1.5, nan, nan],\n",
       "       [3.5, nan, nan],\n",
       "       [3.0, nan, nan],\n",
       "       [3.5, nan, nan],\n",
       "       [3.5, nan, nan],\n",
       "       [3.5, '2007-08-27', 'The Orphanage'],\n",
       "       [3.0, nan, nan],\n",
       "       [1.0, nan, nan],\n",
       "       [2.0, '1995-03-10', 'Outbreak'],\n",
       "       [2.0, nan, nan],\n",
       "       [4.0, nan, nan],\n",
       "       [1.5, nan, nan],\n",
       "       [3.0, nan, nan],\n",
       "       [3.5, '2002-07-19', 'K-19: The Widowmaker']], dtype=object)"
      ]
     },
     "execution_count": 52,
     "metadata": {},
     "output_type": "execute_result"
    }
   ],
   "source": [
    "ratings[ratings['userId'] == user_id][['rating', 'release_date', 'title']].values"
   ]
  },
  {
   "cell_type": "code",
   "execution_count": 26,
   "metadata": {},
   "outputs": [
    {
     "data": {
      "text/html": [
       "<div>\n",
       "<style scoped>\n",
       "    .dataframe tbody tr th:only-of-type {\n",
       "        vertical-align: middle;\n",
       "    }\n",
       "\n",
       "    .dataframe tbody tr th {\n",
       "        vertical-align: top;\n",
       "    }\n",
       "\n",
       "    .dataframe thead th {\n",
       "        text-align: right;\n",
       "    }\n",
       "</style>\n",
       "<table border=\"1\" class=\"dataframe\">\n",
       "  <thead>\n",
       "    <tr style=\"text-align: right;\">\n",
       "      <th></th>\n",
       "      <th>userId</th>\n",
       "      <th>movieId</th>\n",
       "      <th>rating</th>\n",
       "      <th>release_date</th>\n",
       "      <th>title</th>\n",
       "    </tr>\n",
       "  </thead>\n",
       "  <tbody>\n",
       "    <tr>\n",
       "      <th>978570</th>\n",
       "      <td>10002</td>\n",
       "      <td>2</td>\n",
       "      <td>3.5</td>\n",
       "      <td>1988-10-21</td>\n",
       "      <td>Ariel</td>\n",
       "    </tr>\n",
       "    <tr>\n",
       "      <th>978571</th>\n",
       "      <td>10002</td>\n",
       "      <td>3</td>\n",
       "      <td>1.5</td>\n",
       "      <td>1986-10-16</td>\n",
       "      <td>Shadows in Paradise</td>\n",
       "    </tr>\n",
       "    <tr>\n",
       "      <th>978572</th>\n",
       "      <td>10002</td>\n",
       "      <td>19</td>\n",
       "      <td>2.0</td>\n",
       "      <td>1927-01-10</td>\n",
       "      <td>Metropolis</td>\n",
       "    </tr>\n",
       "    <tr>\n",
       "      <th>978573</th>\n",
       "      <td>10002</td>\n",
       "      <td>24</td>\n",
       "      <td>2.5</td>\n",
       "      <td>2003-10-10</td>\n",
       "      <td>Kill Bill: Vol. 1</td>\n",
       "    </tr>\n",
       "    <tr>\n",
       "      <th>978574</th>\n",
       "      <td>10002</td>\n",
       "      <td>32</td>\n",
       "      <td>4.5</td>\n",
       "      <td>NaN</td>\n",
       "      <td>NaN</td>\n",
       "    </tr>\n",
       "    <tr>\n",
       "      <th>978575</th>\n",
       "      <td>10002</td>\n",
       "      <td>44</td>\n",
       "      <td>2.0</td>\n",
       "      <td>NaN</td>\n",
       "      <td>NaN</td>\n",
       "    </tr>\n",
       "    <tr>\n",
       "      <th>978576</th>\n",
       "      <td>10002</td>\n",
       "      <td>47</td>\n",
       "      <td>4.0</td>\n",
       "      <td>NaN</td>\n",
       "      <td>NaN</td>\n",
       "    </tr>\n",
       "    <tr>\n",
       "      <th>978577</th>\n",
       "      <td>10002</td>\n",
       "      <td>95</td>\n",
       "      <td>1.5</td>\n",
       "      <td>1998-07-01</td>\n",
       "      <td>Armageddon</td>\n",
       "    </tr>\n",
       "    <tr>\n",
       "      <th>978578</th>\n",
       "      <td>10002</td>\n",
       "      <td>104</td>\n",
       "      <td>2.0</td>\n",
       "      <td>1998-08-20</td>\n",
       "      <td>Run Lola Run</td>\n",
       "    </tr>\n",
       "    <tr>\n",
       "      <th>978579</th>\n",
       "      <td>10002</td>\n",
       "      <td>110</td>\n",
       "      <td>3.0</td>\n",
       "      <td>1994-05-27</td>\n",
       "      <td>Three Colors: Red</td>\n",
       "    </tr>\n",
       "    <tr>\n",
       "      <th>978580</th>\n",
       "      <td>10002</td>\n",
       "      <td>122</td>\n",
       "      <td>1.5</td>\n",
       "      <td>2003-12-01</td>\n",
       "      <td>The Lord of the Rings: The Return of the King</td>\n",
       "    </tr>\n",
       "    <tr>\n",
       "      <th>978581</th>\n",
       "      <td>10002</td>\n",
       "      <td>145</td>\n",
       "      <td>2.5</td>\n",
       "      <td>1996-05-13</td>\n",
       "      <td>Breaking the Waves</td>\n",
       "    </tr>\n",
       "    <tr>\n",
       "      <th>978582</th>\n",
       "      <td>10002</td>\n",
       "      <td>150</td>\n",
       "      <td>3.0</td>\n",
       "      <td>1982-12-07</td>\n",
       "      <td>48 Hrs.</td>\n",
       "    </tr>\n",
       "    <tr>\n",
       "      <th>978583</th>\n",
       "      <td>10002</td>\n",
       "      <td>153</td>\n",
       "      <td>2.0</td>\n",
       "      <td>2003-08-31</td>\n",
       "      <td>Lost in Translation</td>\n",
       "    </tr>\n",
       "    <tr>\n",
       "      <th>978584</th>\n",
       "      <td>10002</td>\n",
       "      <td>172</td>\n",
       "      <td>1.5</td>\n",
       "      <td>1989-06-09</td>\n",
       "      <td>Star Trek V: The Final Frontier</td>\n",
       "    </tr>\n",
       "    <tr>\n",
       "      <th>978585</th>\n",
       "      <td>10002</td>\n",
       "      <td>173</td>\n",
       "      <td>1.0</td>\n",
       "      <td>1954-12-23</td>\n",
       "      <td>20,000 Leagues Under the Sea</td>\n",
       "    </tr>\n",
       "    <tr>\n",
       "      <th>978586</th>\n",
       "      <td>10002</td>\n",
       "      <td>193</td>\n",
       "      <td>1.5</td>\n",
       "      <td>1994-11-17</td>\n",
       "      <td>Star Trek: Generations</td>\n",
       "    </tr>\n",
       "    <tr>\n",
       "      <th>978587</th>\n",
       "      <td>10002</td>\n",
       "      <td>196</td>\n",
       "      <td>1.5</td>\n",
       "      <td>1990-05-25</td>\n",
       "      <td>Back to the Future Part III</td>\n",
       "    </tr>\n",
       "    <tr>\n",
       "      <th>978588</th>\n",
       "      <td>10002</td>\n",
       "      <td>198</td>\n",
       "      <td>2.5</td>\n",
       "      <td>1942-03-05</td>\n",
       "      <td>To Be or Not to Be</td>\n",
       "    </tr>\n",
       "    <tr>\n",
       "      <th>978589</th>\n",
       "      <td>10002</td>\n",
       "      <td>208</td>\n",
       "      <td>2.0</td>\n",
       "      <td>NaN</td>\n",
       "      <td>NaN</td>\n",
       "    </tr>\n",
       "  </tbody>\n",
       "</table>\n",
       "</div>"
      ],
      "text/plain": [
       "        userId  movieId  rating release_date  \\\n",
       "978570   10002        2     3.5   1988-10-21   \n",
       "978571   10002        3     1.5   1986-10-16   \n",
       "978572   10002       19     2.0   1927-01-10   \n",
       "978573   10002       24     2.5   2003-10-10   \n",
       "978574   10002       32     4.5          NaN   \n",
       "978575   10002       44     2.0          NaN   \n",
       "978576   10002       47     4.0          NaN   \n",
       "978577   10002       95     1.5   1998-07-01   \n",
       "978578   10002      104     2.0   1998-08-20   \n",
       "978579   10002      110     3.0   1994-05-27   \n",
       "978580   10002      122     1.5   2003-12-01   \n",
       "978581   10002      145     2.5   1996-05-13   \n",
       "978582   10002      150     3.0   1982-12-07   \n",
       "978583   10002      153     2.0   2003-08-31   \n",
       "978584   10002      172     1.5   1989-06-09   \n",
       "978585   10002      173     1.0   1954-12-23   \n",
       "978586   10002      193     1.5   1994-11-17   \n",
       "978587   10002      196     1.5   1990-05-25   \n",
       "978588   10002      198     2.5   1942-03-05   \n",
       "978589   10002      208     2.0          NaN   \n",
       "\n",
       "                                                title  \n",
       "978570                                          Ariel  \n",
       "978571                            Shadows in Paradise  \n",
       "978572                                     Metropolis  \n",
       "978573                              Kill Bill: Vol. 1  \n",
       "978574                                            NaN  \n",
       "978575                                            NaN  \n",
       "978576                                            NaN  \n",
       "978577                                     Armageddon  \n",
       "978578                                   Run Lola Run  \n",
       "978579                              Three Colors: Red  \n",
       "978580  The Lord of the Rings: The Return of the King  \n",
       "978581                             Breaking the Waves  \n",
       "978582                                        48 Hrs.  \n",
       "978583                            Lost in Translation  \n",
       "978584                Star Trek V: The Final Frontier  \n",
       "978585                   20,000 Leagues Under the Sea  \n",
       "978586                         Star Trek: Generations  \n",
       "978587                    Back to the Future Part III  \n",
       "978588                             To Be or Not to Be  \n",
       "978589                                            NaN  "
      ]
     },
     "execution_count": 26,
     "metadata": {},
     "output_type": "execute_result"
    }
   ],
   "source": [
    "ratings[ratings['userId'] == user_id].head(20)"
   ]
  },
  {
   "cell_type": "code",
   "execution_count": 54,
   "metadata": {},
   "outputs": [
    {
     "data": {
      "text/html": [
       "<div>\n",
       "<style scoped>\n",
       "    .dataframe tbody tr th:only-of-type {\n",
       "        vertical-align: middle;\n",
       "    }\n",
       "\n",
       "    .dataframe tbody tr th {\n",
       "        vertical-align: top;\n",
       "    }\n",
       "\n",
       "    .dataframe thead th {\n",
       "        text-align: right;\n",
       "    }\n",
       "</style>\n",
       "<table border=\"1\" class=\"dataframe\">\n",
       "  <thead>\n",
       "    <tr style=\"text-align: right;\">\n",
       "      <th></th>\n",
       "      <th>id</th>\n",
       "      <th>release_date</th>\n",
       "      <th>title</th>\n",
       "    </tr>\n",
       "  </thead>\n",
       "  <tbody>\n",
       "    <tr>\n",
       "      <th>151</th>\n",
       "      <td>649</td>\n",
       "      <td>1967-05-24</td>\n",
       "      <td>Belle de Jour</td>\n",
       "    </tr>\n",
       "    <tr>\n",
       "      <th>459</th>\n",
       "      <td>2019</td>\n",
       "      <td>1993-08-20</td>\n",
       "      <td>Hard Target</td>\n",
       "    </tr>\n",
       "    <tr>\n",
       "      <th>534</th>\n",
       "      <td>858</td>\n",
       "      <td>1993-06-24</td>\n",
       "      <td>Sleepless in Seattle</td>\n",
       "    </tr>\n",
       "    <tr>\n",
       "      <th>700</th>\n",
       "      <td>922</td>\n",
       "      <td>1995-12-23</td>\n",
       "      <td>Dead Man</td>\n",
       "    </tr>\n",
       "    <tr>\n",
       "      <th>1162</th>\n",
       "      <td>947</td>\n",
       "      <td>1962-12-10</td>\n",
       "      <td>Lawrence of Arabia</td>\n",
       "    </tr>\n",
       "    <tr>\n",
       "      <th>1242</th>\n",
       "      <td>665</td>\n",
       "      <td>1959-12-26</td>\n",
       "      <td>Ben-Hur</td>\n",
       "    </tr>\n",
       "    <tr>\n",
       "      <th>2649</th>\n",
       "      <td>912</td>\n",
       "      <td>1968-06-19</td>\n",
       "      <td>The Thomas Crown Affair</td>\n",
       "    </tr>\n",
       "    <tr>\n",
       "      <th>2827</th>\n",
       "      <td>2731</td>\n",
       "      <td>1992-04-15</td>\n",
       "      <td>Indochine</td>\n",
       "    </tr>\n",
       "    <tr>\n",
       "      <th>3058</th>\n",
       "      <td>926</td>\n",
       "      <td>1999-12-23</td>\n",
       "      <td>Galaxy Quest</td>\n",
       "    </tr>\n",
       "    <tr>\n",
       "      <th>3708</th>\n",
       "      <td>2360</td>\n",
       "      <td>2000-01-24</td>\n",
       "      <td>Saving Grace</td>\n",
       "    </tr>\n",
       "    <tr>\n",
       "      <th>4020</th>\n",
       "      <td>318</td>\n",
       "      <td>2000-02-09</td>\n",
       "      <td>The Million Dollar Hotel</td>\n",
       "    </tr>\n",
       "    <tr>\n",
       "      <th>4551</th>\n",
       "      <td>7091</td>\n",
       "      <td>1988-09-17</td>\n",
       "      <td>Vampire's Kiss</td>\n",
       "    </tr>\n",
       "    <tr>\n",
       "      <th>6312</th>\n",
       "      <td>6643</td>\n",
       "      <td>1960-01-01</td>\n",
       "      <td>The Unforgiven</td>\n",
       "    </tr>\n",
       "    <tr>\n",
       "      <th>6918</th>\n",
       "      <td>3089</td>\n",
       "      <td>1948-08-26</td>\n",
       "      <td>Red River</td>\n",
       "    </tr>\n",
       "    <tr>\n",
       "      <th>7560</th>\n",
       "      <td>26326</td>\n",
       "      <td>1979-08-24</td>\n",
       "      <td>Rock 'n' Roll High School</td>\n",
       "    </tr>\n",
       "    <tr>\n",
       "      <th>8737</th>\n",
       "      <td>5618</td>\n",
       "      <td>1975-11-19</td>\n",
       "      <td>Cousin, Cousine</td>\n",
       "    </tr>\n",
       "    <tr>\n",
       "      <th>15188</th>\n",
       "      <td>42217</td>\n",
       "      <td>1977-09-27</td>\n",
       "      <td>Bobby Deerfield</td>\n",
       "    </tr>\n",
       "    <tr>\n",
       "      <th>20037</th>\n",
       "      <td>84187</td>\n",
       "      <td>2012-11-09</td>\n",
       "      <td>The Comedy</td>\n",
       "    </tr>\n",
       "    <tr>\n",
       "      <th>21432</th>\n",
       "      <td>26158</td>\n",
       "      <td>1966-06-22</td>\n",
       "      <td>Around the World Under the Sea</td>\n",
       "    </tr>\n",
       "    <tr>\n",
       "      <th>37199</th>\n",
       "      <td>65188</td>\n",
       "      <td>2001-11-06</td>\n",
       "      <td>Leben nach Microsoft</td>\n",
       "    </tr>\n",
       "  </tbody>\n",
       "</table>\n",
       "</div>"
      ],
      "text/plain": [
       "          id release_date                           title\n",
       "151      649   1967-05-24                   Belle de Jour\n",
       "459     2019   1993-08-20                     Hard Target\n",
       "534      858   1993-06-24            Sleepless in Seattle\n",
       "700      922   1995-12-23                        Dead Man\n",
       "1162     947   1962-12-10              Lawrence of Arabia\n",
       "1242     665   1959-12-26                         Ben-Hur\n",
       "2649     912   1968-06-19         The Thomas Crown Affair\n",
       "2827    2731   1992-04-15                       Indochine\n",
       "3058     926   1999-12-23                    Galaxy Quest\n",
       "3708    2360   2000-01-24                    Saving Grace\n",
       "4020     318   2000-02-09        The Million Dollar Hotel\n",
       "4551    7091   1988-09-17                  Vampire's Kiss\n",
       "6312    6643   1960-01-01                  The Unforgiven\n",
       "6918    3089   1948-08-26                       Red River\n",
       "7560   26326   1979-08-24       Rock 'n' Roll High School\n",
       "8737    5618   1975-11-19                 Cousin, Cousine\n",
       "15188  42217   1977-09-27                 Bobby Deerfield\n",
       "20037  84187   2012-11-09                      The Comedy\n",
       "21432  26158   1966-06-22  Around the World Under the Sea\n",
       "37199  65188   2001-11-06            Leben nach Microsoft"
      ]
     },
     "execution_count": 54,
     "metadata": {},
     "output_type": "execute_result"
    }
   ],
   "source": [
    "movies_metadata[movies_metadata['id'].isin(rec_movie_ids)].head(20)"
   ]
  },
  {
   "cell_type": "code",
   "execution_count": 29,
   "metadata": {},
   "outputs": [],
   "source": [
    "movie_agg = ratings.groupby(by='movieId').agg({\n",
    "    'userId': 'count',\n",
    "    'rating': 'mean'\n",
    "})\n",
    "movie_agg.columns = ['num_ratings', 'mean_rating']\n",
    "movie_agg = movie_agg.reset_indext_index()"
   ]
  },
  {
   "cell_type": "code",
   "execution_count": 32,
   "metadata": {},
   "outputs": [],
   "source": [
    "import seaborn as sns"
   ]
  },
  {
   "cell_type": "code",
   "execution_count": 36,
   "metadata": {},
   "outputs": [
    {
     "name": "stderr",
     "output_type": "stream",
     "text": [
      "c:\\users\\admin\\appdata\\local\\programs\\python\\python38\\lib\\site-packages\\seaborn\\distributions.py:2551: FutureWarning: `distplot` is a deprecated function and will be removed in a future version. Please adapt your code to use either `displot` (a figure-level function with similar flexibility) or `histplot` (an axes-level function for histograms).\n",
      "  warnings.warn(msg, FutureWarning)\n"
     ]
    },
    {
     "data": {
      "text/plain": [
       "<matplotlib.axes._subplots.AxesSubplot at 0x1e28708ca60>"
      ]
     },
     "execution_count": 36,
     "metadata": {},
     "output_type": "execute_result"
    },
    {
     "data": {
      "image/png": "[encoded data removed]",
      "text/plain": [
       "<Figure size 432x288 with 1 Axes>"
      ]
     },
     "metadata": {
      "needs_background": "light"
     },
     "output_type": "display_data"
    }
   ],
   "source": [
    "sns.distplot(movie_agg[movie_agg['num_ratings'] < 2000]['num_ratings'])"
   ]
  },
  {
   "cell_type": "code",
   "execution_count": 42,
   "metadata": {},
   "outputs": [
    {
     "data": {
      "text/plain": [
       "(3745, 3)"
      ]
     },
     "execution_count": 42,
     "metadata": {},
     "output_type": "execute_result"
    }
   ],
   "source": [
    "movie_agg[movie_agg['num_ratings'] > 1000].shape"
   ]
  },
  {
   "cell_type": "code",
   "execution_count": 43,
   "metadata": {},
   "outputs": [],
   "source": [
    "movie_agg = movie_agg[movie_agg['num_ratings'] > 1000]\n",
    "movie_agg = movie_agg.sort_values(by='mean_rating', ascending=False)\n",
    "top_movies_id = list(movie_agg[:200]['movieId'])"
   ]
  },
  {
   "cell_type": "code",
   "execution_count": 45,
   "metadata": {},
   "outputs": [],
   "source": []
  },
  {
   "cell_type": "code",
   "execution_count": 46,
   "metadata": {},
   "outputs": [],
   "source": []
  },
  {
   "cell_type": "code",
   "execution_count": 47,
   "metadata": {},
   "outputs": [
    {
     "data": {
      "text/plain": [
       "[318,\n",
       " 858,\n",
       " 50,\n",
       " 527,\n",
       " 1221,\n",
       " 2019,\n",
       " 904,\n",
       " 1203,\n",
       " 2959,\n",
       " 1193,\n",
       " 912,\n",
       " 750,\n",
       " 1212,\n",
       " 908,\n",
       " 1178,\n",
       " 3435,\n",
       " 5618,\n",
       " 922,\n",
       " 44555,\n",
       " 6016,\n",
       " 58559,\n",
       " 3030,\n",
       " 1213,\n",
       " 926,\n",
       " 296,\n",
       " 930,\n",
       " 2324,\n",
       " 1284,\n",
       " 1260,\n",
       " 79132,\n",
       " 1252,\n",
       " 1207,\n",
       " 1248,\n",
       " 4226,\n",
       " 1136,\n",
       " 2571,\n",
       " 593,\n",
       " 950,\n",
       " 5971,\n",
       " 1234,\n",
       " 1217,\n",
       " 2329,\n",
       " 1196,\n",
       " 913,\n",
       " 905,\n",
       " 3134,\n",
       " 1148,\n",
       " 1198,\n",
       " 1945,\n",
       " 2203,\n",
       " 260,\n",
       " 1147,\n",
       " 1197,\n",
       " 2858,\n",
       " 5291,\n",
       " 4973,\n",
       " 1254,\n",
       " 86504,\n",
       " 2186,\n",
       " 2920,\n",
       " 1172,\n",
       " 541,\n",
       " 92259,\n",
       " 903,\n",
       " 112552,\n",
       " 1201,\n",
       " 48516,\n",
       " 3307,\n",
       " 6669,\n",
       " 1204,\n",
       " 1280,\n",
       " 3089,\n",
       " 3000,\n",
       " 745,\n",
       " 3022,\n",
       " 898,\n",
       " 1949,\n",
       " 116897,\n",
       " 7153,\n",
       " 2731,\n",
       " 2351,\n",
       " 1131,\n",
       " 1208,\n",
       " 1209,\n",
       " 1233,\n",
       " 608,\n",
       " 7327,\n",
       " 1262,\n",
       " 4993,\n",
       " 3429,\n",
       " 2905,\n",
       " 951,\n",
       " 2859,\n",
       " 3462,\n",
       " 98491,\n",
       " 2935,\n",
       " 923,\n",
       " 2360,\n",
       " 1224,\n",
       " 1189,\n",
       " 1267,\n",
       " 5690,\n",
       " 1089,\n",
       " 111,\n",
       " 1237,\n",
       " 1256,\n",
       " 109487,\n",
       " 5147,\n",
       " 3468,\n",
       " 326,\n",
       " 3196,\n",
       " 1939,\n",
       " 1250,\n",
       " 7156,\n",
       " 2357,\n",
       " 1276,\n",
       " 293,\n",
       " 5952,\n",
       " 48780,\n",
       " 2066,\n",
       " 7361,\n",
       " 142488,\n",
       " 928,\n",
       " 5008,\n",
       " 3819,\n",
       " 678,\n",
       " 31658,\n",
       " 1132,\n",
       " 942,\n",
       " 7099,\n",
       " 47,\n",
       " 1704,\n",
       " 3677,\n",
       " 1361,\n",
       " 27773,\n",
       " 1617,\n",
       " 969,\n",
       " 3469,\n",
       " 1219,\n",
       " 2726,\n",
       " 5782,\n",
       " 1225,\n",
       " 800,\n",
       " 2208,\n",
       " 4011,\n",
       " 3090,\n",
       " 3629,\n",
       " 306,\n",
       " 916,\n",
       " 1299,\n",
       " 3470,\n",
       " 6350,\n",
       " 1232,\n",
       " 1228,\n",
       " 7766,\n",
       " 2028,\n",
       " 356,\n",
       " 3730,\n",
       " 1950,\n",
       " 3077,\n",
       " 1281,\n",
       " 134130,\n",
       " 1214,\n",
       " 5995,\n",
       " 2936,\n",
       " 3035,\n",
       " 1230,\n",
       " 26131,\n",
       " 1041,\n",
       " 96829,\n",
       " 1283,\n",
       " 1218,\n",
       " 911,\n",
       " 214,\n",
       " 945,\n",
       " 1247,\n",
       " 3091,\n",
       " 28,\n",
       " 1222,\n",
       " 4427,\n",
       " 720,\n",
       " 3983,\n",
       " 947,\n",
       " 910,\n",
       " 2132,\n",
       " 1304,\n",
       " 906,\n",
       " 213,\n",
       " 4144,\n",
       " 1244,\n",
       " 1236,\n",
       " 899,\n",
       " 1303,\n",
       " 955,\n",
       " 6787,\n",
       " 2843,\n",
       " 909,\n",
       " 3811,\n",
       " 232,\n",
       " 7256]"
      ]
     },
     "execution_count": 47,
     "metadata": {},
     "output_type": "execute_result"
    }
   ],
   "source": [
    "top_movies_id"
   ]
  },
  {
   "cell_type": "code",
   "execution_count": null,
   "metadata": {},
   "outputs": [],
   "source": []
  },
  {
   "cell_type": "code",
   "execution_count": null,
   "metadata": {},
   "outputs": [],
   "source": []
  },
  {
   "cell_type": "code",
   "execution_count": 27,
   "metadata": {},
   "outputs": [
    {
     "data": {
      "text/plain": [
       "Index(['userId', 'movieId', 'rating', 'release_date', 'title'], dtype='object')"
      ]
     },
     "execution_count": 27,
     "metadata": {},
     "output_type": "execute_result"
    }
   ],
   "source": [
    "ratings.columns"
   ]
  },
  {
   "cell_type": "code",
   "execution_count": null,
   "metadata": {},
   "outputs": [],
   "source": []
  },
  {
   "cell_type": "code",
   "execution_count": null,
   "metadata": {},
   "outputs": [],
   "source": []
  },
  {
   "cell_type": "code",
   "execution_count": null,
   "metadata": {},
   "outputs": [],
   "source": []
  },
  {
   "cell_type": "code",
   "execution_count": null,
   "metadata": {},
   "outputs": [],
   "source": []
  },
  {
   "cell_type": "code",
   "execution_count": null,
   "metadata": {},
   "outputs": [],
   "source": []
  },
  {
   "cell_type": "code",
   "execution_count": null,
   "metadata": {},
   "outputs": [],
   "source": []
  },
  {
   "cell_type": "code",
   "execution_count": null,
   "metadata": {},
   "outputs": [],
   "source": []
  }
 ],
 "metadata": {
  "kernelspec": {
   "display_name": "Python 3",
   "language": "python",
   "name": "python3"
  },
  "language_info": {
   "codemirror_mode": {
    "name": "ipython",
    "version": 3
   },
   "file_extension": ".py",
   "mimetype": "text/x-python",
   "name": "python",
   "nbconvert_exporter": "python",
   "pygments_lexer": "ipython3",
   "version": "3.8.0"
  }
 },
 "nbformat": 4,
 "nbformat_minor": 4
}
