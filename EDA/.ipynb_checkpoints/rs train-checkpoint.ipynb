{
 "cells": [
  {
   "cell_type": "code",
   "execution_count": 1,
   "metadata": {},
   "outputs": [],
   "source": [
    "import tensorflow as tf\n",
    "from tensorflow.keras import Model\n",
    "import numpy as np\n",
    "from tensorflow.keras.initializers import TruncatedNormal\n",
    "from tqdm import tqdm\n",
    "from time import time\n",
    "import pandas as pd\n",
    "import numpy as np\n",
    "import pickle\n",
    "import pandas as pd\n",
    "from tqdm import tqdm\n",
    "import seaborn as sns\n",
    "import matplotlib.pyplot as plt"
   ]
  },
  {
   "cell_type": "code",
   "execution_count": 2,
   "metadata": {},
   "outputs": [],
   "source": [
    "# base_folder = 'F:\\\\Projects\\\\train\\\\episerver\\\\data\\\\rs\\\\'\n",
    "# base_folder = 'E:\\\\Projects\\\\Train\\\\episerver\\\\data\\\\rs\\\\'\n",
    "model_folder = 'E:\\\\Projects\\\\Train\\\\episerver\\\\model\\\\rs\\\\'"
   ]
  },
  {
   "cell_type": "code",
   "execution_count": 3,
   "metadata": {},
   "outputs": [],
   "source": [
    "gpus = tf.config.experimental.list_physical_devices('GPU')\n",
    "if gpus.__len__() > 0:\n",
    "    tf.config.experimental.set_visible_devices(gpus[1], 'GPU')"
   ]
  },
  {
   "cell_type": "code",
   "execution_count": 4,
   "metadata": {},
   "outputs": [],
   "source": [
    "class DataSet:\n",
    "\n",
    "    def __init__(self, ratings, batch_size=128):\n",
    "        self.ratings = ratings\n",
    "        self.batch_size = batch_size\n",
    "        self.num_batch = self.ratings.shape[0] // self.batch_size\n",
    "\n",
    "    def shuffle(self):\n",
    "        np.random.shuffle(self.ratings)\n",
    "\n",
    "    def get_batch(self, i):\n",
    "        user_ids = self.ratings[i * self.batch_size: (i + 1) * self.batch_size, 0]\n",
    "        item_ids = self.ratings[i * self.batch_size: (i + 1) * self.batch_size, 1]\n",
    "        rates = self.ratings[i * self.batch_size: (i + 1) * self.batch_size, 2]\n",
    "        return (np.array(user_ids, dtype=np.int32),\n",
    "                np.array(item_ids, dtype=np.int32),\n",
    "                np.array(rates, dtype=np.float32))"
   ]
  },
  {
   "cell_type": "markdown",
   "metadata": {},
   "source": [
    "#### model without item_bias"
   ]
  },
  {
   "cell_type": "code",
   "execution_count": 5,
   "metadata": {},
   "outputs": [],
   "source": [
    "class RSModel(Model):\n",
    "\n",
    "    def __init__(self, args):\n",
    "        super(RSModel, self).__init__()\n",
    "        self.embedding_size = args['embedding_size']\n",
    "        self.keyword_embedding_size = args['keyword_embedding_size']\n",
    "        self.alpha = args['alpha']\n",
    "        self.beta = args['beta']\n",
    "        self.gamma = args['gamma']\n",
    "        self.num_items = args['num_items']\n",
    "        self.num_users = args['num_users']\n",
    "        self.num_keywords = args['num_keywords']\n",
    "        self.item_keywords = tf.constant(args['item_keywords'], dtype=tf.int32)\n",
    "        self.keyword_embedding = tf.keras.layers.Embedding(input_dim=self.num_keywords + 1, output_dim=self.keyword_embedding_size,\n",
    "                                                           embeddings_initializer=TruncatedNormal(mean=0., stddev=0.1),\n",
    "                                                           mask_zero=True,\n",
    "                                                           embeddings_regularizer=tf.keras.regularizers.L2(self.alpha)\n",
    "                                                           )\n",
    "        self.user_embedding = tf.keras.layers.Embedding(input_dim=self.num_users + 1, output_dim=self.embedding_size,\n",
    "                                                        embeddings_initializer=TruncatedNormal(mean=0., stddev=0.1),\n",
    "                                                        embeddings_regularizer=tf.keras.regularizers.L2(self.beta))\n",
    "        self.item_embedding = tf.keras.layers.Embedding(input_dim=self.num_items, output_dim=self.embedding_size,\n",
    "                                                        embeddings_initializer=TruncatedNormal(mean=0., stddev=0.1),\n",
    "                                                        embeddings_regularizer=tf.keras.regularizers.L2(self.beta))\n",
    "        self.bias_u = tf.keras.layers.Embedding(input_dim=self.num_users + 1, output_dim=1,\n",
    "                                                embeddings_initializer=TruncatedNormal(mean=0., stddev=0.1),\n",
    "                                                embeddings_regularizer=tf.keras.regularizers.L2(self.gamma))\n",
    "#         self.bias_i = tf.keras.layers.Embedding(input_dim=self.num_items, output_dim=1,\n",
    "#                                                 embeddings_initializer=TruncatedNormal(mean=0., stddev=0.1),\n",
    "#                                                 embeddings_regularizer=tf.keras.regularizers.L2(self.gamma))\n",
    "        self.mlp_dense = tf.keras.layers.Dense(units=1, activation='tanh')\n",
    "\n",
    "    def call(self, user_ids, item_ids):\n",
    "        user_bias = self.bias_u(user_ids)\n",
    "#         item_bias = self.bias_i(item_ids)\n",
    "        # matrix factorization\n",
    "        users_embedding = self.user_embedding(user_ids)\n",
    "        items_embedding = self.item_embedding(item_ids)\n",
    "        mf = tf.math.multiply(users_embedding, items_embedding)\n",
    "        # mlp\n",
    "        item_keyword = tf.nn.embedding_lookup(self.item_keywords, item_ids)\n",
    "        item_keyword_embedding = self.keyword_embedding(item_keyword)\n",
    "        item_encode = tf.reduce_sum(item_keyword_embedding, axis=1)\n",
    "        item_encode = self.mlp_dense(item_encode)\n",
    "        # rating score\n",
    "        r = tf.squeeze(user_bias) + tf.reduce_sum(mf, axis=1) + tf.reduce_sum(item_encode, axis=1)\n",
    "#         r = tf.squeeze(user_bias) + tf.squeeze(item_bias) + tf.reduce_sum(mf, axis=1) + tf.reduce_sum(item_encode, axis=1)\n",
    "        #         r = tf.squeeze(user_bias) + tf.squeeze(item_bias) + tf.reduce_sum(mf, axis=1)\n",
    "        return r\n",
    "\n",
    "    def loss_fn_rmse(self, predictions, labels):\n",
    "        #         rmse = tf.reduce_sum(tf.math.square(predictions - labels))\n",
    "        rmse = tf.sqrt(tf.reduce_sum(tf.math.square(predictions - labels)))\n",
    "        loss = rmse\n",
    "#         loss = rmse + tf.reduce_sum(self.keyword_embedding.losses)\n",
    "#         loss += tf.reduce_sum(self.user_embedding.losses) + tf.reduce_sum(self.item_embedding.losses)\n",
    "        #         loss += tf.reduce_sum(self.bias_u.losses) + tf.reduce_sum(self.bias_i.losses)\n",
    "        return loss, rmse"
   ]
  },
  {
   "cell_type": "markdown",
   "metadata": {},
   "source": [
    "#### model with attention\n",
    "    - self attention layer on keyword embedding"
   ]
  },
  {
   "cell_type": "code",
   "execution_count": 6,
   "metadata": {},
   "outputs": [],
   "source": [
    "class RSModel_3(Model):\n",
    "\n",
    "    def __init__(self, args):\n",
    "        super(RSModel_3, self).__init__()\n",
    "        self.embedding_size = args['embedding_size']\n",
    "        self.keyword_embedding_size = args['keyword_embedding_size']\n",
    "        self.alpha = args['alpha']\n",
    "        self.beta = args['beta']\n",
    "        self.gamma = args['gamma']\n",
    "        self.num_items = args['num_items']\n",
    "        self.num_users = args['num_users']\n",
    "        self.num_keywords = args['num_keywords']\n",
    "        self.item_keywords = tf.constant(args['item_keywords'], dtype=tf.int32)\n",
    "        self.keyword_embedding = tf.keras.layers.Embedding(input_dim=self.num_keywords + 1, output_dim=self.keyword_embedding_size,\n",
    "                                                           embeddings_initializer=TruncatedNormal(mean=0., stddev=0.1),\n",
    "                                                           mask_zero=True,\n",
    "                                                           embeddings_regularizer=tf.keras.regularizers.L2(self.alpha)\n",
    "                                                           )\n",
    "        self.user_embedding = tf.keras.layers.Embedding(input_dim=self.num_users + 1, output_dim=self.embedding_size,\n",
    "                                                        embeddings_initializer=TruncatedNormal(mean=0., stddev=0.1),\n",
    "                                                        embeddings_regularizer=tf.keras.regularizers.L2(self.beta))\n",
    "#         self.user_mlp_embedding = tf.keras.layers.Embedding(input_dim=self.num_users + 1, output_dim=self.embedding_size,\n",
    "#                                                         embeddings_initializer=TruncatedNormal(mean=0., stddev=0.1),\n",
    "#                                                         embeddings_regularizer=tf.keras.regularizers.L2(self.beta))\n",
    "        self.keyword_attention = tf.keras.layers.MultiHeadAttention(num_heads=4, key_dim=64, value_dim=64)\n",
    "        \n",
    "#         self.mlp_concatnate_layer = tf.keras.layers.Concatenate(axis=1)\n",
    "        self.item_embedding = tf.keras.layers.Embedding(input_dim=self.num_items, output_dim=self.embedding_size,\n",
    "                                                        embeddings_initializer=TruncatedNormal(mean=0., stddev=0.1),\n",
    "                                                        embeddings_regularizer=tf.keras.regularizers.L2(self.beta))\n",
    "        self.bias_u = tf.keras.layers.Embedding(input_dim=self.num_users + 1, output_dim=1,\n",
    "                                                embeddings_initializer=TruncatedNormal(mean=0., stddev=0.1),\n",
    "                                                embeddings_regularizer=tf.keras.regularizers.L2(self.gamma))\n",
    "        self.bias_i = tf.keras.layers.Embedding(input_dim=self.num_items, output_dim=1,\n",
    "                                                embeddings_initializer=TruncatedNormal(mean=0., stddev=0.1),\n",
    "                                                embeddings_regularizer=tf.keras.regularizers.L2(self.gamma))\n",
    "        self.mlp_keyword_dense = tf.keras.layers.Dense(units=32, activation='sigmoid',\n",
    "                                                      kernel_regularizer=tf.keras.regularizers.L2(self.beta))\n",
    "        self.mf_dense = tf.keras.layers.Dense(units=32, activation='sigmoid',\n",
    "                                                 kernel_regularizer=tf.keras.regularizers.L2(self.beta))\n",
    "        self.concatnate_layer = tf.keras.layers.Concatenate(axis=1)\n",
    "        self.ouput_dense = tf.keras.layers.Dense(units=1, activation='relu',\n",
    "                                                 kernel_regularizer=tf.keras.regularizers.L2(self.beta))\n",
    "\n",
    "    def call(self, user_ids, item_ids):\n",
    "        user_bias = self.bias_u(user_ids)\n",
    "        item_bias = self.bias_i(item_ids)\n",
    "        # matrix factorization\n",
    "        users_embedding = self.user_embedding(user_ids)\n",
    "        items_embedding = self.item_embedding(item_ids)\n",
    "        mf = tf.math.multiply(users_embedding, items_embedding)\n",
    "        # mlp\n",
    "#         users_mlp_embedding = self.user_mlp_embedding(user_ids)\n",
    "        item_keyword = tf.nn.embedding_lookup(self.item_keywords, item_ids)\n",
    "        item_keyword_embedding = self.keyword_embedding(item_keyword)        \n",
    "        item_keyword_attention = self.keyword_attention(item_keyword_embedding, item_keyword_embedding, item_keyword_embedding)        \n",
    "        item_encode = tf.reduce_sum(item_keyword_attention, axis=1)    \n",
    "        \n",
    "        \n",
    "#         mlp_concatnate_output = self.mlp_concatnate_layer([users_mlp_embedding, item_encode])        \n",
    "#         item_encode = self.mlp_keyword_dense(item_encode)\n",
    "        mf_encode = self.mf_dense(item_encode)\n",
    "        \n",
    "        # concatnate mf and mlp\n",
    "        concatnate_output = self.concatnate_layer([mf_encode, item_encode])\n",
    "        output = self.ouput_dense(concatnate_output)\n",
    "        r = tf.squeeze(output) + tf.squeeze(user_bias) + tf.squeeze(item_bias)\n",
    "        \n",
    "        # rating score\n",
    "#         r = tf.squeeze(user_bias) + tf.reduce_sum(mf, axis=1) + tf.reduce_sum(item_encode, axis=1)\n",
    "#         r = tf.squeeze(user_bias) + tf.squeeze(item_bias) + tf.reduce_sum(mf, axis=1) + tf.reduce_sum(item_encode, axis=1)\n",
    "        #         r = tf.squeeze(user_bias) + tf.squeeze(item_bias) + tf.reduce_sum(mf, axis=1)\n",
    "        \n",
    "        return r\n",
    "\n",
    "    def loss_fn_rmse(self, predictions, labels):\n",
    "        rmse = tf.reduce_sum(tf.math.square(predictions - labels))\n",
    "#         rmse = tf.sqrt(tf.reduce_sum(tf.math.square(predictions - labels)))        \n",
    "        loss = rmse + tf.reduce_sum(self.keyword_embedding.losses)\n",
    "        loss += tf.reduce_sum(self.user_embedding.losses) + tf.reduce_sum(self.item_embedding.losses)\n",
    "        #         loss += tf.reduce_sum(self.bias_u.losses) + tf.reduce_sum(self.bias_i.losses)\n",
    "        loss += tf.reduce_sum(self.mlp_keyword_dense.losses) + tf.reduce_sum(self.mf_dense.losses)\n",
    "#         loss += tf.reduce_sum(self.user_mlp_embedding.losses)\n",
    "        loss += tf.reduce_sum(self.ouput_dense.losses)\n",
    "        return loss, rmse"
   ]
  },
  {
   "cell_type": "markdown",
   "metadata": {},
   "source": [
    "#### model notes\n",
    "    - model 4 is similar to model 3 but simpler"
   ]
  },
  {
   "cell_type": "code",
   "execution_count": 7,
   "metadata": {},
   "outputs": [],
   "source": [
    "class RSModel_4(Model):\n",
    "\n",
    "    def __init__(self, args):\n",
    "        super(RSModel_4, self).__init__()\n",
    "        self.embedding_size = args['embedding_size']\n",
    "        self.keyword_embedding_size = args['keyword_embedding_size']\n",
    "        self.alpha = args['alpha']\n",
    "        self.beta = args['beta']\n",
    "        self.gamma = args['gamma']\n",
    "        self.num_items = args['num_items']\n",
    "        self.num_users = args['num_users']\n",
    "        self.num_keywords = args['num_keywords']\n",
    "        self.item_keywords = tf.constant(args['item_keywords'], dtype=tf.int32)\n",
    "        self.keyword_embedding = tf.keras.layers.Embedding(input_dim=self.num_keywords + 1, output_dim=self.keyword_embedding_size,\n",
    "                                                           embeddings_initializer=TruncatedNormal(mean=0., stddev=0.1),\n",
    "                                                           mask_zero=True,\n",
    "                                                           embeddings_regularizer=tf.keras.regularizers.L2(self.alpha)\n",
    "                                                           )\n",
    "        self.user_embedding = tf.keras.layers.Embedding(input_dim=self.num_users + 1, output_dim=self.embedding_size,\n",
    "                                                        embeddings_initializer=TruncatedNormal(mean=0., stddev=0.1),\n",
    "                                                        embeddings_regularizer=tf.keras.regularizers.L2(self.beta))\n",
    "#         self.user_mlp_embedding = tf.keras.layers.Embedding(input_dim=self.num_users + 1, output_dim=self.embedding_size,\n",
    "#                                                         embeddings_initializer=TruncatedNormal(mean=0., stddev=0.1),\n",
    "#                                                         embeddings_regularizer=tf.keras.regularizers.L2(self.beta))\n",
    "        self.keyword_attention = tf.keras.layers.MultiHeadAttention(num_heads=4, key_dim=64, value_dim=64)\n",
    "        \n",
    "#         self.mlp_concatnate_layer = tf.keras.layers.Concatenate(axis=1)\n",
    "        self.item_embedding = tf.keras.layers.Embedding(input_dim=self.num_items, output_dim=self.embedding_size,\n",
    "                                                        embeddings_initializer=TruncatedNormal(mean=0., stddev=0.1),\n",
    "                                                        embeddings_regularizer=tf.keras.regularizers.L2(self.beta))\n",
    "        self.bias_u = tf.keras.layers.Embedding(input_dim=self.num_users + 1, output_dim=1,\n",
    "                                                embeddings_initializer=TruncatedNormal(mean=0., stddev=0.1),\n",
    "                                                embeddings_regularizer=tf.keras.regularizers.L2(self.gamma))\n",
    "#         self.bias_i = tf.keras.layers.Embedding(input_dim=self.num_items, output_dim=1,\n",
    "#                                                 embeddings_initializer=TruncatedNormal(mean=0., stddev=0.1),\n",
    "#                                                 embeddings_regularizer=tf.keras.regularizers.L2(self.gamma))\n",
    "        self.mlp_keyword_dense = tf.keras.layers.Dense(units=1, activation='sigmoid',\n",
    "                                                      kernel_regularizer=tf.keras.regularizers.L2(self.beta))\n",
    "#         self.mf_dense = tf.keras.layers.Dense(units=32, activation='sigmoid',\n",
    "#                                                  kernel_regularizer=tf.keras.regularizers.L2(self.beta))\n",
    "        self.concatnate_layer = tf.keras.layers.Concatenate(axis=1)\n",
    "        self.ouput_dense = tf.keras.layers.Dense(units=1, activation='relu',\n",
    "                                                 kernel_regularizer=tf.keras.regularizers.L2(self.beta))\n",
    "\n",
    "    def call(self, user_ids, item_ids):\n",
    "        user_bias = self.bias_u(user_ids)\n",
    "#         item_bias = self.bias_i(item_ids)\n",
    "        # matrix factorization\n",
    "        users_embedding = self.user_embedding(user_ids)\n",
    "        items_embedding = self.item_embedding(item_ids)\n",
    "        mf = tf.math.multiply(users_embedding, items_embedding)\n",
    "        # mlp\n",
    "#         users_mlp_embedding = self.user_mlp_embedding(user_ids)\n",
    "        item_keyword = tf.nn.embedding_lookup(self.item_keywords, item_ids)\n",
    "        item_keyword_embedding = self.keyword_embedding(item_keyword)        \n",
    "        item_keyword_attention = self.keyword_attention(item_keyword_embedding, item_keyword_embedding, item_keyword_embedding)        \n",
    "        item_encode = tf.reduce_sum(item_keyword_attention, axis=1)    \n",
    "        \n",
    "        \n",
    "#         mlp_concatnate_output = self.mlp_concatnate_layer([users_mlp_embedding, item_encode])        \n",
    "        item_encode = self.mlp_keyword_dense(item_encode)\n",
    "#         mf_encode = self.mf_dense(item_encode)\n",
    "        \n",
    "        # concatnate mf and mlp\n",
    "#         concatnate_output = self.concatnate_layer([mf_encode, item_encode])\n",
    "#         output = self.ouput_dense(concatnate_output)\n",
    "#         r = tf.squeeze(output) + tf.squeeze(user_bias) + tf.squeeze(item_bias)\n",
    "        \n",
    "        # rating score\n",
    "        r = tf.squeeze(user_bias) + tf.reduce_sum(mf, axis=1) + tf.reduce_sum(item_encode, axis=1)\n",
    "#         r = tf.squeeze(user_bias) + tf.squeeze(item_bias) + tf.reduce_sum(mf, axis=1) + tf.reduce_sum(item_encode, axis=1)\n",
    "        #         r = tf.squeeze(user_bias) + tf.squeeze(item_bias) + tf.reduce_sum(mf, axis=1)\n",
    "        \n",
    "        return r\n",
    "\n",
    "    def loss_fn_rmse(self, predictions, labels):\n",
    "        rmse = tf.reduce_sum(tf.math.square(predictions - labels))\n",
    "#         rmse = tf.sqrt(tf.reduce_sum(tf.math.square(predictions - labels)))        \n",
    "        loss = rmse + tf.reduce_sum(self.keyword_embedding.losses)\n",
    "        loss += tf.reduce_sum(self.user_embedding.losses) + tf.reduce_sum(self.item_embedding.losses)\n",
    "        #         loss += tf.reduce_sum(self.bias_u.losses) + tf.reduce_sum(self.bias_i.losses)\n",
    "#         loss += tf.reduce_sum(self.mlp_keyword_dense.losses) + tf.reduce_sum(self.mf_dense.losses)\n",
    "        loss += tf.reduce_sum(self.mlp_keyword_dense.losses)\n",
    "#         loss += tf.reduce_sum(self.user_mlp_embedding.losses)\n",
    "        loss += tf.reduce_sum(self.ouput_dense.losses)\n",
    "        return loss, rmse"
   ]
  },
  {
   "cell_type": "markdown",
   "metadata": {},
   "source": [
    "#### NeuCF model\n",
    "    - try concatenate item_embedding and user_embedding pairwise product with item_keyword_embedding"
   ]
  },
  {
   "cell_type": "markdown",
   "metadata": {},
   "source": [
    "#### simple mf model"
   ]
  },
  {
   "cell_type": "code",
   "execution_count": 8,
   "metadata": {},
   "outputs": [],
   "source": [
    "class RSModel_5(Model):\n",
    "\n",
    "    def __init__(self, args):\n",
    "        super(RSModel_5, self).__init__()\n",
    "        self.embedding_size = args['embedding_size']\n",
    "        self.keyword_embedding_size = args['keyword_embedding_size']\n",
    "        self.alpha = args['alpha']\n",
    "        self.beta = args['beta']\n",
    "        self.gamma = args['gamma']\n",
    "        self.num_items = args['num_items']\n",
    "        self.num_users = args['num_users']\n",
    "        self.num_keywords = args['num_keywords']                \n",
    "        self.user_embedding = tf.keras.layers.Embedding(input_dim=self.num_users + 1, output_dim=self.embedding_size,\n",
    "                                                        embeddings_initializer=TruncatedNormal(mean=0., stddev=0.1),\n",
    "                                                        embeddings_regularizer=tf.keras.regularizers.L2(self.beta))\n",
    "        self.item_embedding = tf.keras.layers.Embedding(input_dim=self.num_items, output_dim=self.embedding_size,\n",
    "                                                        embeddings_initializer=TruncatedNormal(mean=0., stddev=0.1),\n",
    "                                                        embeddings_regularizer=tf.keras.regularizers.L2(self.beta))\n",
    "        self.bias_u = tf.keras.layers.Embedding(input_dim=self.num_users + 1, output_dim=1,\n",
    "                                                embeddings_initializer=TruncatedNormal(mean=0., stddev=0.1),\n",
    "                                                embeddings_regularizer=tf.keras.regularizers.L2(self.gamma))\n",
    "        self.bias_i = tf.keras.layers.Embedding(input_dim=self.num_items, output_dim=1,\n",
    "                                                embeddings_initializer=TruncatedNormal(mean=0., stddev=0.1),\n",
    "                                                embeddings_regularizer=tf.keras.regularizers.L2(self.gamma))        \n",
    "\n",
    "    def call(self, user_ids, item_ids):\n",
    "        user_bias = self.bias_u(user_ids)\n",
    "        item_bias = self.bias_i(item_ids)\n",
    "        # matrix factorization\n",
    "        users_embedding = self.user_embedding(user_ids)\n",
    "        items_embedding = self.item_embedding(item_ids)\n",
    "        mf = tf.math.multiply(users_embedding, items_embedding)\n",
    "        r = tf.squeeze(user_bias) + tf.squeeze(item_bias) + tf.reduce_sum(mf, axis=1)        \n",
    "        return r\n",
    "\n",
    "    def loss_fn_rmse(self, predictions, labels):\n",
    "        rmse = tf.reduce_sum(tf.math.square(predictions - labels))        \n",
    "        loss = rmse + tf.reduce_sum(self.user_embedding.losses) + tf.reduce_sum(self.item_embedding.losses)        \n",
    "        return loss, rmse"
   ]
  },
  {
   "cell_type": "markdown",
   "metadata": {},
   "source": [
    "#### simple mf model with global mean"
   ]
  },
  {
   "cell_type": "code",
   "execution_count": 9,
   "metadata": {},
   "outputs": [],
   "source": [
    "class RSModel_6(Model):\n",
    "\n",
    "    def __init__(self, args):\n",
    "        super(RSModel_6, self).__init__()\n",
    "        self.embedding_size = args['embedding_size']\n",
    "        self.keyword_embedding_size = args['keyword_embedding_size']\n",
    "        self.mu = args['mu']\n",
    "        self.alpha = args['alpha']\n",
    "        self.beta = args['beta']\n",
    "        self.gamma = args['gamma']\n",
    "        self.num_items = args['num_items']\n",
    "        self.num_users = args['num_users']\n",
    "        self.num_keywords = args['num_keywords']\n",
    "        self.user_embedding = tf.keras.layers.Embedding(input_dim=self.num_users + 1, output_dim=self.embedding_size,\n",
    "                                                        embeddings_initializer=TruncatedNormal(mean=0., stddev=0.1),\n",
    "                                                        embeddings_regularizer=tf.keras.regularizers.L2(self.beta))\n",
    "        self.item_embedding = tf.keras.layers.Embedding(input_dim=self.num_items, output_dim=self.embedding_size,\n",
    "                                                        embeddings_initializer=TruncatedNormal(mean=0., stddev=0.1),\n",
    "                                                        embeddings_regularizer=tf.keras.regularizers.L2(self.beta))\n",
    "        self.bias_u = tf.keras.layers.Embedding(input_dim=self.num_users + 1, output_dim=1,\n",
    "                                                embeddings_initializer=TruncatedNormal(mean=0., stddev=0.1),\n",
    "                                                embeddings_regularizer=tf.keras.regularizers.L2(self.gamma))\n",
    "        self.bias_i = tf.keras.layers.Embedding(input_dim=self.num_items, output_dim=1,\n",
    "                                                embeddings_initializer=TruncatedNormal(mean=0., stddev=0.1),\n",
    "                                                embeddings_regularizer=tf.keras.regularizers.L2(self.gamma))        \n",
    "\n",
    "    def call(self, user_ids, item_ids):\n",
    "        user_bias = self.bias_u(user_ids)\n",
    "        item_bias = self.bias_i(item_ids)\n",
    "        # matrix factorization\n",
    "        users_embedding = self.user_embedding(user_ids)\n",
    "        items_embedding = self.item_embedding(item_ids)\n",
    "        mf = tf.math.multiply(users_embedding, items_embedding)\n",
    "        r = self.mu + tf.squeeze(user_bias) + tf.squeeze(item_bias) + tf.reduce_sum(mf, axis=1)        \n",
    "        return r\n",
    "\n",
    "    def loss_fn_rmse(self, predictions, labels):\n",
    "        rmse = tf.reduce_sum(tf.math.square(predictions - labels))        \n",
    "        loss = rmse + tf.reduce_sum(self.user_embedding.losses) + tf.reduce_sum(self.item_embedding.losses)        \n",
    "        return loss, rmse"
   ]
  },
  {
   "cell_type": "markdown",
   "metadata": {},
   "source": [
    "#### keyword encode and global mean"
   ]
  },
  {
   "cell_type": "code",
   "execution_count": 10,
   "metadata": {},
   "outputs": [],
   "source": [
    "class RSModel_7(Model):\n",
    "\n",
    "    def __init__(self, args):\n",
    "        super(RSModel_7, self).__init__()\n",
    "        self.embedding_size = args['embedding_size']\n",
    "        self.keyword_embedding_size = args['keyword_embedding_size']\n",
    "        self.mu = args['mu']\n",
    "        self.alpha = args['alpha']\n",
    "        self.beta = args['beta']\n",
    "        self.gamma = args['gamma']\n",
    "        self.num_items = args['num_items']\n",
    "        self.num_users = args['num_users']\n",
    "        self.num_keywords = args['num_keywords']\n",
    "        self.item_keywords = tf.constant(args['item_keywords'], dtype=tf.int32)\n",
    "        self.keyword_embedding = tf.keras.layers.Embedding(input_dim=self.num_keywords + 1, output_dim=self.keyword_embedding_size,\n",
    "                                                           embeddings_initializer=TruncatedNormal(mean=0., stddev=0.1),\n",
    "                                                           mask_zero=True,\n",
    "                                                           embeddings_regularizer=tf.keras.regularizers.L2(self.alpha)\n",
    "                                                           )\n",
    "        self.user_embedding = tf.keras.layers.Embedding(input_dim=self.num_users + 1, output_dim=self.embedding_size,\n",
    "                                                        embeddings_initializer=TruncatedNormal(mean=0., stddev=0.1),\n",
    "                                                        embeddings_regularizer=tf.keras.regularizers.L2(self.beta))\n",
    "        self.item_embedding = tf.keras.layers.Embedding(input_dim=self.num_items, output_dim=self.embedding_size,\n",
    "                                                        embeddings_initializer=TruncatedNormal(mean=0., stddev=0.1),\n",
    "                                                        embeddings_regularizer=tf.keras.regularizers.L2(self.beta))\n",
    "        self.bias_u = tf.keras.layers.Embedding(input_dim=self.num_users + 1, output_dim=1,\n",
    "                                                embeddings_initializer=TruncatedNormal(mean=0., stddev=0.1),\n",
    "                                                embeddings_regularizer=tf.keras.regularizers.L2(self.gamma))\n",
    "        self.bias_i = tf.keras.layers.Embedding(input_dim=self.num_items, output_dim=1,\n",
    "                                                embeddings_initializer=TruncatedNormal(mean=0., stddev=0.1),\n",
    "                                                embeddings_regularizer=tf.keras.regularizers.L2(self.gamma))\n",
    "        self.mlp_keyword_dense = tf.keras.layers.Dense(units=1)\n",
    "\n",
    "    def call(self, user_ids, item_ids):\n",
    "        user_bias = self.bias_u(user_ids)\n",
    "        item_bias = self.bias_i(item_ids)\n",
    "        # matrix factorization\n",
    "        users_embedding = self.user_embedding(user_ids)\n",
    "        items_embedding = self.item_embedding(item_ids)\n",
    "        mf = tf.math.multiply(users_embedding, items_embedding)\n",
    "        # mlp\n",
    "        item_keyword = tf.nn.embedding_lookup(self.item_keywords, item_ids)\n",
    "        item_keyword_embedding = self.keyword_embedding(item_keyword)\n",
    "        mask = self.keyword_embedding.compute_mask(item_keyword)\n",
    "        item_keyword_embedding = tf.multiply(item_keyword_embedding, tf.expand_dims(tf.cast(mask, tf.float32), 2))\n",
    "        item_encode = tf.reduce_sum(item_keyword_embedding, axis=1)\n",
    "        item_num_keywords = tf.reduce_sum(tf.cast(mask, tf.float32), axis=1) + 1e-8\n",
    "        item_encode = tf.math.divide(item_encode, tf.expand_dims(item_num_keywords, 1))\n",
    "        \n",
    "        item_encode = self.mlp_keyword_dense(item_encode)\n",
    "        item_encode = tf.reduce_sum(item_encode, axis=1)\n",
    "        \n",
    "#         item_bias = tf.clip_by_value(item_bias, clip_value_min=-1.5, clip_value_max=1.5)\n",
    "#         user_bias = tf.clip_by_value(user_bias, clip_value_min=-1.5, clip_value_max=1.5)\n",
    "#         item_encode = tf.clip_by_value(item_encode, clip_value_min=-1.5, clip_value_max=1.5)\n",
    "        # rating score\n",
    "        r = self.mu + tf.squeeze(user_bias) + tf.squeeze(item_bias) + tf.reduce_sum(mf, axis=1) + item_encode\n",
    "        return r\n",
    "\n",
    "    def loss_fn_rmse(self, predictions, labels):\n",
    "        rmse = tf.reduce_sum(tf.math.square(predictions - labels))\n",
    "        loss = rmse + tf.reduce_sum(self.keyword_embedding.losses)\n",
    "        loss += tf.reduce_sum(self.user_embedding.losses) + tf.reduce_sum(self.item_embedding.losses)\n",
    "        loss += tf.reduce_sum(self.mlp_keyword_dense.losses)\n",
    "        return loss, rmse"
   ]
  },
  {
   "cell_type": "markdown",
   "metadata": {},
   "source": [
    "#### pairwise multiply user_embedding with item_keyword_embedding"
   ]
  },
  {
   "cell_type": "code",
   "execution_count": 11,
   "metadata": {},
   "outputs": [],
   "source": [
    "class RSModel_8(Model):\n",
    "\n",
    "    def __init__(self, args):\n",
    "        super(RSModel_8, self).__init__()\n",
    "        self.embedding_size = args['embedding_size']\n",
    "        self.keyword_embedding_size = args['keyword_embedding_size']\n",
    "        self.mu = args['mu']\n",
    "        self.alpha = args['alpha']\n",
    "        self.beta = args['beta']\n",
    "        self.gamma = args['gamma']\n",
    "        self.num_items = args['num_items']\n",
    "        self.num_users = args['num_users']\n",
    "        self.num_keywords = args['num_keywords']\n",
    "        self.item_keywords = tf.constant(args['item_keywords'], dtype=tf.int32)\n",
    "        self.keyword_embedding = tf.keras.layers.Embedding(input_dim=self.num_keywords + 1, output_dim=self.keyword_embedding_size,\n",
    "                                                           embeddings_initializer=TruncatedNormal(mean=0., stddev=0.1),\n",
    "                                                           mask_zero=True,\n",
    "                                                           embeddings_regularizer=tf.keras.regularizers.L2(self.alpha)\n",
    "                                                           )\n",
    "        self.user_embedding = tf.keras.layers.Embedding(input_dim=self.num_users + 1, output_dim=self.embedding_size,\n",
    "                                                        embeddings_initializer=TruncatedNormal(mean=0., stddev=0.1),\n",
    "                                                        embeddings_regularizer=tf.keras.regularizers.L2(self.beta))\n",
    "        self.item_embedding = tf.keras.layers.Embedding(input_dim=self.num_items, output_dim=self.embedding_size,\n",
    "                                                        embeddings_initializer=TruncatedNormal(mean=0., stddev=0.1),\n",
    "                                                        embeddings_regularizer=tf.keras.regularizers.L2(self.beta))\n",
    "        self.bias_u = tf.keras.layers.Embedding(input_dim=self.num_users + 1, output_dim=1,\n",
    "                                                embeddings_initializer=TruncatedNormal(mean=0., stddev=0.1),\n",
    "                                                embeddings_regularizer=tf.keras.regularizers.L2(self.gamma))\n",
    "        self.bias_i = tf.keras.layers.Embedding(input_dim=self.num_items, output_dim=1,\n",
    "                                                embeddings_initializer=TruncatedNormal(mean=0., stddev=0.1),\n",
    "                                                embeddings_regularizer=tf.keras.regularizers.L2(self.gamma))\n",
    "#         self.mlp_keyword_dense = tf.keras.layers.Dense(units=1)\n",
    "\n",
    "    def call(self, user_ids, item_ids):\n",
    "        user_bias = self.bias_u(user_ids)\n",
    "        item_bias = self.bias_i(item_ids)\n",
    "        # matrix factorization\n",
    "        users_embedding = self.user_embedding(user_ids)\n",
    "        items_embedding = self.item_embedding(item_ids)\n",
    "        mf = tf.math.multiply(users_embedding, items_embedding)\n",
    "        # mlp\n",
    "        item_keyword = tf.nn.embedding_lookup(self.item_keywords, item_ids)\n",
    "        item_keyword_embedding = self.keyword_embedding(item_keyword)\n",
    "        mask = self.keyword_embedding.compute_mask(item_keyword)\n",
    "        item_keyword_embedding = tf.multiply(item_keyword_embedding, tf.expand_dims(tf.cast(mask, tf.float32), 2))\n",
    "        item_encode = tf.reduce_sum(item_keyword_embedding, axis=1)\n",
    "        \n",
    "        \n",
    "        \n",
    "        \n",
    "#         item_encode = self.mlp_keyword_dense(item_encode)\n",
    "#         item_encode = tf.reduce_sum(item_encode, axis=1)\n",
    "        mf_keyword = tf.math.multiply(users_embedding, item_encode)\n",
    "        \n",
    "#         item_bias = tf.clip_by_value(item_bias, clip_value_min=-1.5, clip_value_max=1.5)\n",
    "#         user_bias = tf.clip_by_value(user_bias, clip_value_min=-1.5, clip_value_max=1.5)\n",
    "#         item_encode = tf.clip_by_value(item_encode, clip_value_min=-1.5, clip_value_max=1.5)\n",
    "        # rating score\n",
    "        r = self.mu + tf.squeeze(user_bias) + tf.squeeze(item_bias) + tf.reduce_sum(mf, axis=1) + tf.reduce_sum(mf_keyword, axis=1)\n",
    "        return r\n",
    "\n",
    "    def loss_fn_rmse(self, predictions, labels):\n",
    "        rmse = tf.reduce_sum(tf.math.square(predictions - labels))\n",
    "        loss = rmse + tf.reduce_sum(self.keyword_embedding.losses)\n",
    "        loss += tf.reduce_sum(self.user_embedding.losses) + tf.reduce_sum(self.item_embedding.losses)\n",
    "#         loss += tf.reduce_sum(self.mlp_keyword_dense.losses)\n",
    "        return loss, rmse"
   ]
  },
  {
   "cell_type": "code",
   "execution_count": null,
   "metadata": {},
   "outputs": [],
   "source": []
  },
  {
   "cell_type": "markdown",
   "metadata": {},
   "source": [
    "#### model with more hidden layers\n",
    "    - do not simply sum pairwise product from item_embedding and user_embedding\n",
    "    - user MLP to combine them, must user activation function (because without activation function --> no change in result)\n",
    "    - try concatenate item_embedding and user_embedding pairwise product with item_keyword_embedding"
   ]
  },
  {
   "cell_type": "code",
   "execution_count": 12,
   "metadata": {},
   "outputs": [],
   "source": [
    "class RSModel_2(Model):\n",
    "\n",
    "    def __init__(self, args):\n",
    "        super(RSModel_2, self).__init__()\n",
    "        self.embedding_size = args['embedding_size']\n",
    "        self.keyword_embedding_size = args['keyword_embedding_size']\n",
    "        self.alpha = args['alpha']\n",
    "        self.beta = args['beta']\n",
    "        self.gamma = args['gamma']\n",
    "        self.num_items = args['num_items']\n",
    "        self.num_users = args['num_users']\n",
    "        self.num_keywords = args['num_keywords']\n",
    "        self.item_keywords = tf.constant(args['item_keywords'], dtype=tf.int32)\n",
    "        self.keyword_embedding = tf.keras.layers.Embedding(input_dim=self.num_keywords + 1, output_dim=self.keyword_embedding_size,\n",
    "                                                           embeddings_initializer=TruncatedNormal(mean=0., stddev=0.1),\n",
    "                                                           mask_zero=True,\n",
    "                                                           embeddings_regularizer=tf.keras.regularizers.L2(self.alpha)\n",
    "                                                           )\n",
    "        self.user_embedding = tf.keras.layers.Embedding(input_dim=self.num_users + 1, output_dim=self.embedding_size,\n",
    "                                                        embeddings_initializer=TruncatedNormal(mean=0., stddev=0.1),\n",
    "                                                        embeddings_regularizer=tf.keras.regularizers.L2(self.beta))        \n",
    "        self.user_mlp_embedding = tf.keras.layers.Embedding(input_dim=self.num_users + 1, output_dim=self.embedding_size,\n",
    "                                                        embeddings_initializer=TruncatedNormal(mean=0., stddev=0.1),\n",
    "                                                        embeddings_regularizer=tf.keras.regularizers.L2(self.beta))        \n",
    "        self.mlp_concatnate_layer = tf.keras.layers.Concatenate(axis=1)\n",
    "        self.item_embedding = tf.keras.layers.Embedding(input_dim=self.num_items, output_dim=self.embedding_size,\n",
    "                                                        embeddings_initializer=TruncatedNormal(mean=0., stddev=0.1),\n",
    "                                                        embeddings_regularizer=tf.keras.regularizers.L2(self.beta))\n",
    "        self.bias_u = tf.keras.layers.Embedding(input_dim=self.num_users + 1, output_dim=1,\n",
    "                                                embeddings_initializer=TruncatedNormal(mean=0., stddev=0.1),\n",
    "                                                embeddings_regularizer=tf.keras.regularizers.L2(self.gamma))\n",
    "        self.bias_i = tf.keras.layers.Embedding(input_dim=self.num_items, output_dim=1,\n",
    "                                                embeddings_initializer=TruncatedNormal(mean=0., stddev=0.1),\n",
    "                                                embeddings_regularizer=tf.keras.regularizers.L2(self.gamma))\n",
    "        self.mlp_keyword_dense = tf.keras.layers.Dense(units=32, activation='sigmoid',\n",
    "                                                      kernel_regularizer=tf.keras.regularizers.L2(self.beta))\n",
    "        self.mf_dense = tf.keras.layers.Dense(units=32, activation='sigmoid',\n",
    "                                                 kernel_regularizer=tf.keras.regularizers.L2(self.beta))\n",
    "        self.concatnate_layer = tf.keras.layers.Concatenate(axis=1)\n",
    "        self.ouput_dense = tf.keras.layers.Dense(units=1, activation='relu',\n",
    "                                                 kernel_regularizer=tf.keras.regularizers.L2(self.beta))\n",
    "\n",
    "    def call(self, user_ids, item_ids):\n",
    "        user_bias = self.bias_u(user_ids)\n",
    "        item_bias = self.bias_i(item_ids)\n",
    "        # matrix factorization\n",
    "        users_embedding = self.user_embedding(user_ids)\n",
    "        items_embedding = self.item_embedding(item_ids)\n",
    "        mf = tf.math.multiply(users_embedding, items_embedding)\n",
    "        # mlp\n",
    "        users_mlp_embedding = self.user_mlp_embedding(user_ids)\n",
    "        item_keyword = tf.nn.embedding_lookup(self.item_keywords, item_ids)\n",
    "        item_keyword_embedding = self.keyword_embedding(item_keyword)\n",
    "        item_encode = tf.reduce_sum(item_keyword_embedding, axis=1)\n",
    "        mlp_concatnate_output = self.mlp_concatnate_layer([users_mlp_embedding, item_encode])\n",
    "        \n",
    "        item_encode = self.mlp_keyword_dense(mlp_concatnate_output)\n",
    "        \n",
    "        mf_encode = self.mf_dense(item_encode)\n",
    "        \n",
    "        concatnate_output = self.concatnate_layer([mf_encode, item_encode])\n",
    "        output = self.ouput_dense(concatnate_output)\n",
    "        r = tf.squeeze(output) + tf.squeeze(user_bias) + tf.squeeze(item_bias)\n",
    "        \n",
    "        # rating score\n",
    "#         r = tf.squeeze(user_bias) + tf.reduce_sum(mf, axis=1) + tf.reduce_sum(item_encode, axis=1)\n",
    "#         r = tf.squeeze(user_bias) + tf.squeeze(item_bias) + tf.reduce_sum(mf, axis=1) + tf.reduce_sum(item_encode, axis=1)\n",
    "        #         r = tf.squeeze(user_bias) + tf.squeeze(item_bias) + tf.reduce_sum(mf, axis=1)\n",
    "        \n",
    "        return r\n",
    "\n",
    "    def loss_fn_rmse(self, predictions, labels):\n",
    "        rmse = tf.reduce_sum(tf.math.square(predictions - labels))\n",
    "#         rmse = tf.sqrt(tf.reduce_sum(tf.math.square(predictions - labels)))        \n",
    "        loss = rmse + tf.reduce_sum(self.keyword_embedding.losses)\n",
    "        loss += tf.reduce_sum(self.user_embedding.losses) + tf.reduce_sum(self.item_embedding.losses)\n",
    "        #         loss += tf.reduce_sum(self.bias_u.losses) + tf.reduce_sum(self.bias_i.losses)\n",
    "        loss += tf.reduce_sum(self.mlp_keyword_dense.losses) + tf.reduce_sum(self.mf_dense.losses)\n",
    "        loss += tf.reduce_sum(self.user_mlp_embedding.losses)\n",
    "        loss += tf.reduce_sum(self.ouput_dense.losses)\n",
    "        return loss, rmse"
   ]
  },
  {
   "cell_type": "code",
   "execution_count": 13,
   "metadata": {},
   "outputs": [],
   "source": [
    "class RSModel_2_1(Model):\n",
    "\n",
    "    def __init__(self, args):\n",
    "        super(RSModel_2_1, self).__init__()\n",
    "        self.embedding_size = args['embedding_size']\n",
    "        self.keyword_embedding_size = args['keyword_embedding_size']\n",
    "        self.mu = args['mu']\n",
    "        self.alpha = args['alpha']\n",
    "        self.beta = args['beta']\n",
    "        self.gamma = args['gamma']\n",
    "        self.num_items = args['num_items']\n",
    "        self.num_users = args['num_users']\n",
    "        self.num_keywords = args['num_keywords']\n",
    "        self.item_keywords = tf.constant(args['item_keywords'], dtype=tf.int32)\n",
    "        self.keyword_embedding = tf.keras.layers.Embedding(input_dim=self.num_keywords + 1, output_dim=self.keyword_embedding_size,\n",
    "                                                           embeddings_initializer=TruncatedNormal(mean=0., stddev=0.1),\n",
    "                                                           mask_zero=True,\n",
    "                                                           embeddings_regularizer=tf.keras.regularizers.L2(self.alpha)\n",
    "                                                           )\n",
    "        self.user_embedding = tf.keras.layers.Embedding(input_dim=self.num_users + 1, output_dim=self.embedding_size,\n",
    "                                                        embeddings_initializer=TruncatedNormal(mean=0., stddev=0.1),\n",
    "                                                        embeddings_regularizer=tf.keras.regularizers.L2(self.beta))        \n",
    "        self.user_mlp_embedding = tf.keras.layers.Embedding(input_dim=self.num_users + 1, output_dim=self.embedding_size,\n",
    "                                                        embeddings_initializer=TruncatedNormal(mean=0., stddev=0.1),\n",
    "                                                        embeddings_regularizer=tf.keras.regularizers.L2(self.beta))        \n",
    "        self.mlp_concatnate_layer = tf.keras.layers.Concatenate(axis=1)\n",
    "        self.item_embedding = tf.keras.layers.Embedding(input_dim=self.num_items, output_dim=self.embedding_size,\n",
    "                                                        embeddings_initializer=TruncatedNormal(mean=0., stddev=0.1),\n",
    "                                                        embeddings_regularizer=tf.keras.regularizers.L2(self.beta))\n",
    "        self.bias_u = tf.keras.layers.Embedding(input_dim=self.num_users + 1, output_dim=1,\n",
    "                                                embeddings_initializer=TruncatedNormal(mean=0., stddev=0.1),\n",
    "                                                embeddings_regularizer=tf.keras.regularizers.L2(self.gamma))\n",
    "        self.bias_i = tf.keras.layers.Embedding(input_dim=self.num_items, output_dim=1,\n",
    "                                                embeddings_initializer=TruncatedNormal(mean=0., stddev=0.1),\n",
    "                                                embeddings_regularizer=tf.keras.regularizers.L2(self.gamma))\n",
    "        self.mlp_keyword_dense = tf.keras.layers.Dense(units=32, activation='sigmoid',\n",
    "                                                      kernel_regularizer=tf.keras.regularizers.L2(self.beta))\n",
    "        self.mf_dense = tf.keras.layers.Dense(units=32, activation='sigmoid',\n",
    "                                                 kernel_regularizer=tf.keras.regularizers.L2(self.beta))\n",
    "        self.concatnate_layer = tf.keras.layers.Concatenate(axis=1)\n",
    "        self.ouput_dense = tf.keras.layers.Dense(units=1, activation='relu',\n",
    "                                                 kernel_regularizer=tf.keras.regularizers.L2(self.beta))\n",
    "\n",
    "    def call(self, user_ids, item_ids):\n",
    "        user_bias = self.bias_u(user_ids)\n",
    "        item_bias = self.bias_i(item_ids)\n",
    "        # matrix factorization\n",
    "        users_embedding = self.user_embedding(user_ids)\n",
    "        items_embedding = self.item_embedding(item_ids)\n",
    "        mf = tf.math.multiply(users_embedding, items_embedding)\n",
    "        # mlp\n",
    "        users_mlp_embedding = self.user_mlp_embedding(user_ids)\n",
    "        item_keyword = tf.nn.embedding_lookup(self.item_keywords, item_ids)\n",
    "        item_keyword_embedding = self.keyword_embedding(item_keyword)\n",
    "        \n",
    "        \n",
    "        \n",
    "        item_encode = tf.reduce_sum(item_keyword_embedding, axis=1)        \n",
    "        mlp_concatnate_output = self.mlp_concatnate_layer([users_mlp_embedding, item_encode])\n",
    "        \n",
    "        item_encode = self.mlp_keyword_dense(mlp_concatnate_output)\n",
    "        \n",
    "        mf_encode = self.mf_dense(item_encode)\n",
    "        \n",
    "        concatnate_output = self.concatnate_layer([mf_encode, item_encode])\n",
    "        output = self.ouput_dense(concatnate_output)\n",
    "        r = self.mu + tf.squeeze(output) + tf.squeeze(user_bias) + tf.squeeze(item_bias)            \n",
    "        return r\n",
    "\n",
    "    def loss_fn_rmse(self, predictions, labels):\n",
    "        rmse = tf.reduce_sum(tf.math.square(predictions - labels))\n",
    "        loss = rmse + tf.reduce_sum(self.keyword_embedding.losses)\n",
    "        loss += tf.reduce_sum(self.user_embedding.losses) + tf.reduce_sum(self.item_embedding.losses)        \n",
    "        loss += tf.reduce_sum(self.mlp_keyword_dense.losses) + tf.reduce_sum(self.mf_dense.losses)\n",
    "        loss += tf.reduce_sum(self.user_mlp_embedding.losses)\n",
    "        loss += tf.reduce_sum(self.ouput_dense.losses)\n",
    "        return loss, rmse"
   ]
  },
  {
   "cell_type": "markdown",
   "metadata": {},
   "source": [
    "#### training function"
   ]
  },
  {
   "cell_type": "code",
   "execution_count": 14,
   "metadata": {},
   "outputs": [],
   "source": [
    "@tf.function\n",
    "def train_step(rs_model, optimizer, user_ids, item_ids, ratings):\n",
    "    with tf.GradientTape() as tape:\n",
    "        predictions = rs_model(user_ids, item_ids)\n",
    "        loss, rmse = rs_model.loss_fn_rmse(predictions, ratings)\n",
    "    gradients = tape.gradient(target=loss, sources=rs_model.trainable_variables)\n",
    "    optimizer.apply_gradients(zip(gradients, rs_model.trainable_variables))\n",
    "    return loss, rmse\n",
    "\n",
    "\n",
    "def get_val_rmse(rs_model, val_dataset):\n",
    "    all_ratings = []\n",
    "    all_predictions = []\n",
    "    for i in tqdm(range(val_dataset.num_batch)):\n",
    "        user_ids, item_ids, ratings = val_dataset.get_batch(i)\n",
    "        predictions = rs_model(user_ids, item_ids)\n",
    "        all_predictions.append(predictions.numpy())\n",
    "        all_ratings.append(ratings)\n",
    "    val_predictions = np.concatenate(all_predictions, axis=0)\n",
    "    val_ratings = np.concatenate(all_ratings, axis=0)\n",
    "    return np.sqrt(np.mean((val_predictions - val_ratings) ** 2))\n",
    "\n",
    "\n",
    "def training(rs_model, optimizer, train_dataset, val_dataset, num_epochs, pretrained=False):\n",
    "    epoch_step = tf.Variable(0, dtype=tf.int32)\n",
    "    ckpt = tf.train.Checkpoint(rec_model=rs_model, epoch_step=epoch_step)\n",
    "    manager = tf.train.CheckpointManager(checkpoint=ckpt, directory=model_folder + 'rsmodel_ckpt', max_to_keep=3)\n",
    "    if pretrained:\n",
    "        ckpt.restore(manager.latest_checkpoint)\n",
    "    for epoch in range(num_epochs):\n",
    "        train_loss = tf.constant(0, tf.float32)\n",
    "        train_rmse = tf.constant(0, tf.float32)\n",
    "        start_load_data = time()\n",
    "        train_dataset.shuffle()\n",
    "        load_data_time = time() - start_load_data\n",
    "        start_train_time = time()\n",
    "        for i in tqdm(range(train_dataset.num_batch)):\n",
    "            user_ids, item_ids, ratings = train_dataset.get_batch(i)\n",
    "            loss_step, rmse_step = train_step(rs_model, optimizer, user_ids, item_ids, ratings)\n",
    "            train_loss += loss_step\n",
    "            train_rmse += rmse_step\n",
    "            if i > 1000:\n",
    "                break\n",
    "        train_time = time() - start_train_time\n",
    "        print('epoch: ', epoch, '. load data time: ', load_data_time, \n",
    "              '. train time: ', train_time, '. train loss: ', train_loss.numpy(),\n",
    "             '. train rmse: ', train_rmse.numpy()/(i * train_dataset.batch_size))\n",
    "        if epoch % 2 == 0:\n",
    "            val_rmse = get_val_rmse(rs_model, val_dataset)\n",
    "            score = {'val_rmse': val_rmse}\n",
    "\n",
    "            print('epoch: {}, score: {}'.format(epoch, score))\n",
    "            ckpt.epoch_step.assign_add(epoch + 1)\n",
    "#             pickle.dump(rs_model, open('./rsmodel_ckpt/' + rs_model + '_' + str(ckpt.epoch_step.numpy()) + '.pkl'))\n",
    "            manager.save()\n",
    "            # Save the weights\n",
    "#             rs_model.save_weights('./rsmodel_ckpt/my_checkpoint')\n",
    "#             rs_model.save('./saved_model/my_model')\n",
    "            \n",
    "            print('done save at epoch: ', ckpt.epoch_step.numpy())"
   ]
  },
  {
   "cell_type": "markdown",
   "metadata": {},
   "source": [
    "#### load data"
   ]
  },
  {
   "cell_type": "code",
   "execution_count": 15,
   "metadata": {},
   "outputs": [],
   "source": [
    "train = pickle.load(open(model_folder + 'train.pkl', 'rb'))\n",
    "val = pickle.load(open(model_folder + 'val.pkl', 'rb'))\n",
    "test = pickle.load(open(model_folder + 'test.pkl', 'rb'))\n",
    "\n",
    "movie_id_idx_map = pickle.load(open(model_folder + 'movie_id_idx_map.pkl', 'rb'))\n",
    "idx_movie_id_map = pickle.load(open(model_folder + 'idx_movie_id_map.pkl', 'rb'))\n",
    "meta_data = pickle.load(open(model_folder + 'meta_data.pkl', 'rb'))\n",
    "\n",
    "item_keywords = pickle.load(open(model_folder + 'item_keywords.pkl', 'rb'))"
   ]
  },
  {
   "cell_type": "code",
   "execution_count": 16,
   "metadata": {},
   "outputs": [],
   "source": [
    "train_dataset = DataSet(train[['userId', 'itemId', 'rating']].values, batch_size=1024)\n",
    "val_dataset = DataSet(val[['userId', 'itemId', 'rating']].values, batch_size=1024)\n",
    "test_dataset = DataSet(test[['userId', 'itemId', 'rating']].values, batch_size=1024)"
   ]
  },
  {
   "cell_type": "code",
   "execution_count": 17,
   "metadata": {},
   "outputs": [
    {
     "data": {
      "text/plain": [
       "(3.528208498385696, 3.527078558945723, 3.5269755574597585)"
      ]
     },
     "execution_count": 17,
     "metadata": {},
     "output_type": "execute_result"
    }
   ],
   "source": [
    "train['rating'].mean(), val['rating'].mean(), test['rating'].mean()"
   ]
  },
  {
   "cell_type": "code",
   "execution_count": 18,
   "metadata": {},
   "outputs": [],
   "source": [
    "args = dict()\n",
    "args['embedding_size'] = 64\n",
    "args['keyword_embedding_size'] = 64\n",
    "args['mu'] = train['rating'].mean()\n",
    "# args['mu'] = 0\n",
    "args['alpha'] = 0.005\n",
    "args['beta'] = 0.005\n",
    "args['gamma'] = 0.000\n",
    "args['num_items'] = meta_data['num_items']\n",
    "args['num_users'] = meta_data['num_users']\n",
    "args['num_keywords'] = meta_data['num_keywords']\n",
    "args['item_keywords'] = item_keywords\n",
    "\n",
    "\n",
    "# rsmodel = RSModel(args)\n",
    "# rsmodel = RSModel_2(args)\n",
    "# rsmodel = RSModel_2_1(args)\n",
    "# rsmodel = RSModel_3(args)\n",
    "# rsmodel = RSModel_4(args)\n",
    "# rsmodel = RSModel_5(args)\n",
    "# rsmodel = RSModel_6(args)\n",
    "rsmodel = RSModel_7(args)\n",
    "# rsmodel = RSModel_8(args)\n",
    "\n",
    "opt = tf.keras.optimizers.Adam(learning_rate=0.005)"
   ]
  },
  {
   "cell_type": "code",
   "execution_count": 19,
   "metadata": {},
   "outputs": [
    {
     "name": "stderr",
     "output_type": "stream",
     "text": [
      "  4%|███▎                                                                         | 1001/22872 [02:42<59:20,  6.14it/s]\n",
      "  1%|▋                                                                              | 11/1270 [00:00<00:12, 102.13it/s]"
     ]
    },
    {
     "name": "stdout",
     "output_type": "stream",
     "text": [
      "epoch:  0 . load data time:  43.02695369720459 . train time:  162.991197347641 . train loss:  1071020.6 . train rmse:  0.939278129097465\n"
     ]
    },
    {
     "name": "stderr",
     "output_type": "stream",
     "text": [
      "100%|█████████████████████████████████████████████████████████████████████████████| 1270/1270 [00:08<00:00, 149.58it/s]\n"
     ]
    },
    {
     "name": "stdout",
     "output_type": "stream",
     "text": [
      "epoch: 0, score: {'val_rmse': 0.9279637}\n",
      "done save at epoch:  1\n"
     ]
    },
    {
     "name": "stderr",
     "output_type": "stream",
     "text": [
      "  4%|███▎                                                                         | 1001/22872 [02:43<59:34,  6.12it/s]\n"
     ]
    },
    {
     "name": "stdout",
     "output_type": "stream",
     "text": [
      "epoch:  1 . load data time:  38.30358529090881 . train time:  163.6095449924469 . train loss:  1037285.56 . train rmse:  0.830105075588474\n"
     ]
    },
    {
     "name": "stderr",
     "output_type": "stream",
     "text": [
      "  4%|███▎                                                                         | 1001/22872 [02:29<54:15,  6.72it/s]\n",
      "  2%|█▋                                                                             | 28/1270 [00:00<00:09, 133.56it/s]"
     ]
    },
    {
     "name": "stdout",
     "output_type": "stream",
     "text": [
      "epoch:  2 . load data time:  43.65826725959778 . train time:  149.02054953575134 . train loss:  1008541.6 . train rmse:  0.791931213317932\n"
     ]
    },
    {
     "name": "stderr",
     "output_type": "stream",
     "text": [
      "100%|█████████████████████████████████████████████████████████████████████████████| 1270/1270 [00:09<00:00, 131.37it/s]\n"
     ]
    },
    {
     "name": "stdout",
     "output_type": "stream",
     "text": [
      "epoch: 2, score: {'val_rmse': 0.88833666}\n",
      "done save at epoch:  4\n"
     ]
    },
    {
     "name": "stderr",
     "output_type": "stream",
     "text": [
      "  4%|███▎                                                                         | 1001/22872 [02:31<55:02,  6.62it/s]\n"
     ]
    },
    {
     "name": "stdout",
     "output_type": "stream",
     "text": [
      "epoch:  3 . load data time:  41.744383811950684 . train time:  151.15584135055542 . train loss:  989163.75 . train rmse:  0.7756423873977585\n"
     ]
    },
    {
     "name": "stderr",
     "output_type": "stream",
     "text": [
      "  4%|███▎                                                                         | 1001/22872 [02:26<53:31,  6.81it/s]\n",
      "  2%|█▎                                                                             | 21/1270 [00:00<00:06, 200.53it/s]"
     ]
    },
    {
     "name": "stdout",
     "output_type": "stream",
     "text": [
      "epoch:  4 . load data time:  37.92958474159241 . train time:  146.98299884796143 . train loss:  978953.5 . train rmse:  0.7661305979177073\n"
     ]
    },
    {
     "name": "stderr",
     "output_type": "stream",
     "text": [
      "100%|█████████████████████████████████████████████████████████████████████████████| 1270/1270 [00:07<00:00, 160.14it/s]\n"
     ]
    },
    {
     "name": "stdout",
     "output_type": "stream",
     "text": [
      "epoch: 4, score: {'val_rmse': 0.8796936}\n",
      "done save at epoch:  9\n"
     ]
    },
    {
     "name": "stderr",
     "output_type": "stream",
     "text": [
      "  4%|███▎                                                                         | 1001/22872 [02:29<54:17,  6.71it/s]\n"
     ]
    },
    {
     "name": "stdout",
     "output_type": "stream",
     "text": [
      "epoch:  5 . load data time:  37.96648573875427 . train time:  149.11330389976501 . train loss:  972594.75 . train rmse:  0.7607346267014236\n"
     ]
    },
    {
     "name": "stderr",
     "output_type": "stream",
     "text": [
      "  4%|███▎                                                                         | 1001/22872 [02:33<55:56,  6.52it/s]\n",
      "  1%|▊                                                                              | 14/1270 [00:00<00:09, 138.98it/s]"
     ]
    },
    {
     "name": "stdout",
     "output_type": "stream",
     "text": [
      "epoch:  6 . load data time:  38.9049756526947 . train time:  153.64219403266907 . train loss:  966004.06 . train rmse:  0.7557167563881431\n"
     ]
    },
    {
     "name": "stderr",
     "output_type": "stream",
     "text": [
      "100%|█████████████████████████████████████████████████████████████████████████████| 1270/1270 [00:09<00:00, 130.97it/s]\n"
     ]
    },
    {
     "name": "stdout",
     "output_type": "stream",
     "text": [
      "epoch: 6, score: {'val_rmse': 0.8756067}\n",
      "done save at epoch:  16\n"
     ]
    },
    {
     "name": "stderr",
     "output_type": "stream",
     "text": [
      "  4%|███▎                                                                         | 1001/22872 [02:35<56:43,  6.43it/s]\n"
     ]
    },
    {
     "name": "stdout",
     "output_type": "stream",
     "text": [
      "epoch:  7 . load data time:  41.461142778396606 . train time:  155.77149987220764 . train loss:  965331.1 . train rmse:  0.7540670998922953\n"
     ]
    },
    {
     "name": "stderr",
     "output_type": "stream",
     "text": [
      "  4%|███▎                                                                         | 1001/22872 [02:31<55:04,  6.62it/s]\n",
      "  3%|██                                                                             | 34/1270 [00:00<00:08, 149.10it/s]"
     ]
    },
    {
     "name": "stdout",
     "output_type": "stream",
     "text": [
      "epoch:  8 . load data time:  39.81753706932068 . train time:  151.25757312774658 . train loss:  961787.7 . train rmse:  0.7498556741110453\n"
     ]
    },
    {
     "name": "stderr",
     "output_type": "stream",
     "text": [
      "100%|█████████████████████████████████████████████████████████████████████████████| 1270/1270 [00:07<00:00, 166.81it/s]\n"
     ]
    },
    {
     "name": "stdout",
     "output_type": "stream",
     "text": [
      "epoch: 8, score: {'val_rmse': 0.8731478}\n",
      "done save at epoch:  25\n"
     ]
    },
    {
     "name": "stderr",
     "output_type": "stream",
     "text": [
      "  4%|███▎                                                                         | 1001/22872 [02:34<56:21,  6.47it/s]"
     ]
    },
    {
     "name": "stdout",
     "output_type": "stream",
     "text": [
      "epoch:  9 . load data time:  38.11708211898804 . train time:  154.77217268943787 . train loss:  956775.06 . train rmse:  0.7447006118881119\n"
     ]
    },
    {
     "name": "stderr",
     "output_type": "stream",
     "text": [
      "\n"
     ]
    }
   ],
   "source": [
    "training(rsmodel, opt, train_dataset, val_dataset, num_epochs=10)"
   ]
  },
  {
   "cell_type": "code",
   "execution_count": null,
   "metadata": {},
   "outputs": [],
   "source": []
  },
  {
   "cell_type": "code",
   "execution_count": null,
   "metadata": {},
   "outputs": [],
   "source": []
  },
  {
   "cell_type": "code",
   "execution_count": null,
   "metadata": {},
   "outputs": [],
   "source": []
  },
  {
   "cell_type": "code",
   "execution_count": null,
   "metadata": {},
   "outputs": [],
   "source": []
  },
  {
   "cell_type": "code",
   "execution_count": 19,
   "metadata": {},
   "outputs": [
    {
     "name": "stderr",
     "output_type": "stream",
     "text": [
      "  4%|███▎                                                                         | 1001/22872 [02:29<54:18,  6.71it/s]\n",
      "  1%|▉                                                                              | 15/1270 [00:00<00:09, 136.73it/s]"
     ]
    },
    {
     "name": "stdout",
     "output_type": "stream",
     "text": [
      "epoch:  0 . load data time:  37.38204765319824 . train time:  149.135244846344 . train loss:  1069000.9 . train rmse:  0.9359018666879995\n"
     ]
    },
    {
     "name": "stderr",
     "output_type": "stream",
     "text": [
      "100%|█████████████████████████████████████████████████████████████████████████████| 1270/1270 [00:08<00:00, 146.55it/s]\n"
     ]
    },
    {
     "name": "stdout",
     "output_type": "stream",
     "text": [
      "epoch: 0, score: {'val_rmse': 0.9281823}\n",
      "done save at epoch:  1\n"
     ]
    },
    {
     "name": "stderr",
     "output_type": "stream",
     "text": [
      "  4%|███▎                                                                         | 1001/22872 [02:31<55:16,  6.59it/s]\n"
     ]
    },
    {
     "name": "stdout",
     "output_type": "stream",
     "text": [
      "epoch:  1 . load data time:  38.78330039978027 . train time:  151.8100929260254 . train loss:  1037888.1 . train rmse:  0.829054002637987\n"
     ]
    },
    {
     "name": "stderr",
     "output_type": "stream",
     "text": [
      "  4%|███▎                                                                         | 1001/22872 [02:28<54:13,  6.72it/s]\n",
      "  1%|█                                                                              | 18/1270 [00:00<00:07, 173.54it/s]"
     ]
    },
    {
     "name": "stdout",
     "output_type": "stream",
     "text": [
      "epoch:  2 . load data time:  39.76068878173828 . train time:  148.89289212226868 . train loss:  1016158.9 . train rmse:  0.7966453102561502\n"
     ]
    },
    {
     "name": "stderr",
     "output_type": "stream",
     "text": [
      "100%|█████████████████████████████████████████████████████████████████████████████| 1270/1270 [00:08<00:00, 158.46it/s]\n"
     ]
    },
    {
     "name": "stdout",
     "output_type": "stream",
     "text": [
      "epoch: 2, score: {'val_rmse': 0.8894604}\n",
      "done save at epoch:  4\n"
     ]
    },
    {
     "name": "stderr",
     "output_type": "stream",
     "text": [
      "  1%|▌                                                                             | 161/22872 [00:24<58:00,  6.52it/s]\n"
     ]
    },
    {
     "ename": "KeyboardInterrupt",
     "evalue": "",
     "output_type": "error",
     "traceback": [
      "\u001b[1;31m---------------------------------------------------------------------------\u001b[0m",
      "\u001b[1;31mKeyboardInterrupt\u001b[0m                         Traceback (most recent call last)",
      "\u001b[1;32m<ipython-input-19-14d1c3b6ba28>\u001b[0m in \u001b[0;36m<module>\u001b[1;34m\u001b[0m\n\u001b[1;32m----> 1\u001b[1;33m \u001b[0mtraining\u001b[0m\u001b[1;33m(\u001b[0m\u001b[0mrsmodel\u001b[0m\u001b[1;33m,\u001b[0m \u001b[0mopt\u001b[0m\u001b[1;33m,\u001b[0m \u001b[0mtrain_dataset\u001b[0m\u001b[1;33m,\u001b[0m \u001b[0mval_dataset\u001b[0m\u001b[1;33m,\u001b[0m \u001b[0mnum_epochs\u001b[0m\u001b[1;33m=\u001b[0m\u001b[1;36m10\u001b[0m\u001b[1;33m)\u001b[0m\u001b[1;33m\u001b[0m\u001b[1;33m\u001b[0m\u001b[0m\n\u001b[0m",
      "\u001b[1;32m<ipython-input-14-3bde97a45e29>\u001b[0m in \u001b[0;36mtraining\u001b[1;34m(rs_model, optimizer, train_dataset, val_dataset, num_epochs, pretrained)\u001b[0m\n\u001b[0;32m     35\u001b[0m         \u001b[0mload_data_time\u001b[0m \u001b[1;33m=\u001b[0m \u001b[0mtime\u001b[0m\u001b[1;33m(\u001b[0m\u001b[1;33m)\u001b[0m \u001b[1;33m-\u001b[0m \u001b[0mstart_load_data\u001b[0m\u001b[1;33m\u001b[0m\u001b[1;33m\u001b[0m\u001b[0m\n\u001b[0;32m     36\u001b[0m         \u001b[0mstart_train_time\u001b[0m \u001b[1;33m=\u001b[0m \u001b[0mtime\u001b[0m\u001b[1;33m(\u001b[0m\u001b[1;33m)\u001b[0m\u001b[1;33m\u001b[0m\u001b[1;33m\u001b[0m\u001b[0m\n\u001b[1;32m---> 37\u001b[1;33m         \u001b[1;32mfor\u001b[0m \u001b[0mi\u001b[0m \u001b[1;32min\u001b[0m \u001b[0mtqdm\u001b[0m\u001b[1;33m(\u001b[0m\u001b[0mrange\u001b[0m\u001b[1;33m(\u001b[0m\u001b[0mtrain_dataset\u001b[0m\u001b[1;33m.\u001b[0m\u001b[0mnum_batch\u001b[0m\u001b[1;33m)\u001b[0m\u001b[1;33m)\u001b[0m\u001b[1;33m:\u001b[0m\u001b[1;33m\u001b[0m\u001b[1;33m\u001b[0m\u001b[0m\n\u001b[0m\u001b[0;32m     38\u001b[0m             \u001b[0muser_ids\u001b[0m\u001b[1;33m,\u001b[0m \u001b[0mitem_ids\u001b[0m\u001b[1;33m,\u001b[0m \u001b[0mratings\u001b[0m \u001b[1;33m=\u001b[0m \u001b[0mtrain_dataset\u001b[0m\u001b[1;33m.\u001b[0m\u001b[0mget_batch\u001b[0m\u001b[1;33m(\u001b[0m\u001b[0mi\u001b[0m\u001b[1;33m)\u001b[0m\u001b[1;33m\u001b[0m\u001b[1;33m\u001b[0m\u001b[0m\n\u001b[0;32m     39\u001b[0m             \u001b[0mloss_step\u001b[0m\u001b[1;33m,\u001b[0m \u001b[0mrmse_step\u001b[0m \u001b[1;33m=\u001b[0m \u001b[0mtrain_step\u001b[0m\u001b[1;33m(\u001b[0m\u001b[0mrs_model\u001b[0m\u001b[1;33m,\u001b[0m \u001b[0moptimizer\u001b[0m\u001b[1;33m,\u001b[0m \u001b[0muser_ids\u001b[0m\u001b[1;33m,\u001b[0m \u001b[0mitem_ids\u001b[0m\u001b[1;33m,\u001b[0m \u001b[0mratings\u001b[0m\u001b[1;33m)\u001b[0m\u001b[1;33m\u001b[0m\u001b[1;33m\u001b[0m\u001b[0m\n",
      "\u001b[1;32mc:\\users\\admin\\appdata\\local\\programs\\python\\python38\\lib\\site-packages\\tqdm\\std.py\u001b[0m in \u001b[0;36m__iter__\u001b[1;34m(self)\u001b[0m\n\u001b[0;32m   1182\u001b[0m \u001b[1;33m\u001b[0m\u001b[0m\n\u001b[0;32m   1183\u001b[0m                         \u001b[0mself\u001b[0m\u001b[1;33m.\u001b[0m\u001b[0mn\u001b[0m \u001b[1;33m=\u001b[0m \u001b[0mn\u001b[0m\u001b[1;33m\u001b[0m\u001b[1;33m\u001b[0m\u001b[0m\n\u001b[1;32m-> 1184\u001b[1;33m                         \u001b[0mself\u001b[0m\u001b[1;33m.\u001b[0m\u001b[0mrefresh\u001b[0m\u001b[1;33m(\u001b[0m\u001b[0mlock_args\u001b[0m\u001b[1;33m=\u001b[0m\u001b[0mself\u001b[0m\u001b[1;33m.\u001b[0m\u001b[0mlock_args\u001b[0m\u001b[1;33m)\u001b[0m\u001b[1;33m\u001b[0m\u001b[1;33m\u001b[0m\u001b[0m\n\u001b[0m\u001b[0;32m   1185\u001b[0m \u001b[1;33m\u001b[0m\u001b[0m\n\u001b[0;32m   1186\u001b[0m                         \u001b[1;31m# If no `miniters` was specified, adjust automatically\u001b[0m\u001b[1;33m\u001b[0m\u001b[1;33m\u001b[0m\u001b[1;33m\u001b[0m\u001b[0m\n",
      "\u001b[1;32mc:\\users\\admin\\appdata\\local\\programs\\python\\python38\\lib\\site-packages\\tqdm\\std.py\u001b[0m in \u001b[0;36mrefresh\u001b[1;34m(self, nolock, lock_args)\u001b[0m\n\u001b[0;32m   1378\u001b[0m             \u001b[1;32melse\u001b[0m\u001b[1;33m:\u001b[0m\u001b[1;33m\u001b[0m\u001b[1;33m\u001b[0m\u001b[0m\n\u001b[0;32m   1379\u001b[0m                 \u001b[0mself\u001b[0m\u001b[1;33m.\u001b[0m\u001b[0m_lock\u001b[0m\u001b[1;33m.\u001b[0m\u001b[0macquire\u001b[0m\u001b[1;33m(\u001b[0m\u001b[1;33m)\u001b[0m\u001b[1;33m\u001b[0m\u001b[1;33m\u001b[0m\u001b[0m\n\u001b[1;32m-> 1380\u001b[1;33m         \u001b[0mself\u001b[0m\u001b[1;33m.\u001b[0m\u001b[0mdisplay\u001b[0m\u001b[1;33m(\u001b[0m\u001b[1;33m)\u001b[0m\u001b[1;33m\u001b[0m\u001b[1;33m\u001b[0m\u001b[0m\n\u001b[0m\u001b[0;32m   1381\u001b[0m         \u001b[1;32mif\u001b[0m \u001b[1;32mnot\u001b[0m \u001b[0mnolock\u001b[0m\u001b[1;33m:\u001b[0m\u001b[1;33m\u001b[0m\u001b[1;33m\u001b[0m\u001b[0m\n\u001b[0;32m   1382\u001b[0m             \u001b[0mself\u001b[0m\u001b[1;33m.\u001b[0m\u001b[0m_lock\u001b[0m\u001b[1;33m.\u001b[0m\u001b[0mrelease\u001b[0m\u001b[1;33m(\u001b[0m\u001b[1;33m)\u001b[0m\u001b[1;33m\u001b[0m\u001b[1;33m\u001b[0m\u001b[0m\n",
      "\u001b[1;32mc:\\users\\admin\\appdata\\local\\programs\\python\\python38\\lib\\site-packages\\tqdm\\std.py\u001b[0m in \u001b[0;36mdisplay\u001b[1;34m(self, msg, pos)\u001b[0m\n\u001b[0;32m   1512\u001b[0m         \u001b[1;32mif\u001b[0m \u001b[0mpos\u001b[0m\u001b[1;33m:\u001b[0m\u001b[1;33m\u001b[0m\u001b[1;33m\u001b[0m\u001b[0m\n\u001b[0;32m   1513\u001b[0m             \u001b[0mself\u001b[0m\u001b[1;33m.\u001b[0m\u001b[0mmoveto\u001b[0m\u001b[1;33m(\u001b[0m\u001b[0mpos\u001b[0m\u001b[1;33m)\u001b[0m\u001b[1;33m\u001b[0m\u001b[1;33m\u001b[0m\u001b[0m\n\u001b[1;32m-> 1514\u001b[1;33m         \u001b[0mself\u001b[0m\u001b[1;33m.\u001b[0m\u001b[0msp\u001b[0m\u001b[1;33m(\u001b[0m\u001b[0mself\u001b[0m\u001b[1;33m.\u001b[0m\u001b[0m__repr__\u001b[0m\u001b[1;33m(\u001b[0m\u001b[1;33m)\u001b[0m \u001b[1;32mif\u001b[0m \u001b[0mmsg\u001b[0m \u001b[1;32mis\u001b[0m \u001b[1;32mNone\u001b[0m \u001b[1;32melse\u001b[0m \u001b[0mmsg\u001b[0m\u001b[1;33m)\u001b[0m\u001b[1;33m\u001b[0m\u001b[1;33m\u001b[0m\u001b[0m\n\u001b[0m\u001b[0;32m   1515\u001b[0m         \u001b[1;32mif\u001b[0m \u001b[0mpos\u001b[0m\u001b[1;33m:\u001b[0m\u001b[1;33m\u001b[0m\u001b[1;33m\u001b[0m\u001b[0m\n\u001b[0;32m   1516\u001b[0m             \u001b[0mself\u001b[0m\u001b[1;33m.\u001b[0m\u001b[0mmoveto\u001b[0m\u001b[1;33m(\u001b[0m\u001b[1;33m-\u001b[0m\u001b[0mpos\u001b[0m\u001b[1;33m)\u001b[0m\u001b[1;33m\u001b[0m\u001b[1;33m\u001b[0m\u001b[0m\n",
      "\u001b[1;32mc:\\users\\admin\\appdata\\local\\programs\\python\\python38\\lib\\site-packages\\tqdm\\std.py\u001b[0m in \u001b[0;36mprint_status\u001b[1;34m(s)\u001b[0m\n\u001b[0;32m    333\u001b[0m         \u001b[1;32mdef\u001b[0m \u001b[0mprint_status\u001b[0m\u001b[1;33m(\u001b[0m\u001b[0ms\u001b[0m\u001b[1;33m)\u001b[0m\u001b[1;33m:\u001b[0m\u001b[1;33m\u001b[0m\u001b[1;33m\u001b[0m\u001b[0m\n\u001b[0;32m    334\u001b[0m             \u001b[0mlen_s\u001b[0m \u001b[1;33m=\u001b[0m \u001b[0mdisp_len\u001b[0m\u001b[1;33m(\u001b[0m\u001b[0ms\u001b[0m\u001b[1;33m)\u001b[0m\u001b[1;33m\u001b[0m\u001b[1;33m\u001b[0m\u001b[0m\n\u001b[1;32m--> 335\u001b[1;33m             \u001b[0mfp_write\u001b[0m\u001b[1;33m(\u001b[0m\u001b[1;34m'\\r'\u001b[0m \u001b[1;33m+\u001b[0m \u001b[0ms\u001b[0m \u001b[1;33m+\u001b[0m \u001b[1;33m(\u001b[0m\u001b[1;34m' '\u001b[0m \u001b[1;33m*\u001b[0m \u001b[0mmax\u001b[0m\u001b[1;33m(\u001b[0m\u001b[0mlast_len\u001b[0m\u001b[1;33m[\u001b[0m\u001b[1;36m0\u001b[0m\u001b[1;33m]\u001b[0m \u001b[1;33m-\u001b[0m \u001b[0mlen_s\u001b[0m\u001b[1;33m,\u001b[0m \u001b[1;36m0\u001b[0m\u001b[1;33m)\u001b[0m\u001b[1;33m)\u001b[0m\u001b[1;33m)\u001b[0m\u001b[1;33m\u001b[0m\u001b[1;33m\u001b[0m\u001b[0m\n\u001b[0m\u001b[0;32m    336\u001b[0m             \u001b[0mlast_len\u001b[0m\u001b[1;33m[\u001b[0m\u001b[1;36m0\u001b[0m\u001b[1;33m]\u001b[0m \u001b[1;33m=\u001b[0m \u001b[0mlen_s\u001b[0m\u001b[1;33m\u001b[0m\u001b[1;33m\u001b[0m\u001b[0m\n\u001b[0;32m    337\u001b[0m \u001b[1;33m\u001b[0m\u001b[0m\n",
      "\u001b[1;32mc:\\users\\admin\\appdata\\local\\programs\\python\\python38\\lib\\site-packages\\tqdm\\std.py\u001b[0m in \u001b[0;36mfp_write\u001b[1;34m(s)\u001b[0m\n\u001b[0;32m    327\u001b[0m         \u001b[1;32mdef\u001b[0m \u001b[0mfp_write\u001b[0m\u001b[1;33m(\u001b[0m\u001b[0ms\u001b[0m\u001b[1;33m)\u001b[0m\u001b[1;33m:\u001b[0m\u001b[1;33m\u001b[0m\u001b[1;33m\u001b[0m\u001b[0m\n\u001b[0;32m    328\u001b[0m             \u001b[0mfp\u001b[0m\u001b[1;33m.\u001b[0m\u001b[0mwrite\u001b[0m\u001b[1;33m(\u001b[0m\u001b[0m_unicode\u001b[0m\u001b[1;33m(\u001b[0m\u001b[0ms\u001b[0m\u001b[1;33m)\u001b[0m\u001b[1;33m)\u001b[0m\u001b[1;33m\u001b[0m\u001b[1;33m\u001b[0m\u001b[0m\n\u001b[1;32m--> 329\u001b[1;33m             \u001b[0mfp_flush\u001b[0m\u001b[1;33m(\u001b[0m\u001b[1;33m)\u001b[0m\u001b[1;33m\u001b[0m\u001b[1;33m\u001b[0m\u001b[0m\n\u001b[0m\u001b[0;32m    330\u001b[0m \u001b[1;33m\u001b[0m\u001b[0m\n\u001b[0;32m    331\u001b[0m         \u001b[0mlast_len\u001b[0m \u001b[1;33m=\u001b[0m \u001b[1;33m[\u001b[0m\u001b[1;36m0\u001b[0m\u001b[1;33m]\u001b[0m\u001b[1;33m\u001b[0m\u001b[1;33m\u001b[0m\u001b[0m\n",
      "\u001b[1;32mc:\\users\\admin\\appdata\\local\\programs\\python\\python38\\lib\\site-packages\\tqdm\\utils.py\u001b[0m in \u001b[0;36minner\u001b[1;34m(*args, **kwargs)\u001b[0m\n\u001b[0;32m    221\u001b[0m         \u001b[1;32mdef\u001b[0m \u001b[0minner\u001b[0m\u001b[1;33m(\u001b[0m\u001b[1;33m*\u001b[0m\u001b[0margs\u001b[0m\u001b[1;33m,\u001b[0m \u001b[1;33m**\u001b[0m\u001b[0mkwargs\u001b[0m\u001b[1;33m)\u001b[0m\u001b[1;33m:\u001b[0m\u001b[1;33m\u001b[0m\u001b[1;33m\u001b[0m\u001b[0m\n\u001b[0;32m    222\u001b[0m             \u001b[1;32mtry\u001b[0m\u001b[1;33m:\u001b[0m\u001b[1;33m\u001b[0m\u001b[1;33m\u001b[0m\u001b[0m\n\u001b[1;32m--> 223\u001b[1;33m                 \u001b[1;32mreturn\u001b[0m \u001b[0mfunc\u001b[0m\u001b[1;33m(\u001b[0m\u001b[1;33m*\u001b[0m\u001b[0margs\u001b[0m\u001b[1;33m,\u001b[0m \u001b[1;33m**\u001b[0m\u001b[0mkwargs\u001b[0m\u001b[1;33m)\u001b[0m\u001b[1;33m\u001b[0m\u001b[1;33m\u001b[0m\u001b[0m\n\u001b[0m\u001b[0;32m    224\u001b[0m             \u001b[1;32mexcept\u001b[0m \u001b[1;33m(\u001b[0m\u001b[0mIOError\u001b[0m\u001b[1;33m,\u001b[0m \u001b[0mOSError\u001b[0m\u001b[1;33m)\u001b[0m \u001b[1;32mas\u001b[0m \u001b[0me\u001b[0m\u001b[1;33m:\u001b[0m\u001b[1;33m\u001b[0m\u001b[1;33m\u001b[0m\u001b[0m\n\u001b[0;32m    225\u001b[0m                 \u001b[1;32mif\u001b[0m \u001b[0me\u001b[0m\u001b[1;33m.\u001b[0m\u001b[0merrno\u001b[0m \u001b[1;33m!=\u001b[0m \u001b[1;36m5\u001b[0m\u001b[1;33m:\u001b[0m\u001b[1;33m\u001b[0m\u001b[1;33m\u001b[0m\u001b[0m\n",
      "\u001b[1;32mc:\\users\\admin\\appdata\\local\\programs\\python\\python38\\lib\\site-packages\\ipykernel\\iostream.py\u001b[0m in \u001b[0;36mflush\u001b[1;34m(self)\u001b[0m\n\u001b[0;32m    350\u001b[0m                 \u001b[0mself\u001b[0m\u001b[1;33m.\u001b[0m\u001b[0mpub_thread\u001b[0m\u001b[1;33m.\u001b[0m\u001b[0mschedule\u001b[0m\u001b[1;33m(\u001b[0m\u001b[0mevt\u001b[0m\u001b[1;33m.\u001b[0m\u001b[0mset\u001b[0m\u001b[1;33m)\u001b[0m\u001b[1;33m\u001b[0m\u001b[1;33m\u001b[0m\u001b[0m\n\u001b[0;32m    351\u001b[0m                 \u001b[1;31m# and give a timeout to avoid\u001b[0m\u001b[1;33m\u001b[0m\u001b[1;33m\u001b[0m\u001b[1;33m\u001b[0m\u001b[0m\n\u001b[1;32m--> 352\u001b[1;33m                 \u001b[1;32mif\u001b[0m \u001b[1;32mnot\u001b[0m \u001b[0mevt\u001b[0m\u001b[1;33m.\u001b[0m\u001b[0mwait\u001b[0m\u001b[1;33m(\u001b[0m\u001b[0mself\u001b[0m\u001b[1;33m.\u001b[0m\u001b[0mflush_timeout\u001b[0m\u001b[1;33m)\u001b[0m\u001b[1;33m:\u001b[0m\u001b[1;33m\u001b[0m\u001b[1;33m\u001b[0m\u001b[0m\n\u001b[0m\u001b[0;32m    353\u001b[0m                     \u001b[1;31m# write directly to __stderr__ instead of warning because\u001b[0m\u001b[1;33m\u001b[0m\u001b[1;33m\u001b[0m\u001b[1;33m\u001b[0m\u001b[0m\n\u001b[0;32m    354\u001b[0m                     \u001b[1;31m# if this is happening sys.stderr may be the problem.\u001b[0m\u001b[1;33m\u001b[0m\u001b[1;33m\u001b[0m\u001b[1;33m\u001b[0m\u001b[0m\n",
      "\u001b[1;32mc:\\users\\admin\\appdata\\local\\programs\\python\\python38\\lib\\threading.py\u001b[0m in \u001b[0;36mwait\u001b[1;34m(self, timeout)\u001b[0m\n\u001b[0;32m    556\u001b[0m             \u001b[0msignaled\u001b[0m \u001b[1;33m=\u001b[0m \u001b[0mself\u001b[0m\u001b[1;33m.\u001b[0m\u001b[0m_flag\u001b[0m\u001b[1;33m\u001b[0m\u001b[1;33m\u001b[0m\u001b[0m\n\u001b[0;32m    557\u001b[0m             \u001b[1;32mif\u001b[0m \u001b[1;32mnot\u001b[0m \u001b[0msignaled\u001b[0m\u001b[1;33m:\u001b[0m\u001b[1;33m\u001b[0m\u001b[1;33m\u001b[0m\u001b[0m\n\u001b[1;32m--> 558\u001b[1;33m                 \u001b[0msignaled\u001b[0m \u001b[1;33m=\u001b[0m \u001b[0mself\u001b[0m\u001b[1;33m.\u001b[0m\u001b[0m_cond\u001b[0m\u001b[1;33m.\u001b[0m\u001b[0mwait\u001b[0m\u001b[1;33m(\u001b[0m\u001b[0mtimeout\u001b[0m\u001b[1;33m)\u001b[0m\u001b[1;33m\u001b[0m\u001b[1;33m\u001b[0m\u001b[0m\n\u001b[0m\u001b[0;32m    559\u001b[0m             \u001b[1;32mreturn\u001b[0m \u001b[0msignaled\u001b[0m\u001b[1;33m\u001b[0m\u001b[1;33m\u001b[0m\u001b[0m\n\u001b[0;32m    560\u001b[0m \u001b[1;33m\u001b[0m\u001b[0m\n",
      "\u001b[1;32mc:\\users\\admin\\appdata\\local\\programs\\python\\python38\\lib\\threading.py\u001b[0m in \u001b[0;36mwait\u001b[1;34m(self, timeout)\u001b[0m\n\u001b[0;32m    304\u001b[0m             \u001b[1;32melse\u001b[0m\u001b[1;33m:\u001b[0m\u001b[1;33m\u001b[0m\u001b[1;33m\u001b[0m\u001b[0m\n\u001b[0;32m    305\u001b[0m                 \u001b[1;32mif\u001b[0m \u001b[0mtimeout\u001b[0m \u001b[1;33m>\u001b[0m \u001b[1;36m0\u001b[0m\u001b[1;33m:\u001b[0m\u001b[1;33m\u001b[0m\u001b[1;33m\u001b[0m\u001b[0m\n\u001b[1;32m--> 306\u001b[1;33m                     \u001b[0mgotit\u001b[0m \u001b[1;33m=\u001b[0m \u001b[0mwaiter\u001b[0m\u001b[1;33m.\u001b[0m\u001b[0macquire\u001b[0m\u001b[1;33m(\u001b[0m\u001b[1;32mTrue\u001b[0m\u001b[1;33m,\u001b[0m \u001b[0mtimeout\u001b[0m\u001b[1;33m)\u001b[0m\u001b[1;33m\u001b[0m\u001b[1;33m\u001b[0m\u001b[0m\n\u001b[0m\u001b[0;32m    307\u001b[0m                 \u001b[1;32melse\u001b[0m\u001b[1;33m:\u001b[0m\u001b[1;33m\u001b[0m\u001b[1;33m\u001b[0m\u001b[0m\n\u001b[0;32m    308\u001b[0m                     \u001b[0mgotit\u001b[0m \u001b[1;33m=\u001b[0m \u001b[0mwaiter\u001b[0m\u001b[1;33m.\u001b[0m\u001b[0macquire\u001b[0m\u001b[1;33m(\u001b[0m\u001b[1;32mFalse\u001b[0m\u001b[1;33m)\u001b[0m\u001b[1;33m\u001b[0m\u001b[1;33m\u001b[0m\u001b[0m\n",
      "\u001b[1;31mKeyboardInterrupt\u001b[0m: "
     ]
    }
   ],
   "source": [
    "training(rsmodel, opt, train_dataset, val_dataset, num_epochs=10)"
   ]
  },
  {
   "cell_type": "code",
   "execution_count": null,
   "metadata": {},
   "outputs": [],
   "source": []
  },
  {
   "cell_type": "code",
   "execution_count": null,
   "metadata": {},
   "outputs": [],
   "source": []
  },
  {
   "cell_type": "code",
   "execution_count": null,
   "metadata": {},
   "outputs": [],
   "source": []
  },
  {
   "cell_type": "code",
   "execution_count": null,
   "metadata": {},
   "outputs": [],
   "source": []
  },
  {
   "cell_type": "code",
   "execution_count": 19,
   "metadata": {},
   "outputs": [
    {
     "name": "stderr",
     "output_type": "stream",
     "text": [
      "  4%|███▎                                                                         | 1001/22872 [02:26<53:16,  6.84it/s]\n",
      "  3%|██▌                                                                            | 42/1270 [00:00<00:06, 202.27it/s]"
     ]
    },
    {
     "name": "stdout",
     "output_type": "stream",
     "text": [
      "epoch:  0 . load data time:  39.373722076416016 . train time:  146.295836687088 . train loss:  1172094.1 . train rmse:  0.9622701517232767\n"
     ]
    },
    {
     "name": "stderr",
     "output_type": "stream",
     "text": [
      "100%|█████████████████████████████████████████████████████████████████████████████| 1270/1270 [00:05<00:00, 229.23it/s]\n"
     ]
    },
    {
     "name": "stdout",
     "output_type": "stream",
     "text": [
      "epoch: 0, score: {'val_rmse': 0.9522887}\n",
      "done save at epoch:  1\n"
     ]
    },
    {
     "name": "stderr",
     "output_type": "stream",
     "text": [
      "  4%|███▎                                                                         | 1001/22872 [02:26<53:28,  6.82it/s]\n"
     ]
    },
    {
     "name": "stdout",
     "output_type": "stream",
     "text": [
      "epoch:  1 . load data time:  37.85977101325989 . train time:  146.84636521339417 . train loss:  1240810.4 . train rmse:  0.8821183089371566\n"
     ]
    },
    {
     "name": "stderr",
     "output_type": "stream",
     "text": [
      "  4%|███▎                                                                         | 1001/22872 [02:27<53:37,  6.80it/s]\n",
      "  4%|███▏                                                                           | 51/1270 [00:00<00:04, 244.47it/s]"
     ]
    },
    {
     "name": "stdout",
     "output_type": "stream",
     "text": [
      "epoch:  2 . load data time:  38.21083164215088 . train time:  147.25028491020203 . train loss:  1234509.2 . train rmse:  0.8495979118537712\n"
     ]
    },
    {
     "name": "stderr",
     "output_type": "stream",
     "text": [
      "100%|█████████████████████████████████████████████████████████████████████████████| 1270/1270 [00:05<00:00, 220.96it/s]\n"
     ]
    },
    {
     "name": "stdout",
     "output_type": "stream",
     "text": [
      "epoch: 2, score: {'val_rmse': 0.92180395}\n",
      "done save at epoch:  4\n"
     ]
    },
    {
     "ename": "KeyboardInterrupt",
     "evalue": "",
     "output_type": "error",
     "traceback": [
      "\u001b[1;31m---------------------------------------------------------------------------\u001b[0m",
      "\u001b[1;31mKeyboardInterrupt\u001b[0m                         Traceback (most recent call last)",
      "\u001b[1;32m<ipython-input-19-14d1c3b6ba28>\u001b[0m in \u001b[0;36m<module>\u001b[1;34m\u001b[0m\n\u001b[1;32m----> 1\u001b[1;33m \u001b[0mtraining\u001b[0m\u001b[1;33m(\u001b[0m\u001b[0mrsmodel\u001b[0m\u001b[1;33m,\u001b[0m \u001b[0mopt\u001b[0m\u001b[1;33m,\u001b[0m \u001b[0mtrain_dataset\u001b[0m\u001b[1;33m,\u001b[0m \u001b[0mval_dataset\u001b[0m\u001b[1;33m,\u001b[0m \u001b[0mnum_epochs\u001b[0m\u001b[1;33m=\u001b[0m\u001b[1;36m10\u001b[0m\u001b[1;33m)\u001b[0m\u001b[1;33m\u001b[0m\u001b[1;33m\u001b[0m\u001b[0m\n\u001b[0m",
      "\u001b[1;32m<ipython-input-14-3bde97a45e29>\u001b[0m in \u001b[0;36mtraining\u001b[1;34m(rs_model, optimizer, train_dataset, val_dataset, num_epochs, pretrained)\u001b[0m\n\u001b[0;32m     32\u001b[0m         \u001b[0mtrain_rmse\u001b[0m \u001b[1;33m=\u001b[0m \u001b[0mtf\u001b[0m\u001b[1;33m.\u001b[0m\u001b[0mconstant\u001b[0m\u001b[1;33m(\u001b[0m\u001b[1;36m0\u001b[0m\u001b[1;33m,\u001b[0m \u001b[0mtf\u001b[0m\u001b[1;33m.\u001b[0m\u001b[0mfloat32\u001b[0m\u001b[1;33m)\u001b[0m\u001b[1;33m\u001b[0m\u001b[1;33m\u001b[0m\u001b[0m\n\u001b[0;32m     33\u001b[0m         \u001b[0mstart_load_data\u001b[0m \u001b[1;33m=\u001b[0m \u001b[0mtime\u001b[0m\u001b[1;33m(\u001b[0m\u001b[1;33m)\u001b[0m\u001b[1;33m\u001b[0m\u001b[1;33m\u001b[0m\u001b[0m\n\u001b[1;32m---> 34\u001b[1;33m         \u001b[0mtrain_dataset\u001b[0m\u001b[1;33m.\u001b[0m\u001b[0mshuffle\u001b[0m\u001b[1;33m(\u001b[0m\u001b[1;33m)\u001b[0m\u001b[1;33m\u001b[0m\u001b[1;33m\u001b[0m\u001b[0m\n\u001b[0m\u001b[0;32m     35\u001b[0m         \u001b[0mload_data_time\u001b[0m \u001b[1;33m=\u001b[0m \u001b[0mtime\u001b[0m\u001b[1;33m(\u001b[0m\u001b[1;33m)\u001b[0m \u001b[1;33m-\u001b[0m \u001b[0mstart_load_data\u001b[0m\u001b[1;33m\u001b[0m\u001b[1;33m\u001b[0m\u001b[0m\n\u001b[0;32m     36\u001b[0m         \u001b[0mstart_train_time\u001b[0m \u001b[1;33m=\u001b[0m \u001b[0mtime\u001b[0m\u001b[1;33m(\u001b[0m\u001b[1;33m)\u001b[0m\u001b[1;33m\u001b[0m\u001b[1;33m\u001b[0m\u001b[0m\n",
      "\u001b[1;32m<ipython-input-4-1638cf38bac5>\u001b[0m in \u001b[0;36mshuffle\u001b[1;34m(self)\u001b[0m\n\u001b[0;32m      7\u001b[0m \u001b[1;33m\u001b[0m\u001b[0m\n\u001b[0;32m      8\u001b[0m     \u001b[1;32mdef\u001b[0m \u001b[0mshuffle\u001b[0m\u001b[1;33m(\u001b[0m\u001b[0mself\u001b[0m\u001b[1;33m)\u001b[0m\u001b[1;33m:\u001b[0m\u001b[1;33m\u001b[0m\u001b[1;33m\u001b[0m\u001b[0m\n\u001b[1;32m----> 9\u001b[1;33m         \u001b[0mnp\u001b[0m\u001b[1;33m.\u001b[0m\u001b[0mrandom\u001b[0m\u001b[1;33m.\u001b[0m\u001b[0mshuffle\u001b[0m\u001b[1;33m(\u001b[0m\u001b[0mself\u001b[0m\u001b[1;33m.\u001b[0m\u001b[0mratings\u001b[0m\u001b[1;33m)\u001b[0m\u001b[1;33m\u001b[0m\u001b[1;33m\u001b[0m\u001b[0m\n\u001b[0m\u001b[0;32m     10\u001b[0m \u001b[1;33m\u001b[0m\u001b[0m\n\u001b[0;32m     11\u001b[0m     \u001b[1;32mdef\u001b[0m \u001b[0mget_batch\u001b[0m\u001b[1;33m(\u001b[0m\u001b[0mself\u001b[0m\u001b[1;33m,\u001b[0m \u001b[0mi\u001b[0m\u001b[1;33m)\u001b[0m\u001b[1;33m:\u001b[0m\u001b[1;33m\u001b[0m\u001b[1;33m\u001b[0m\u001b[0m\n",
      "\u001b[1;31mKeyboardInterrupt\u001b[0m: "
     ]
    }
   ],
   "source": [
    "training(rsmodel, opt, train_dataset, val_dataset, num_epochs=10)"
   ]
  },
  {
   "cell_type": "code",
   "execution_count": null,
   "metadata": {},
   "outputs": [],
   "source": []
  },
  {
   "cell_type": "code",
   "execution_count": 20,
   "metadata": {},
   "outputs": [
    {
     "data": {
      "text/plain": [
       "array([nan, nan, nan, nan, nan, nan, nan, nan, nan, nan, nan, nan, nan,\n",
       "       nan, nan, nan, nan, nan, nan, nan, nan, nan, nan, nan, nan, nan,\n",
       "       nan, nan, nan, nan, nan, nan, nan, nan, nan, nan, nan, nan, nan,\n",
       "       nan, nan, nan, nan, nan, nan, nan, nan, nan, nan, nan, nan, nan,\n",
       "       nan, nan, nan, nan, nan, nan, nan, nan, nan, nan, nan, nan],\n",
       "      dtype=float32)"
      ]
     },
     "execution_count": 20,
     "metadata": {},
     "output_type": "execute_result"
    }
   ],
   "source": [
    "rsmodel.keyword_embedding.weights[0].numpy()[0]"
   ]
  },
  {
   "cell_type": "code",
   "execution_count": 21,
   "metadata": {},
   "outputs": [],
   "source": [
    "inputs = np.array([0, 1, 2], dtype=np.int32)"
   ]
  },
  {
   "cell_type": "code",
   "execution_count": 22,
   "metadata": {},
   "outputs": [],
   "source": [
    "embedding_ouput = rsmodel.keyword_embedding(inputs)"
   ]
  },
  {
   "cell_type": "code",
   "execution_count": 23,
   "metadata": {},
   "outputs": [
    {
     "data": {
      "text/plain": [
       "<tf.Tensor: shape=(3, 64), dtype=float32, numpy=\n",
       "array([[nan, nan, nan, nan, nan, nan, nan, nan, nan, nan, nan, nan, nan,\n",
       "        nan, nan, nan, nan, nan, nan, nan, nan, nan, nan, nan, nan, nan,\n",
       "        nan, nan, nan, nan, nan, nan, nan, nan, nan, nan, nan, nan, nan,\n",
       "        nan, nan, nan, nan, nan, nan, nan, nan, nan, nan, nan, nan, nan,\n",
       "        nan, nan, nan, nan, nan, nan, nan, nan, nan, nan, nan, nan],\n",
       "       [nan, nan, nan, nan, nan, nan, nan, nan, nan, nan, nan, nan, nan,\n",
       "        nan, nan, nan, nan, nan, nan, nan, nan, nan, nan, nan, nan, nan,\n",
       "        nan, nan, nan, nan, nan, nan, nan, nan, nan, nan, nan, nan, nan,\n",
       "        nan, nan, nan, nan, nan, nan, nan, nan, nan, nan, nan, nan, nan,\n",
       "        nan, nan, nan, nan, nan, nan, nan, nan, nan, nan, nan, nan],\n",
       "       [nan, nan, nan, nan, nan, nan, nan, nan, nan, nan, nan, nan, nan,\n",
       "        nan, nan, nan, nan, nan, nan, nan, nan, nan, nan, nan, nan, nan,\n",
       "        nan, nan, nan, nan, nan, nan, nan, nan, nan, nan, nan, nan, nan,\n",
       "        nan, nan, nan, nan, nan, nan, nan, nan, nan, nan, nan, nan, nan,\n",
       "        nan, nan, nan, nan, nan, nan, nan, nan, nan, nan, nan, nan]],\n",
       "      dtype=float32)>"
      ]
     },
     "execution_count": 23,
     "metadata": {},
     "output_type": "execute_result"
    }
   ],
   "source": [
    "mask = rsmodel.keyword_embedding.compute_mask(inputs)\n",
    "tf.multiply(embedding_ouput, tf.expand_dims(tf.cast(mask, tf.float32), 1)) "
   ]
  },
  {
   "cell_type": "code",
   "execution_count": 25,
   "metadata": {},
   "outputs": [
    {
     "data": {
      "text/plain": [
       "<tf.Tensor: shape=(3,), dtype=bool, numpy=array([False,  True,  True])>"
      ]
     },
     "execution_count": 25,
     "metadata": {},
     "output_type": "execute_result"
    }
   ],
   "source": [
    "mask"
   ]
  },
  {
   "cell_type": "code",
   "execution_count": 39,
   "metadata": {},
   "outputs": [
    {
     "data": {
      "text/plain": [
       "TensorShape([3, 64])"
      ]
     },
     "execution_count": 39,
     "metadata": {},
     "output_type": "execute_result"
    }
   ],
   "source": [
    "embedding_ouput.shape"
   ]
  },
  {
   "cell_type": "code",
   "execution_count": 43,
   "metadata": {},
   "outputs": [
    {
     "data": {
      "text/plain": [
       "<tf.Tensor: shape=(3,), dtype=float32, numpy=array([0., 1., 1.], dtype=float32)>"
      ]
     },
     "execution_count": 43,
     "metadata": {},
     "output_type": "execute_result"
    }
   ],
   "source": []
  },
  {
   "cell_type": "code",
   "execution_count": 40,
   "metadata": {},
   "outputs": [
    {
     "data": {
      "text/plain": [
       "TensorShape([3])"
      ]
     },
     "execution_count": 40,
     "metadata": {},
     "output_type": "execute_result"
    }
   ],
   "source": [
    "mask.shape"
   ]
  },
  {
   "cell_type": "code",
   "execution_count": 29,
   "metadata": {},
   "outputs": [
    {
     "data": {
      "text/plain": [
       "<tf.Tensor: shape=(), dtype=float32, numpy=2.0>"
      ]
     },
     "execution_count": 29,
     "metadata": {},
     "output_type": "execute_result"
    }
   ],
   "source": [
    "tf.reduce_sum(tf.cast(mask, tf.float32))"
   ]
  },
  {
   "cell_type": "code",
   "execution_count": null,
   "metadata": {},
   "outputs": [],
   "source": []
  },
  {
   "cell_type": "code",
   "execution_count": null,
   "metadata": {},
   "outputs": [],
   "source": []
  },
  {
   "cell_type": "code",
   "execution_count": null,
   "metadata": {},
   "outputs": [],
   "source": []
  },
  {
   "cell_type": "code",
   "execution_count": null,
   "metadata": {},
   "outputs": [],
   "source": []
  },
  {
   "cell_type": "code",
   "execution_count": 17,
   "metadata": {
    "scrolled": false
   },
   "outputs": [
    {
     "name": "stderr",
     "output_type": "stream",
     "text": [
      "  4%|███▎                                                                         | 1001/22872 [02:28<53:55,  6.76it/s]\n",
      "  2%|█▎                                                                             | 21/1270 [00:00<00:06, 206.43it/s]"
     ]
    },
    {
     "name": "stdout",
     "output_type": "stream",
     "text": [
      "epoch:  0 . load data time:  41.693519830703735 . train time:  148.07308554649353 . train loss:  1113414.1 . train rmse:  0.9786702555257243\n"
     ]
    },
    {
     "name": "stderr",
     "output_type": "stream",
     "text": [
      "100%|█████████████████████████████████████████████████████████████████████████████| 1270/1270 [00:05<00:00, 213.76it/s]\n"
     ]
    },
    {
     "name": "stdout",
     "output_type": "stream",
     "text": [
      "epoch: 0, score: {'val_rmse': 0.9340567}\n",
      "done save at epoch:  1\n"
     ]
    },
    {
     "name": "stderr",
     "output_type": "stream",
     "text": [
      "  4%|███▎                                                                         | 1001/22872 [02:25<52:52,  6.89it/s]\n"
     ]
    },
    {
     "name": "stdout",
     "output_type": "stream",
     "text": [
      "epoch:  1 . load data time:  38.76335430145264 . train time:  145.1927855014801 . train loss:  1049989.5 . train rmse:  0.8396779002247752\n"
     ]
    },
    {
     "name": "stderr",
     "output_type": "stream",
     "text": [
      "  4%|███▎                                                                         | 1001/22872 [02:30<54:51,  6.64it/s]\n",
      "  2%|█▎                                                                             | 21/1270 [00:00<00:06, 204.43it/s]"
     ]
    },
    {
     "name": "stdout",
     "output_type": "stream",
     "text": [
      "epoch:  2 . load data time:  39.29692769050598 . train time:  150.65518164634705 . train loss:  1023757.2 . train rmse:  0.8022185943938873\n"
     ]
    },
    {
     "name": "stderr",
     "output_type": "stream",
     "text": [
      "100%|█████████████████████████████████████████████████████████████████████████████| 1270/1270 [00:06<00:00, 203.13it/s]\n"
     ]
    },
    {
     "name": "stdout",
     "output_type": "stream",
     "text": [
      "epoch: 2, score: {'val_rmse': 0.8953211}\n",
      "done save at epoch:  4\n"
     ]
    },
    {
     "name": "stderr",
     "output_type": "stream",
     "text": [
      "  4%|███▎                                                                         | 1001/22872 [02:29<54:20,  6.71it/s]\n"
     ]
    },
    {
     "name": "stdout",
     "output_type": "stream",
     "text": [
      "epoch:  3 . load data time:  38.81920647621155 . train time:  149.22799634933472 . train loss:  1005128.56 . train rmse:  0.7858314780922203\n"
     ]
    },
    {
     "name": "stderr",
     "output_type": "stream",
     "text": [
      "  4%|███▎                                                                         | 1001/22872 [02:31<55:12,  6.60it/s]\n",
      "  2%|█▎                                                                             | 21/1270 [00:00<00:06, 204.43it/s]"
     ]
    },
    {
     "name": "stdout",
     "output_type": "stream",
     "text": [
      "epoch:  4 . load data time:  38.68456530570984 . train time:  151.60962891578674 . train loss:  993472.8 . train rmse:  0.776420113090035\n"
     ]
    },
    {
     "name": "stderr",
     "output_type": "stream",
     "text": [
      "100%|█████████████████████████████████████████████████████████████████████████████| 1270/1270 [00:05<00:00, 212.91it/s]\n"
     ]
    },
    {
     "name": "stdout",
     "output_type": "stream",
     "text": [
      "epoch: 4, score: {'val_rmse': 0.8842201}\n",
      "done save at epoch:  9\n"
     ]
    },
    {
     "name": "stderr",
     "output_type": "stream",
     "text": [
      "  4%|███▎                                                                         | 1001/22872 [02:30<54:48,  6.65it/s]\n"
     ]
    },
    {
     "name": "stdout",
     "output_type": "stream",
     "text": [
      "epoch:  5 . load data time:  40.455830335617065 . train time:  150.5305140018463 . train loss:  984538.5 . train rmse:  0.7690794922850587\n"
     ]
    },
    {
     "name": "stderr",
     "output_type": "stream",
     "text": [
      "  4%|███▎                                                                         | 1001/22872 [02:32<55:34,  6.56it/s]\n",
      "  1%|▉                                                                              | 15/1270 [00:00<00:09, 135.49it/s]"
     ]
    },
    {
     "name": "stdout",
     "output_type": "stream",
     "text": [
      "epoch:  6 . load data time:  40.45283842086792 . train time:  152.61095094680786 . train loss:  976946.9 . train rmse:  0.7625834858500874\n"
     ]
    },
    {
     "name": "stderr",
     "output_type": "stream",
     "text": [
      "100%|█████████████████████████████████████████████████████████████████████████████| 1270/1270 [00:07<00:00, 175.79it/s]\n"
     ]
    },
    {
     "name": "stdout",
     "output_type": "stream",
     "text": [
      "epoch: 6, score: {'val_rmse': 0.88025796}\n",
      "done save at epoch:  16\n"
     ]
    },
    {
     "name": "stderr",
     "output_type": "stream",
     "text": [
      "  4%|███▎                                                                         | 1001/22872 [02:38<57:48,  6.31it/s]\n"
     ]
    },
    {
     "name": "stdout",
     "output_type": "stream",
     "text": [
      "epoch:  7 . load data time:  42.01964807510376 . train time:  158.73457860946655 . train loss:  978202.5 . train rmse:  0.7631292657537775\n"
     ]
    },
    {
     "name": "stderr",
     "output_type": "stream",
     "text": [
      "  4%|███▎                                                                         | 1001/22872 [02:31<55:06,  6.61it/s]\n",
      "  1%|█▏                                                                             | 19/1270 [00:00<00:06, 186.77it/s]"
     ]
    },
    {
     "name": "stdout",
     "output_type": "stream",
     "text": [
      "epoch:  8 . load data time:  39.49340319633484 . train time:  151.3473289012909 . train loss:  967230.25 . train rmse:  0.753494247451767\n"
     ]
    },
    {
     "name": "stderr",
     "output_type": "stream",
     "text": [
      "100%|█████████████████████████████████████████████████████████████████████████████| 1270/1270 [00:06<00:00, 196.15it/s]\n"
     ]
    },
    {
     "name": "stdout",
     "output_type": "stream",
     "text": [
      "epoch: 8, score: {'val_rmse': 0.87651366}\n",
      "done save at epoch:  25\n"
     ]
    },
    {
     "name": "stderr",
     "output_type": "stream",
     "text": [
      "  2%|█▊                                                                            | 519/22872 [01:20<57:29,  6.48it/s]\n"
     ]
    },
    {
     "ename": "KeyboardInterrupt",
     "evalue": "",
     "output_type": "error",
     "traceback": [
      "\u001b[1;31m---------------------------------------------------------------------------\u001b[0m",
      "\u001b[1;31mKeyboardInterrupt\u001b[0m                         Traceback (most recent call last)",
      "\u001b[1;32m<ipython-input-17-14d1c3b6ba28>\u001b[0m in \u001b[0;36m<module>\u001b[1;34m\u001b[0m\n\u001b[1;32m----> 1\u001b[1;33m \u001b[0mtraining\u001b[0m\u001b[1;33m(\u001b[0m\u001b[0mrsmodel\u001b[0m\u001b[1;33m,\u001b[0m \u001b[0mopt\u001b[0m\u001b[1;33m,\u001b[0m \u001b[0mtrain_dataset\u001b[0m\u001b[1;33m,\u001b[0m \u001b[0mval_dataset\u001b[0m\u001b[1;33m,\u001b[0m \u001b[0mnum_epochs\u001b[0m\u001b[1;33m=\u001b[0m\u001b[1;36m10\u001b[0m\u001b[1;33m)\u001b[0m\u001b[1;33m\u001b[0m\u001b[1;33m\u001b[0m\u001b[0m\n\u001b[0m",
      "\u001b[1;32m<ipython-input-12-3bde97a45e29>\u001b[0m in \u001b[0;36mtraining\u001b[1;34m(rs_model, optimizer, train_dataset, val_dataset, num_epochs, pretrained)\u001b[0m\n\u001b[0;32m     35\u001b[0m         \u001b[0mload_data_time\u001b[0m \u001b[1;33m=\u001b[0m \u001b[0mtime\u001b[0m\u001b[1;33m(\u001b[0m\u001b[1;33m)\u001b[0m \u001b[1;33m-\u001b[0m \u001b[0mstart_load_data\u001b[0m\u001b[1;33m\u001b[0m\u001b[1;33m\u001b[0m\u001b[0m\n\u001b[0;32m     36\u001b[0m         \u001b[0mstart_train_time\u001b[0m \u001b[1;33m=\u001b[0m \u001b[0mtime\u001b[0m\u001b[1;33m(\u001b[0m\u001b[1;33m)\u001b[0m\u001b[1;33m\u001b[0m\u001b[1;33m\u001b[0m\u001b[0m\n\u001b[1;32m---> 37\u001b[1;33m         \u001b[1;32mfor\u001b[0m \u001b[0mi\u001b[0m \u001b[1;32min\u001b[0m \u001b[0mtqdm\u001b[0m\u001b[1;33m(\u001b[0m\u001b[0mrange\u001b[0m\u001b[1;33m(\u001b[0m\u001b[0mtrain_dataset\u001b[0m\u001b[1;33m.\u001b[0m\u001b[0mnum_batch\u001b[0m\u001b[1;33m)\u001b[0m\u001b[1;33m)\u001b[0m\u001b[1;33m:\u001b[0m\u001b[1;33m\u001b[0m\u001b[1;33m\u001b[0m\u001b[0m\n\u001b[0m\u001b[0;32m     38\u001b[0m             \u001b[0muser_ids\u001b[0m\u001b[1;33m,\u001b[0m \u001b[0mitem_ids\u001b[0m\u001b[1;33m,\u001b[0m \u001b[0mratings\u001b[0m \u001b[1;33m=\u001b[0m \u001b[0mtrain_dataset\u001b[0m\u001b[1;33m.\u001b[0m\u001b[0mget_batch\u001b[0m\u001b[1;33m(\u001b[0m\u001b[0mi\u001b[0m\u001b[1;33m)\u001b[0m\u001b[1;33m\u001b[0m\u001b[1;33m\u001b[0m\u001b[0m\n\u001b[0;32m     39\u001b[0m             \u001b[0mloss_step\u001b[0m\u001b[1;33m,\u001b[0m \u001b[0mrmse_step\u001b[0m \u001b[1;33m=\u001b[0m \u001b[0mtrain_step\u001b[0m\u001b[1;33m(\u001b[0m\u001b[0mrs_model\u001b[0m\u001b[1;33m,\u001b[0m \u001b[0moptimizer\u001b[0m\u001b[1;33m,\u001b[0m \u001b[0muser_ids\u001b[0m\u001b[1;33m,\u001b[0m \u001b[0mitem_ids\u001b[0m\u001b[1;33m,\u001b[0m \u001b[0mratings\u001b[0m\u001b[1;33m)\u001b[0m\u001b[1;33m\u001b[0m\u001b[1;33m\u001b[0m\u001b[0m\n",
      "\u001b[1;32mc:\\users\\admin\\appdata\\local\\programs\\python\\python38\\lib\\site-packages\\tqdm\\std.py\u001b[0m in \u001b[0;36m__iter__\u001b[1;34m(self)\u001b[0m\n\u001b[0;32m   1182\u001b[0m \u001b[1;33m\u001b[0m\u001b[0m\n\u001b[0;32m   1183\u001b[0m                         \u001b[0mself\u001b[0m\u001b[1;33m.\u001b[0m\u001b[0mn\u001b[0m \u001b[1;33m=\u001b[0m \u001b[0mn\u001b[0m\u001b[1;33m\u001b[0m\u001b[1;33m\u001b[0m\u001b[0m\n\u001b[1;32m-> 1184\u001b[1;33m                         \u001b[0mself\u001b[0m\u001b[1;33m.\u001b[0m\u001b[0mrefresh\u001b[0m\u001b[1;33m(\u001b[0m\u001b[0mlock_args\u001b[0m\u001b[1;33m=\u001b[0m\u001b[0mself\u001b[0m\u001b[1;33m.\u001b[0m\u001b[0mlock_args\u001b[0m\u001b[1;33m)\u001b[0m\u001b[1;33m\u001b[0m\u001b[1;33m\u001b[0m\u001b[0m\n\u001b[0m\u001b[0;32m   1185\u001b[0m \u001b[1;33m\u001b[0m\u001b[0m\n\u001b[0;32m   1186\u001b[0m                         \u001b[1;31m# If no `miniters` was specified, adjust automatically\u001b[0m\u001b[1;33m\u001b[0m\u001b[1;33m\u001b[0m\u001b[1;33m\u001b[0m\u001b[0m\n",
      "\u001b[1;32mc:\\users\\admin\\appdata\\local\\programs\\python\\python38\\lib\\site-packages\\tqdm\\std.py\u001b[0m in \u001b[0;36mrefresh\u001b[1;34m(self, nolock, lock_args)\u001b[0m\n\u001b[0;32m   1378\u001b[0m             \u001b[1;32melse\u001b[0m\u001b[1;33m:\u001b[0m\u001b[1;33m\u001b[0m\u001b[1;33m\u001b[0m\u001b[0m\n\u001b[0;32m   1379\u001b[0m                 \u001b[0mself\u001b[0m\u001b[1;33m.\u001b[0m\u001b[0m_lock\u001b[0m\u001b[1;33m.\u001b[0m\u001b[0macquire\u001b[0m\u001b[1;33m(\u001b[0m\u001b[1;33m)\u001b[0m\u001b[1;33m\u001b[0m\u001b[1;33m\u001b[0m\u001b[0m\n\u001b[1;32m-> 1380\u001b[1;33m         \u001b[0mself\u001b[0m\u001b[1;33m.\u001b[0m\u001b[0mdisplay\u001b[0m\u001b[1;33m(\u001b[0m\u001b[1;33m)\u001b[0m\u001b[1;33m\u001b[0m\u001b[1;33m\u001b[0m\u001b[0m\n\u001b[0m\u001b[0;32m   1381\u001b[0m         \u001b[1;32mif\u001b[0m \u001b[1;32mnot\u001b[0m \u001b[0mnolock\u001b[0m\u001b[1;33m:\u001b[0m\u001b[1;33m\u001b[0m\u001b[1;33m\u001b[0m\u001b[0m\n\u001b[0;32m   1382\u001b[0m             \u001b[0mself\u001b[0m\u001b[1;33m.\u001b[0m\u001b[0m_lock\u001b[0m\u001b[1;33m.\u001b[0m\u001b[0mrelease\u001b[0m\u001b[1;33m(\u001b[0m\u001b[1;33m)\u001b[0m\u001b[1;33m\u001b[0m\u001b[1;33m\u001b[0m\u001b[0m\n",
      "\u001b[1;32mc:\\users\\admin\\appdata\\local\\programs\\python\\python38\\lib\\site-packages\\tqdm\\std.py\u001b[0m in \u001b[0;36mdisplay\u001b[1;34m(self, msg, pos)\u001b[0m\n\u001b[0;32m   1512\u001b[0m         \u001b[1;32mif\u001b[0m \u001b[0mpos\u001b[0m\u001b[1;33m:\u001b[0m\u001b[1;33m\u001b[0m\u001b[1;33m\u001b[0m\u001b[0m\n\u001b[0;32m   1513\u001b[0m             \u001b[0mself\u001b[0m\u001b[1;33m.\u001b[0m\u001b[0mmoveto\u001b[0m\u001b[1;33m(\u001b[0m\u001b[0mpos\u001b[0m\u001b[1;33m)\u001b[0m\u001b[1;33m\u001b[0m\u001b[1;33m\u001b[0m\u001b[0m\n\u001b[1;32m-> 1514\u001b[1;33m         \u001b[0mself\u001b[0m\u001b[1;33m.\u001b[0m\u001b[0msp\u001b[0m\u001b[1;33m(\u001b[0m\u001b[0mself\u001b[0m\u001b[1;33m.\u001b[0m\u001b[0m__repr__\u001b[0m\u001b[1;33m(\u001b[0m\u001b[1;33m)\u001b[0m \u001b[1;32mif\u001b[0m \u001b[0mmsg\u001b[0m \u001b[1;32mis\u001b[0m \u001b[1;32mNone\u001b[0m \u001b[1;32melse\u001b[0m \u001b[0mmsg\u001b[0m\u001b[1;33m)\u001b[0m\u001b[1;33m\u001b[0m\u001b[1;33m\u001b[0m\u001b[0m\n\u001b[0m\u001b[0;32m   1515\u001b[0m         \u001b[1;32mif\u001b[0m \u001b[0mpos\u001b[0m\u001b[1;33m:\u001b[0m\u001b[1;33m\u001b[0m\u001b[1;33m\u001b[0m\u001b[0m\n\u001b[0;32m   1516\u001b[0m             \u001b[0mself\u001b[0m\u001b[1;33m.\u001b[0m\u001b[0mmoveto\u001b[0m\u001b[1;33m(\u001b[0m\u001b[1;33m-\u001b[0m\u001b[0mpos\u001b[0m\u001b[1;33m)\u001b[0m\u001b[1;33m\u001b[0m\u001b[1;33m\u001b[0m\u001b[0m\n",
      "\u001b[1;32mc:\\users\\admin\\appdata\\local\\programs\\python\\python38\\lib\\site-packages\\tqdm\\std.py\u001b[0m in \u001b[0;36mprint_status\u001b[1;34m(s)\u001b[0m\n\u001b[0;32m    333\u001b[0m         \u001b[1;32mdef\u001b[0m \u001b[0mprint_status\u001b[0m\u001b[1;33m(\u001b[0m\u001b[0ms\u001b[0m\u001b[1;33m)\u001b[0m\u001b[1;33m:\u001b[0m\u001b[1;33m\u001b[0m\u001b[1;33m\u001b[0m\u001b[0m\n\u001b[0;32m    334\u001b[0m             \u001b[0mlen_s\u001b[0m \u001b[1;33m=\u001b[0m \u001b[0mdisp_len\u001b[0m\u001b[1;33m(\u001b[0m\u001b[0ms\u001b[0m\u001b[1;33m)\u001b[0m\u001b[1;33m\u001b[0m\u001b[1;33m\u001b[0m\u001b[0m\n\u001b[1;32m--> 335\u001b[1;33m             \u001b[0mfp_write\u001b[0m\u001b[1;33m(\u001b[0m\u001b[1;34m'\\r'\u001b[0m \u001b[1;33m+\u001b[0m \u001b[0ms\u001b[0m \u001b[1;33m+\u001b[0m \u001b[1;33m(\u001b[0m\u001b[1;34m' '\u001b[0m \u001b[1;33m*\u001b[0m \u001b[0mmax\u001b[0m\u001b[1;33m(\u001b[0m\u001b[0mlast_len\u001b[0m\u001b[1;33m[\u001b[0m\u001b[1;36m0\u001b[0m\u001b[1;33m]\u001b[0m \u001b[1;33m-\u001b[0m \u001b[0mlen_s\u001b[0m\u001b[1;33m,\u001b[0m \u001b[1;36m0\u001b[0m\u001b[1;33m)\u001b[0m\u001b[1;33m)\u001b[0m\u001b[1;33m)\u001b[0m\u001b[1;33m\u001b[0m\u001b[1;33m\u001b[0m\u001b[0m\n\u001b[0m\u001b[0;32m    336\u001b[0m             \u001b[0mlast_len\u001b[0m\u001b[1;33m[\u001b[0m\u001b[1;36m0\u001b[0m\u001b[1;33m]\u001b[0m \u001b[1;33m=\u001b[0m \u001b[0mlen_s\u001b[0m\u001b[1;33m\u001b[0m\u001b[1;33m\u001b[0m\u001b[0m\n\u001b[0;32m    337\u001b[0m \u001b[1;33m\u001b[0m\u001b[0m\n",
      "\u001b[1;32mc:\\users\\admin\\appdata\\local\\programs\\python\\python38\\lib\\site-packages\\tqdm\\std.py\u001b[0m in \u001b[0;36mfp_write\u001b[1;34m(s)\u001b[0m\n\u001b[0;32m    326\u001b[0m \u001b[1;33m\u001b[0m\u001b[0m\n\u001b[0;32m    327\u001b[0m         \u001b[1;32mdef\u001b[0m \u001b[0mfp_write\u001b[0m\u001b[1;33m(\u001b[0m\u001b[0ms\u001b[0m\u001b[1;33m)\u001b[0m\u001b[1;33m:\u001b[0m\u001b[1;33m\u001b[0m\u001b[1;33m\u001b[0m\u001b[0m\n\u001b[1;32m--> 328\u001b[1;33m             \u001b[0mfp\u001b[0m\u001b[1;33m.\u001b[0m\u001b[0mwrite\u001b[0m\u001b[1;33m(\u001b[0m\u001b[0m_unicode\u001b[0m\u001b[1;33m(\u001b[0m\u001b[0ms\u001b[0m\u001b[1;33m)\u001b[0m\u001b[1;33m)\u001b[0m\u001b[1;33m\u001b[0m\u001b[1;33m\u001b[0m\u001b[0m\n\u001b[0m\u001b[0;32m    329\u001b[0m             \u001b[0mfp_flush\u001b[0m\u001b[1;33m(\u001b[0m\u001b[1;33m)\u001b[0m\u001b[1;33m\u001b[0m\u001b[1;33m\u001b[0m\u001b[0m\n\u001b[0;32m    330\u001b[0m \u001b[1;33m\u001b[0m\u001b[0m\n",
      "\u001b[1;32mc:\\users\\admin\\appdata\\local\\programs\\python\\python38\\lib\\site-packages\\tqdm\\utils.py\u001b[0m in \u001b[0;36minner\u001b[1;34m(*args, **kwargs)\u001b[0m\n\u001b[0;32m    221\u001b[0m         \u001b[1;32mdef\u001b[0m \u001b[0minner\u001b[0m\u001b[1;33m(\u001b[0m\u001b[1;33m*\u001b[0m\u001b[0margs\u001b[0m\u001b[1;33m,\u001b[0m \u001b[1;33m**\u001b[0m\u001b[0mkwargs\u001b[0m\u001b[1;33m)\u001b[0m\u001b[1;33m:\u001b[0m\u001b[1;33m\u001b[0m\u001b[1;33m\u001b[0m\u001b[0m\n\u001b[0;32m    222\u001b[0m             \u001b[1;32mtry\u001b[0m\u001b[1;33m:\u001b[0m\u001b[1;33m\u001b[0m\u001b[1;33m\u001b[0m\u001b[0m\n\u001b[1;32m--> 223\u001b[1;33m                 \u001b[1;32mreturn\u001b[0m \u001b[0mfunc\u001b[0m\u001b[1;33m(\u001b[0m\u001b[1;33m*\u001b[0m\u001b[0margs\u001b[0m\u001b[1;33m,\u001b[0m \u001b[1;33m**\u001b[0m\u001b[0mkwargs\u001b[0m\u001b[1;33m)\u001b[0m\u001b[1;33m\u001b[0m\u001b[1;33m\u001b[0m\u001b[0m\n\u001b[0m\u001b[0;32m    224\u001b[0m             \u001b[1;32mexcept\u001b[0m \u001b[1;33m(\u001b[0m\u001b[0mIOError\u001b[0m\u001b[1;33m,\u001b[0m \u001b[0mOSError\u001b[0m\u001b[1;33m)\u001b[0m \u001b[1;32mas\u001b[0m \u001b[0me\u001b[0m\u001b[1;33m:\u001b[0m\u001b[1;33m\u001b[0m\u001b[1;33m\u001b[0m\u001b[0m\n\u001b[0;32m    225\u001b[0m                 \u001b[1;32mif\u001b[0m \u001b[0me\u001b[0m\u001b[1;33m.\u001b[0m\u001b[0merrno\u001b[0m \u001b[1;33m!=\u001b[0m \u001b[1;36m5\u001b[0m\u001b[1;33m:\u001b[0m\u001b[1;33m\u001b[0m\u001b[1;33m\u001b[0m\u001b[0m\n",
      "\u001b[1;32mc:\\users\\admin\\appdata\\local\\programs\\python\\python38\\lib\\site-packages\\ipykernel\\iostream.py\u001b[0m in \u001b[0;36mwrite\u001b[1;34m(self, string)\u001b[0m\n\u001b[0;32m    402\u001b[0m             \u001b[0mis_child\u001b[0m \u001b[1;33m=\u001b[0m \u001b[1;33m(\u001b[0m\u001b[1;32mnot\u001b[0m \u001b[0mself\u001b[0m\u001b[1;33m.\u001b[0m\u001b[0m_is_master_process\u001b[0m\u001b[1;33m(\u001b[0m\u001b[1;33m)\u001b[0m\u001b[1;33m)\u001b[0m\u001b[1;33m\u001b[0m\u001b[1;33m\u001b[0m\u001b[0m\n\u001b[0;32m    403\u001b[0m             \u001b[1;31m# only touch the buffer in the IO thread to avoid races\u001b[0m\u001b[1;33m\u001b[0m\u001b[1;33m\u001b[0m\u001b[1;33m\u001b[0m\u001b[0m\n\u001b[1;32m--> 404\u001b[1;33m             \u001b[0mself\u001b[0m\u001b[1;33m.\u001b[0m\u001b[0mpub_thread\u001b[0m\u001b[1;33m.\u001b[0m\u001b[0mschedule\u001b[0m\u001b[1;33m(\u001b[0m\u001b[1;32mlambda\u001b[0m \u001b[1;33m:\u001b[0m \u001b[0mself\u001b[0m\u001b[1;33m.\u001b[0m\u001b[0m_buffer\u001b[0m\u001b[1;33m.\u001b[0m\u001b[0mwrite\u001b[0m\u001b[1;33m(\u001b[0m\u001b[0mstring\u001b[0m\u001b[1;33m)\u001b[0m\u001b[1;33m)\u001b[0m\u001b[1;33m\u001b[0m\u001b[1;33m\u001b[0m\u001b[0m\n\u001b[0m\u001b[0;32m    405\u001b[0m             \u001b[1;32mif\u001b[0m \u001b[0mis_child\u001b[0m\u001b[1;33m:\u001b[0m\u001b[1;33m\u001b[0m\u001b[1;33m\u001b[0m\u001b[0m\n\u001b[0;32m    406\u001b[0m                 \u001b[1;31m# mp.Pool cannot be trusted to flush promptly (or ever),\u001b[0m\u001b[1;33m\u001b[0m\u001b[1;33m\u001b[0m\u001b[1;33m\u001b[0m\u001b[0m\n",
      "\u001b[1;32mc:\\users\\admin\\appdata\\local\\programs\\python\\python38\\lib\\site-packages\\ipykernel\\iostream.py\u001b[0m in \u001b[0;36mschedule\u001b[1;34m(self, f)\u001b[0m\n\u001b[0;32m    203\u001b[0m             \u001b[0mself\u001b[0m\u001b[1;33m.\u001b[0m\u001b[0m_events\u001b[0m\u001b[1;33m.\u001b[0m\u001b[0mappend\u001b[0m\u001b[1;33m(\u001b[0m\u001b[0mf\u001b[0m\u001b[1;33m)\u001b[0m\u001b[1;33m\u001b[0m\u001b[1;33m\u001b[0m\u001b[0m\n\u001b[0;32m    204\u001b[0m             \u001b[1;31m# wake event thread (message content is ignored)\u001b[0m\u001b[1;33m\u001b[0m\u001b[1;33m\u001b[0m\u001b[1;33m\u001b[0m\u001b[0m\n\u001b[1;32m--> 205\u001b[1;33m             \u001b[0mself\u001b[0m\u001b[1;33m.\u001b[0m\u001b[0m_event_pipe\u001b[0m\u001b[1;33m.\u001b[0m\u001b[0msend\u001b[0m\u001b[1;33m(\u001b[0m\u001b[1;34mb''\u001b[0m\u001b[1;33m)\u001b[0m\u001b[1;33m\u001b[0m\u001b[1;33m\u001b[0m\u001b[0m\n\u001b[0m\u001b[0;32m    206\u001b[0m         \u001b[1;32melse\u001b[0m\u001b[1;33m:\u001b[0m\u001b[1;33m\u001b[0m\u001b[1;33m\u001b[0m\u001b[0m\n\u001b[0;32m    207\u001b[0m             \u001b[0mf\u001b[0m\u001b[1;33m(\u001b[0m\u001b[1;33m)\u001b[0m\u001b[1;33m\u001b[0m\u001b[1;33m\u001b[0m\u001b[0m\n",
      "\u001b[1;32mc:\\users\\admin\\appdata\\local\\programs\\python\\python38\\lib\\site-packages\\zmq\\sugar\\socket.py\u001b[0m in \u001b[0;36msend\u001b[1;34m(self, data, flags, copy, track, routing_id, group)\u001b[0m\n\u001b[0;32m    414\u001b[0m                                  copy_threshold=self.copy_threshold)\n\u001b[0;32m    415\u001b[0m             \u001b[0mdata\u001b[0m\u001b[1;33m.\u001b[0m\u001b[0mgroup\u001b[0m \u001b[1;33m=\u001b[0m \u001b[0mgroup\u001b[0m\u001b[1;33m\u001b[0m\u001b[1;33m\u001b[0m\u001b[0m\n\u001b[1;32m--> 416\u001b[1;33m         \u001b[1;32mreturn\u001b[0m \u001b[0msuper\u001b[0m\u001b[1;33m(\u001b[0m\u001b[0mSocket\u001b[0m\u001b[1;33m,\u001b[0m \u001b[0mself\u001b[0m\u001b[1;33m)\u001b[0m\u001b[1;33m.\u001b[0m\u001b[0msend\u001b[0m\u001b[1;33m(\u001b[0m\u001b[0mdata\u001b[0m\u001b[1;33m,\u001b[0m \u001b[0mflags\u001b[0m\u001b[1;33m=\u001b[0m\u001b[0mflags\u001b[0m\u001b[1;33m,\u001b[0m \u001b[0mcopy\u001b[0m\u001b[1;33m=\u001b[0m\u001b[0mcopy\u001b[0m\u001b[1;33m,\u001b[0m \u001b[0mtrack\u001b[0m\u001b[1;33m=\u001b[0m\u001b[0mtrack\u001b[0m\u001b[1;33m)\u001b[0m\u001b[1;33m\u001b[0m\u001b[1;33m\u001b[0m\u001b[0m\n\u001b[0m\u001b[0;32m    417\u001b[0m \u001b[1;33m\u001b[0m\u001b[0m\n\u001b[0;32m    418\u001b[0m     \u001b[1;32mdef\u001b[0m \u001b[0msend_multipart\u001b[0m\u001b[1;33m(\u001b[0m\u001b[0mself\u001b[0m\u001b[1;33m,\u001b[0m \u001b[0mmsg_parts\u001b[0m\u001b[1;33m,\u001b[0m \u001b[0mflags\u001b[0m\u001b[1;33m=\u001b[0m\u001b[1;36m0\u001b[0m\u001b[1;33m,\u001b[0m \u001b[0mcopy\u001b[0m\u001b[1;33m=\u001b[0m\u001b[1;32mTrue\u001b[0m\u001b[1;33m,\u001b[0m \u001b[0mtrack\u001b[0m\u001b[1;33m=\u001b[0m\u001b[1;32mFalse\u001b[0m\u001b[1;33m,\u001b[0m \u001b[1;33m**\u001b[0m\u001b[0mkwargs\u001b[0m\u001b[1;33m)\u001b[0m\u001b[1;33m:\u001b[0m\u001b[1;33m\u001b[0m\u001b[1;33m\u001b[0m\u001b[0m\n",
      "\u001b[1;32mzmq\\backend\\cython\\socket.pyx\u001b[0m in \u001b[0;36mzmq.backend.cython.socket.Socket.send\u001b[1;34m()\u001b[0m\n",
      "\u001b[1;32mzmq\\backend\\cython\\socket.pyx\u001b[0m in \u001b[0;36mzmq.backend.cython.socket.Socket.send\u001b[1;34m()\u001b[0m\n",
      "\u001b[1;32mzmq\\backend\\cython\\socket.pyx\u001b[0m in \u001b[0;36mzmq.backend.cython.socket._send_copy\u001b[1;34m()\u001b[0m\n",
      "\u001b[1;32mc:\\users\\admin\\appdata\\local\\programs\\python\\python38\\lib\\site-packages\\zmq\\backend\\cython\\checkrc.pxd\u001b[0m in \u001b[0;36mzmq.backend.cython.checkrc._check_rc\u001b[1;34m()\u001b[0m\n",
      "\u001b[1;31mKeyboardInterrupt\u001b[0m: "
     ]
    }
   ],
   "source": [
    "training(rsmodel, opt, train_dataset, val_dataset, num_epochs=10)"
   ]
  },
  {
   "cell_type": "code",
   "execution_count": null,
   "metadata": {},
   "outputs": [],
   "source": []
  },
  {
   "cell_type": "code",
   "execution_count": null,
   "metadata": {},
   "outputs": [],
   "source": []
  },
  {
   "cell_type": "code",
   "execution_count": null,
   "metadata": {},
   "outputs": [],
   "source": []
  },
  {
   "cell_type": "code",
   "execution_count": 17,
   "metadata": {},
   "outputs": [
    {
     "name": "stderr",
     "output_type": "stream",
     "text": [
      "  4%|███▎                                                                         | 1001/22872 [02:31<55:02,  6.62it/s]\n",
      "  2%|█▎                                                                             | 22/1270 [00:00<00:05, 216.27it/s]"
     ]
    },
    {
     "name": "stdout",
     "output_type": "stream",
     "text": [
      "epoch:  0 . load data time:  40.50669240951538 . train time:  151.14985918998718 . train loss:  998072.4 . train rmse:  0.9655678793862388\n"
     ]
    },
    {
     "name": "stderr",
     "output_type": "stream",
     "text": [
      "100%|█████████████████████████████████████████████████████████████████████████████| 1270/1270 [00:06<00:00, 203.42it/s]\n"
     ]
    },
    {
     "name": "stdout",
     "output_type": "stream",
     "text": [
      "epoch: 0, score: {'val_rmse': 0.948061}\n",
      "done save at epoch:  1\n"
     ]
    },
    {
     "name": "stderr",
     "output_type": "stream",
     "text": [
      "  4%|███▎                                                                         | 1001/22872 [02:26<53:25,  6.82it/s]\n"
     ]
    },
    {
     "name": "stdout",
     "output_type": "stream",
     "text": [
      "epoch:  1 . load data time:  40.31320929527283 . train time:  146.69078159332275 . train loss:  903565.9 . train rmse:  0.8553388140180133\n"
     ]
    },
    {
     "name": "stderr",
     "output_type": "stream",
     "text": [
      "  4%|███▎                                                                         | 1001/22872 [02:28<53:57,  6.76it/s]\n",
      "  1%|█                                                                              | 18/1270 [00:00<00:07, 178.69it/s]"
     ]
    },
    {
     "name": "stdout",
     "output_type": "stream",
     "text": [
      "epoch:  2 . load data time:  38.71548271179199 . train time:  148.17880272865295 . train loss:  882468.1 . train rmse:  0.8206265780118319\n"
     ]
    },
    {
     "name": "stderr",
     "output_type": "stream",
     "text": [
      "100%|█████████████████████████████████████████████████████████████████████████████| 1270/1270 [00:06<00:00, 205.72it/s]\n"
     ]
    },
    {
     "name": "stdout",
     "output_type": "stream",
     "text": [
      "epoch: 2, score: {'val_rmse': 0.920457}\n",
      "done save at epoch:  4\n"
     ]
    },
    {
     "name": "stderr",
     "output_type": "stream",
     "text": [
      "  4%|███▎                                                                         | 1001/22872 [02:26<53:14,  6.85it/s]\n"
     ]
    },
    {
     "name": "stdout",
     "output_type": "stream",
     "text": [
      "epoch:  3 . load data time:  38.08018088340759 . train time:  146.22702074050903 . train loss:  870715.4 . train rmse:  0.7993069552517794\n"
     ]
    },
    {
     "name": "stderr",
     "output_type": "stream",
     "text": [
      "  3%|██▋                                                                           | 772/22872 [01:52<53:45,  6.85it/s]\n"
     ]
    },
    {
     "ename": "KeyboardInterrupt",
     "evalue": "",
     "output_type": "error",
     "traceback": [
      "\u001b[1;31m---------------------------------------------------------------------------\u001b[0m",
      "\u001b[1;31mKeyboardInterrupt\u001b[0m                         Traceback (most recent call last)",
      "\u001b[1;32m<ipython-input-17-14d1c3b6ba28>\u001b[0m in \u001b[0;36m<module>\u001b[1;34m\u001b[0m\n\u001b[1;32m----> 1\u001b[1;33m \u001b[0mtraining\u001b[0m\u001b[1;33m(\u001b[0m\u001b[0mrsmodel\u001b[0m\u001b[1;33m,\u001b[0m \u001b[0mopt\u001b[0m\u001b[1;33m,\u001b[0m \u001b[0mtrain_dataset\u001b[0m\u001b[1;33m,\u001b[0m \u001b[0mval_dataset\u001b[0m\u001b[1;33m,\u001b[0m \u001b[0mnum_epochs\u001b[0m\u001b[1;33m=\u001b[0m\u001b[1;36m10\u001b[0m\u001b[1;33m)\u001b[0m\u001b[1;33m\u001b[0m\u001b[1;33m\u001b[0m\u001b[0m\n\u001b[0m",
      "\u001b[1;32m<ipython-input-12-3bde97a45e29>\u001b[0m in \u001b[0;36mtraining\u001b[1;34m(rs_model, optimizer, train_dataset, val_dataset, num_epochs, pretrained)\u001b[0m\n\u001b[0;32m     37\u001b[0m         \u001b[1;32mfor\u001b[0m \u001b[0mi\u001b[0m \u001b[1;32min\u001b[0m \u001b[0mtqdm\u001b[0m\u001b[1;33m(\u001b[0m\u001b[0mrange\u001b[0m\u001b[1;33m(\u001b[0m\u001b[0mtrain_dataset\u001b[0m\u001b[1;33m.\u001b[0m\u001b[0mnum_batch\u001b[0m\u001b[1;33m)\u001b[0m\u001b[1;33m)\u001b[0m\u001b[1;33m:\u001b[0m\u001b[1;33m\u001b[0m\u001b[1;33m\u001b[0m\u001b[0m\n\u001b[0;32m     38\u001b[0m             \u001b[0muser_ids\u001b[0m\u001b[1;33m,\u001b[0m \u001b[0mitem_ids\u001b[0m\u001b[1;33m,\u001b[0m \u001b[0mratings\u001b[0m \u001b[1;33m=\u001b[0m \u001b[0mtrain_dataset\u001b[0m\u001b[1;33m.\u001b[0m\u001b[0mget_batch\u001b[0m\u001b[1;33m(\u001b[0m\u001b[0mi\u001b[0m\u001b[1;33m)\u001b[0m\u001b[1;33m\u001b[0m\u001b[1;33m\u001b[0m\u001b[0m\n\u001b[1;32m---> 39\u001b[1;33m             \u001b[0mloss_step\u001b[0m\u001b[1;33m,\u001b[0m \u001b[0mrmse_step\u001b[0m \u001b[1;33m=\u001b[0m \u001b[0mtrain_step\u001b[0m\u001b[1;33m(\u001b[0m\u001b[0mrs_model\u001b[0m\u001b[1;33m,\u001b[0m \u001b[0moptimizer\u001b[0m\u001b[1;33m,\u001b[0m \u001b[0muser_ids\u001b[0m\u001b[1;33m,\u001b[0m \u001b[0mitem_ids\u001b[0m\u001b[1;33m,\u001b[0m \u001b[0mratings\u001b[0m\u001b[1;33m)\u001b[0m\u001b[1;33m\u001b[0m\u001b[1;33m\u001b[0m\u001b[0m\n\u001b[0m\u001b[0;32m     40\u001b[0m             \u001b[0mtrain_loss\u001b[0m \u001b[1;33m+=\u001b[0m \u001b[0mloss_step\u001b[0m\u001b[1;33m\u001b[0m\u001b[1;33m\u001b[0m\u001b[0m\n\u001b[0;32m     41\u001b[0m             \u001b[0mtrain_rmse\u001b[0m \u001b[1;33m+=\u001b[0m \u001b[0mrmse_step\u001b[0m\u001b[1;33m\u001b[0m\u001b[1;33m\u001b[0m\u001b[0m\n",
      "\u001b[1;32mc:\\users\\admin\\appdata\\local\\programs\\python\\python38\\lib\\site-packages\\tensorflow\\python\\eager\\def_function.py\u001b[0m in \u001b[0;36m__call__\u001b[1;34m(self, *args, **kwds)\u001b[0m\n\u001b[0;32m    826\u001b[0m     \u001b[0mtracing_count\u001b[0m \u001b[1;33m=\u001b[0m \u001b[0mself\u001b[0m\u001b[1;33m.\u001b[0m\u001b[0mexperimental_get_tracing_count\u001b[0m\u001b[1;33m(\u001b[0m\u001b[1;33m)\u001b[0m\u001b[1;33m\u001b[0m\u001b[1;33m\u001b[0m\u001b[0m\n\u001b[0;32m    827\u001b[0m     \u001b[1;32mwith\u001b[0m \u001b[0mtrace\u001b[0m\u001b[1;33m.\u001b[0m\u001b[0mTrace\u001b[0m\u001b[1;33m(\u001b[0m\u001b[0mself\u001b[0m\u001b[1;33m.\u001b[0m\u001b[0m_name\u001b[0m\u001b[1;33m)\u001b[0m \u001b[1;32mas\u001b[0m \u001b[0mtm\u001b[0m\u001b[1;33m:\u001b[0m\u001b[1;33m\u001b[0m\u001b[1;33m\u001b[0m\u001b[0m\n\u001b[1;32m--> 828\u001b[1;33m       \u001b[0mresult\u001b[0m \u001b[1;33m=\u001b[0m \u001b[0mself\u001b[0m\u001b[1;33m.\u001b[0m\u001b[0m_call\u001b[0m\u001b[1;33m(\u001b[0m\u001b[1;33m*\u001b[0m\u001b[0margs\u001b[0m\u001b[1;33m,\u001b[0m \u001b[1;33m**\u001b[0m\u001b[0mkwds\u001b[0m\u001b[1;33m)\u001b[0m\u001b[1;33m\u001b[0m\u001b[1;33m\u001b[0m\u001b[0m\n\u001b[0m\u001b[0;32m    829\u001b[0m       \u001b[0mcompiler\u001b[0m \u001b[1;33m=\u001b[0m \u001b[1;34m\"xla\"\u001b[0m \u001b[1;32mif\u001b[0m \u001b[0mself\u001b[0m\u001b[1;33m.\u001b[0m\u001b[0m_experimental_compile\u001b[0m \u001b[1;32melse\u001b[0m \u001b[1;34m\"nonXla\"\u001b[0m\u001b[1;33m\u001b[0m\u001b[1;33m\u001b[0m\u001b[0m\n\u001b[0;32m    830\u001b[0m       \u001b[0mnew_tracing_count\u001b[0m \u001b[1;33m=\u001b[0m \u001b[0mself\u001b[0m\u001b[1;33m.\u001b[0m\u001b[0mexperimental_get_tracing_count\u001b[0m\u001b[1;33m(\u001b[0m\u001b[1;33m)\u001b[0m\u001b[1;33m\u001b[0m\u001b[1;33m\u001b[0m\u001b[0m\n",
      "\u001b[1;32mc:\\users\\admin\\appdata\\local\\programs\\python\\python38\\lib\\site-packages\\tensorflow\\python\\eager\\def_function.py\u001b[0m in \u001b[0;36m_call\u001b[1;34m(self, *args, **kwds)\u001b[0m\n\u001b[0;32m    853\u001b[0m       \u001b[1;31m# In this case we have created variables on the first call, so we run the\u001b[0m\u001b[1;33m\u001b[0m\u001b[1;33m\u001b[0m\u001b[1;33m\u001b[0m\u001b[0m\n\u001b[0;32m    854\u001b[0m       \u001b[1;31m# defunned version which is guaranteed to never create variables.\u001b[0m\u001b[1;33m\u001b[0m\u001b[1;33m\u001b[0m\u001b[1;33m\u001b[0m\u001b[0m\n\u001b[1;32m--> 855\u001b[1;33m       \u001b[1;32mreturn\u001b[0m \u001b[0mself\u001b[0m\u001b[1;33m.\u001b[0m\u001b[0m_stateless_fn\u001b[0m\u001b[1;33m(\u001b[0m\u001b[1;33m*\u001b[0m\u001b[0margs\u001b[0m\u001b[1;33m,\u001b[0m \u001b[1;33m**\u001b[0m\u001b[0mkwds\u001b[0m\u001b[1;33m)\u001b[0m  \u001b[1;31m# pylint: disable=not-callable\u001b[0m\u001b[1;33m\u001b[0m\u001b[1;33m\u001b[0m\u001b[0m\n\u001b[0m\u001b[0;32m    856\u001b[0m     \u001b[1;32melif\u001b[0m \u001b[0mself\u001b[0m\u001b[1;33m.\u001b[0m\u001b[0m_stateful_fn\u001b[0m \u001b[1;32mis\u001b[0m \u001b[1;32mnot\u001b[0m \u001b[1;32mNone\u001b[0m\u001b[1;33m:\u001b[0m\u001b[1;33m\u001b[0m\u001b[1;33m\u001b[0m\u001b[0m\n\u001b[0;32m    857\u001b[0m       \u001b[1;31m# Release the lock early so that multiple threads can perform the call\u001b[0m\u001b[1;33m\u001b[0m\u001b[1;33m\u001b[0m\u001b[1;33m\u001b[0m\u001b[0m\n",
      "\u001b[1;32mc:\\users\\admin\\appdata\\local\\programs\\python\\python38\\lib\\site-packages\\tensorflow\\python\\eager\\function.py\u001b[0m in \u001b[0;36m__call__\u001b[1;34m(self, *args, **kwargs)\u001b[0m\n\u001b[0;32m   2940\u001b[0m       (graph_function,\n\u001b[0;32m   2941\u001b[0m        filtered_flat_args) = self._maybe_define_function(args, kwargs)\n\u001b[1;32m-> 2942\u001b[1;33m     return graph_function._call_flat(\n\u001b[0m\u001b[0;32m   2943\u001b[0m         filtered_flat_args, captured_inputs=graph_function.captured_inputs)  # pylint: disable=protected-access\n\u001b[0;32m   2944\u001b[0m \u001b[1;33m\u001b[0m\u001b[0m\n",
      "\u001b[1;32mc:\\users\\admin\\appdata\\local\\programs\\python\\python38\\lib\\site-packages\\tensorflow\\python\\eager\\function.py\u001b[0m in \u001b[0;36m_call_flat\u001b[1;34m(self, args, captured_inputs, cancellation_manager)\u001b[0m\n\u001b[0;32m   1916\u001b[0m         and executing_eagerly):\n\u001b[0;32m   1917\u001b[0m       \u001b[1;31m# No tape is watching; skip to running the function.\u001b[0m\u001b[1;33m\u001b[0m\u001b[1;33m\u001b[0m\u001b[1;33m\u001b[0m\u001b[0m\n\u001b[1;32m-> 1918\u001b[1;33m       return self._build_call_outputs(self._inference_function.call(\n\u001b[0m\u001b[0;32m   1919\u001b[0m           ctx, args, cancellation_manager=cancellation_manager))\n\u001b[0;32m   1920\u001b[0m     forward_backward = self._select_forward_and_backward_functions(\n",
      "\u001b[1;32mc:\\users\\admin\\appdata\\local\\programs\\python\\python38\\lib\\site-packages\\tensorflow\\python\\eager\\function.py\u001b[0m in \u001b[0;36mcall\u001b[1;34m(self, ctx, args, cancellation_manager)\u001b[0m\n\u001b[0;32m    553\u001b[0m       \u001b[1;32mwith\u001b[0m \u001b[0m_InterpolateFunctionError\u001b[0m\u001b[1;33m(\u001b[0m\u001b[0mself\u001b[0m\u001b[1;33m)\u001b[0m\u001b[1;33m:\u001b[0m\u001b[1;33m\u001b[0m\u001b[1;33m\u001b[0m\u001b[0m\n\u001b[0;32m    554\u001b[0m         \u001b[1;32mif\u001b[0m \u001b[0mcancellation_manager\u001b[0m \u001b[1;32mis\u001b[0m \u001b[1;32mNone\u001b[0m\u001b[1;33m:\u001b[0m\u001b[1;33m\u001b[0m\u001b[1;33m\u001b[0m\u001b[0m\n\u001b[1;32m--> 555\u001b[1;33m           outputs = execute.execute(\n\u001b[0m\u001b[0;32m    556\u001b[0m               \u001b[0mstr\u001b[0m\u001b[1;33m(\u001b[0m\u001b[0mself\u001b[0m\u001b[1;33m.\u001b[0m\u001b[0msignature\u001b[0m\u001b[1;33m.\u001b[0m\u001b[0mname\u001b[0m\u001b[1;33m)\u001b[0m\u001b[1;33m,\u001b[0m\u001b[1;33m\u001b[0m\u001b[1;33m\u001b[0m\u001b[0m\n\u001b[0;32m    557\u001b[0m               \u001b[0mnum_outputs\u001b[0m\u001b[1;33m=\u001b[0m\u001b[0mself\u001b[0m\u001b[1;33m.\u001b[0m\u001b[0m_num_outputs\u001b[0m\u001b[1;33m,\u001b[0m\u001b[1;33m\u001b[0m\u001b[1;33m\u001b[0m\u001b[0m\n",
      "\u001b[1;32mc:\\users\\admin\\appdata\\local\\programs\\python\\python38\\lib\\site-packages\\tensorflow\\python\\eager\\execute.py\u001b[0m in \u001b[0;36mquick_execute\u001b[1;34m(op_name, num_outputs, inputs, attrs, ctx, name)\u001b[0m\n\u001b[0;32m     57\u001b[0m   \u001b[1;32mtry\u001b[0m\u001b[1;33m:\u001b[0m\u001b[1;33m\u001b[0m\u001b[1;33m\u001b[0m\u001b[0m\n\u001b[0;32m     58\u001b[0m     \u001b[0mctx\u001b[0m\u001b[1;33m.\u001b[0m\u001b[0mensure_initialized\u001b[0m\u001b[1;33m(\u001b[0m\u001b[1;33m)\u001b[0m\u001b[1;33m\u001b[0m\u001b[1;33m\u001b[0m\u001b[0m\n\u001b[1;32m---> 59\u001b[1;33m     tensors = pywrap_tfe.TFE_Py_Execute(ctx._handle, device_name, op_name,\n\u001b[0m\u001b[0;32m     60\u001b[0m                                         inputs, attrs, num_outputs)\n\u001b[0;32m     61\u001b[0m   \u001b[1;32mexcept\u001b[0m \u001b[0mcore\u001b[0m\u001b[1;33m.\u001b[0m\u001b[0m_NotOkStatusException\u001b[0m \u001b[1;32mas\u001b[0m \u001b[0me\u001b[0m\u001b[1;33m:\u001b[0m\u001b[1;33m\u001b[0m\u001b[1;33m\u001b[0m\u001b[0m\n",
      "\u001b[1;31mKeyboardInterrupt\u001b[0m: "
     ]
    }
   ],
   "source": [
    "training(rsmodel, opt, train_dataset, val_dataset, num_epochs=10)"
   ]
  },
  {
   "cell_type": "code",
   "execution_count": null,
   "metadata": {},
   "outputs": [],
   "source": []
  },
  {
   "cell_type": "code",
   "execution_count": null,
   "metadata": {},
   "outputs": [],
   "source": []
  },
  {
   "cell_type": "code",
   "execution_count": null,
   "metadata": {},
   "outputs": [],
   "source": []
  },
  {
   "cell_type": "code",
   "execution_count": null,
   "metadata": {},
   "outputs": [],
   "source": []
  },
  {
   "cell_type": "code",
   "execution_count": null,
   "metadata": {},
   "outputs": [],
   "source": []
  },
  {
   "cell_type": "code",
   "execution_count": 20,
   "metadata": {
    "scrolled": false
   },
   "outputs": [
    {
     "name": "stderr",
     "output_type": "stream",
     "text": [
      "  4%|███▎                                                                         | 1001/22872 [02:32<55:39,  6.55it/s]\n",
      "  5%|███▊                                                                           | 62/1270 [00:00<00:01, 615.51it/s]"
     ]
    },
    {
     "name": "stdout",
     "output_type": "stream",
     "text": [
      "epoch:  0 . load data time:  44.306533098220825 . train time:  152.83277320861816 . train loss:  992115.44 . train rmse:  0.9600127045805756\n"
     ]
    },
    {
     "name": "stderr",
     "output_type": "stream",
     "text": [
      "100%|█████████████████████████████████████████████████████████████████████████████| 1270/1270 [00:01<00:00, 643.13it/s]\n"
     ]
    },
    {
     "name": "stdout",
     "output_type": "stream",
     "text": [
      "epoch: 0, score: {'val_rmse': 0.9403755}\n",
      "done save at epoch:  1\n"
     ]
    },
    {
     "name": "stderr",
     "output_type": "stream",
     "text": [
      "  4%|███▎                                                                         | 1001/22872 [02:26<53:12,  6.85it/s]\n"
     ]
    },
    {
     "name": "stdout",
     "output_type": "stream",
     "text": [
      "epoch:  1 . load data time:  39.44353890419006 . train time:  146.09537267684937 . train loss:  900376.56 . train rmse:  0.8526588157935814\n"
     ]
    },
    {
     "name": "stderr",
     "output_type": "stream",
     "text": [
      "  4%|███▎                                                                         | 1001/22872 [02:24<52:34,  6.93it/s]\n",
      "  5%|████                                                                           | 66/1270 [00:00<00:01, 655.20it/s]"
     ]
    },
    {
     "name": "stdout",
     "output_type": "stream",
     "text": [
      "epoch:  2 . load data time:  40.697184801101685 . train time:  144.356023311615 . train loss:  879067.56 . train rmse:  0.817979627794081\n"
     ]
    },
    {
     "name": "stderr",
     "output_type": "stream",
     "text": [
      "100%|█████████████████████████████████████████████████████████████████████████████| 1270/1270 [00:01<00:00, 658.09it/s]\n"
     ]
    },
    {
     "name": "stdout",
     "output_type": "stream",
     "text": [
      "epoch: 2, score: {'val_rmse': 0.9179143}\n",
      "done save at epoch:  4\n"
     ]
    },
    {
     "name": "stderr",
     "output_type": "stream",
     "text": [
      "  4%|███▎                                                                         | 1001/22872 [02:24<52:40,  6.92it/s]\n"
     ]
    },
    {
     "name": "stdout",
     "output_type": "stream",
     "text": [
      "epoch:  3 . load data time:  39.20417666435242 . train time:  144.65223050117493 . train loss:  865448.9 . train rmse:  0.7951005903276411\n"
     ]
    },
    {
     "name": "stderr",
     "output_type": "stream",
     "text": [
      "  4%|███▎                                                                         | 1001/22872 [02:22<51:58,  7.01it/s]\n",
      "  5%|████▎                                                                          | 69/1270 [00:00<00:01, 685.00it/s]"
     ]
    },
    {
     "name": "stdout",
     "output_type": "stream",
     "text": [
      "epoch:  4 . load data time:  41.41626191139221 . train time:  142.70842814445496 . train loss:  854127.2 . train rmse:  0.777066378445773\n"
     ]
    },
    {
     "name": "stderr",
     "output_type": "stream",
     "text": [
      "100%|█████████████████████████████████████████████████████████████████████████████| 1270/1270 [00:01<00:00, 673.40it/s]\n"
     ]
    },
    {
     "name": "stdout",
     "output_type": "stream",
     "text": [
      "epoch: 4, score: {'val_rmse': 0.9096095}\n",
      "done save at epoch:  9\n"
     ]
    },
    {
     "name": "stderr",
     "output_type": "stream",
     "text": [
      "  4%|███▏                                                                          | 942/22872 [02:13<51:40,  7.07it/s]\n"
     ]
    },
    {
     "ename": "KeyboardInterrupt",
     "evalue": "",
     "output_type": "error",
     "traceback": [
      "\u001b[1;31m---------------------------------------------------------------------------\u001b[0m",
      "\u001b[1;31mKeyboardInterrupt\u001b[0m                         Traceback (most recent call last)",
      "\u001b[1;32m<ipython-input-20-14d1c3b6ba28>\u001b[0m in \u001b[0;36m<module>\u001b[1;34m\u001b[0m\n\u001b[1;32m----> 1\u001b[1;33m \u001b[0mtraining\u001b[0m\u001b[1;33m(\u001b[0m\u001b[0mrsmodel\u001b[0m\u001b[1;33m,\u001b[0m \u001b[0mopt\u001b[0m\u001b[1;33m,\u001b[0m \u001b[0mtrain_dataset\u001b[0m\u001b[1;33m,\u001b[0m \u001b[0mval_dataset\u001b[0m\u001b[1;33m,\u001b[0m \u001b[0mnum_epochs\u001b[0m\u001b[1;33m=\u001b[0m\u001b[1;36m10\u001b[0m\u001b[1;33m)\u001b[0m\u001b[1;33m\u001b[0m\u001b[1;33m\u001b[0m\u001b[0m\n\u001b[0m",
      "\u001b[1;32m<ipython-input-11-3bde97a45e29>\u001b[0m in \u001b[0;36mtraining\u001b[1;34m(rs_model, optimizer, train_dataset, val_dataset, num_epochs, pretrained)\u001b[0m\n\u001b[0;32m     37\u001b[0m         \u001b[1;32mfor\u001b[0m \u001b[0mi\u001b[0m \u001b[1;32min\u001b[0m \u001b[0mtqdm\u001b[0m\u001b[1;33m(\u001b[0m\u001b[0mrange\u001b[0m\u001b[1;33m(\u001b[0m\u001b[0mtrain_dataset\u001b[0m\u001b[1;33m.\u001b[0m\u001b[0mnum_batch\u001b[0m\u001b[1;33m)\u001b[0m\u001b[1;33m)\u001b[0m\u001b[1;33m:\u001b[0m\u001b[1;33m\u001b[0m\u001b[1;33m\u001b[0m\u001b[0m\n\u001b[0;32m     38\u001b[0m             \u001b[0muser_ids\u001b[0m\u001b[1;33m,\u001b[0m \u001b[0mitem_ids\u001b[0m\u001b[1;33m,\u001b[0m \u001b[0mratings\u001b[0m \u001b[1;33m=\u001b[0m \u001b[0mtrain_dataset\u001b[0m\u001b[1;33m.\u001b[0m\u001b[0mget_batch\u001b[0m\u001b[1;33m(\u001b[0m\u001b[0mi\u001b[0m\u001b[1;33m)\u001b[0m\u001b[1;33m\u001b[0m\u001b[1;33m\u001b[0m\u001b[0m\n\u001b[1;32m---> 39\u001b[1;33m             \u001b[0mloss_step\u001b[0m\u001b[1;33m,\u001b[0m \u001b[0mrmse_step\u001b[0m \u001b[1;33m=\u001b[0m \u001b[0mtrain_step\u001b[0m\u001b[1;33m(\u001b[0m\u001b[0mrs_model\u001b[0m\u001b[1;33m,\u001b[0m \u001b[0moptimizer\u001b[0m\u001b[1;33m,\u001b[0m \u001b[0muser_ids\u001b[0m\u001b[1;33m,\u001b[0m \u001b[0mitem_ids\u001b[0m\u001b[1;33m,\u001b[0m \u001b[0mratings\u001b[0m\u001b[1;33m)\u001b[0m\u001b[1;33m\u001b[0m\u001b[1;33m\u001b[0m\u001b[0m\n\u001b[0m\u001b[0;32m     40\u001b[0m             \u001b[0mtrain_loss\u001b[0m \u001b[1;33m+=\u001b[0m \u001b[0mloss_step\u001b[0m\u001b[1;33m\u001b[0m\u001b[1;33m\u001b[0m\u001b[0m\n\u001b[0;32m     41\u001b[0m             \u001b[0mtrain_rmse\u001b[0m \u001b[1;33m+=\u001b[0m \u001b[0mrmse_step\u001b[0m\u001b[1;33m\u001b[0m\u001b[1;33m\u001b[0m\u001b[0m\n",
      "\u001b[1;32mc:\\users\\admin\\appdata\\local\\programs\\python\\python38\\lib\\site-packages\\tensorflow\\python\\eager\\def_function.py\u001b[0m in \u001b[0;36m__call__\u001b[1;34m(self, *args, **kwds)\u001b[0m\n\u001b[0;32m    826\u001b[0m     \u001b[0mtracing_count\u001b[0m \u001b[1;33m=\u001b[0m \u001b[0mself\u001b[0m\u001b[1;33m.\u001b[0m\u001b[0mexperimental_get_tracing_count\u001b[0m\u001b[1;33m(\u001b[0m\u001b[1;33m)\u001b[0m\u001b[1;33m\u001b[0m\u001b[1;33m\u001b[0m\u001b[0m\n\u001b[0;32m    827\u001b[0m     \u001b[1;32mwith\u001b[0m \u001b[0mtrace\u001b[0m\u001b[1;33m.\u001b[0m\u001b[0mTrace\u001b[0m\u001b[1;33m(\u001b[0m\u001b[0mself\u001b[0m\u001b[1;33m.\u001b[0m\u001b[0m_name\u001b[0m\u001b[1;33m)\u001b[0m \u001b[1;32mas\u001b[0m \u001b[0mtm\u001b[0m\u001b[1;33m:\u001b[0m\u001b[1;33m\u001b[0m\u001b[1;33m\u001b[0m\u001b[0m\n\u001b[1;32m--> 828\u001b[1;33m       \u001b[0mresult\u001b[0m \u001b[1;33m=\u001b[0m \u001b[0mself\u001b[0m\u001b[1;33m.\u001b[0m\u001b[0m_call\u001b[0m\u001b[1;33m(\u001b[0m\u001b[1;33m*\u001b[0m\u001b[0margs\u001b[0m\u001b[1;33m,\u001b[0m \u001b[1;33m**\u001b[0m\u001b[0mkwds\u001b[0m\u001b[1;33m)\u001b[0m\u001b[1;33m\u001b[0m\u001b[1;33m\u001b[0m\u001b[0m\n\u001b[0m\u001b[0;32m    829\u001b[0m       \u001b[0mcompiler\u001b[0m \u001b[1;33m=\u001b[0m \u001b[1;34m\"xla\"\u001b[0m \u001b[1;32mif\u001b[0m \u001b[0mself\u001b[0m\u001b[1;33m.\u001b[0m\u001b[0m_experimental_compile\u001b[0m \u001b[1;32melse\u001b[0m \u001b[1;34m\"nonXla\"\u001b[0m\u001b[1;33m\u001b[0m\u001b[1;33m\u001b[0m\u001b[0m\n\u001b[0;32m    830\u001b[0m       \u001b[0mnew_tracing_count\u001b[0m \u001b[1;33m=\u001b[0m \u001b[0mself\u001b[0m\u001b[1;33m.\u001b[0m\u001b[0mexperimental_get_tracing_count\u001b[0m\u001b[1;33m(\u001b[0m\u001b[1;33m)\u001b[0m\u001b[1;33m\u001b[0m\u001b[1;33m\u001b[0m\u001b[0m\n",
      "\u001b[1;32mc:\\users\\admin\\appdata\\local\\programs\\python\\python38\\lib\\site-packages\\tensorflow\\python\\eager\\def_function.py\u001b[0m in \u001b[0;36m_call\u001b[1;34m(self, *args, **kwds)\u001b[0m\n\u001b[0;32m    853\u001b[0m       \u001b[1;31m# In this case we have created variables on the first call, so we run the\u001b[0m\u001b[1;33m\u001b[0m\u001b[1;33m\u001b[0m\u001b[1;33m\u001b[0m\u001b[0m\n\u001b[0;32m    854\u001b[0m       \u001b[1;31m# defunned version which is guaranteed to never create variables.\u001b[0m\u001b[1;33m\u001b[0m\u001b[1;33m\u001b[0m\u001b[1;33m\u001b[0m\u001b[0m\n\u001b[1;32m--> 855\u001b[1;33m       \u001b[1;32mreturn\u001b[0m \u001b[0mself\u001b[0m\u001b[1;33m.\u001b[0m\u001b[0m_stateless_fn\u001b[0m\u001b[1;33m(\u001b[0m\u001b[1;33m*\u001b[0m\u001b[0margs\u001b[0m\u001b[1;33m,\u001b[0m \u001b[1;33m**\u001b[0m\u001b[0mkwds\u001b[0m\u001b[1;33m)\u001b[0m  \u001b[1;31m# pylint: disable=not-callable\u001b[0m\u001b[1;33m\u001b[0m\u001b[1;33m\u001b[0m\u001b[0m\n\u001b[0m\u001b[0;32m    856\u001b[0m     \u001b[1;32melif\u001b[0m \u001b[0mself\u001b[0m\u001b[1;33m.\u001b[0m\u001b[0m_stateful_fn\u001b[0m \u001b[1;32mis\u001b[0m \u001b[1;32mnot\u001b[0m \u001b[1;32mNone\u001b[0m\u001b[1;33m:\u001b[0m\u001b[1;33m\u001b[0m\u001b[1;33m\u001b[0m\u001b[0m\n\u001b[0;32m    857\u001b[0m       \u001b[1;31m# Release the lock early so that multiple threads can perform the call\u001b[0m\u001b[1;33m\u001b[0m\u001b[1;33m\u001b[0m\u001b[1;33m\u001b[0m\u001b[0m\n",
      "\u001b[1;32mc:\\users\\admin\\appdata\\local\\programs\\python\\python38\\lib\\site-packages\\tensorflow\\python\\eager\\function.py\u001b[0m in \u001b[0;36m__call__\u001b[1;34m(self, *args, **kwargs)\u001b[0m\n\u001b[0;32m   2940\u001b[0m       (graph_function,\n\u001b[0;32m   2941\u001b[0m        filtered_flat_args) = self._maybe_define_function(args, kwargs)\n\u001b[1;32m-> 2942\u001b[1;33m     return graph_function._call_flat(\n\u001b[0m\u001b[0;32m   2943\u001b[0m         filtered_flat_args, captured_inputs=graph_function.captured_inputs)  # pylint: disable=protected-access\n\u001b[0;32m   2944\u001b[0m \u001b[1;33m\u001b[0m\u001b[0m\n",
      "\u001b[1;32mc:\\users\\admin\\appdata\\local\\programs\\python\\python38\\lib\\site-packages\\tensorflow\\python\\eager\\function.py\u001b[0m in \u001b[0;36m_call_flat\u001b[1;34m(self, args, captured_inputs, cancellation_manager)\u001b[0m\n\u001b[0;32m   1916\u001b[0m         and executing_eagerly):\n\u001b[0;32m   1917\u001b[0m       \u001b[1;31m# No tape is watching; skip to running the function.\u001b[0m\u001b[1;33m\u001b[0m\u001b[1;33m\u001b[0m\u001b[1;33m\u001b[0m\u001b[0m\n\u001b[1;32m-> 1918\u001b[1;33m       return self._build_call_outputs(self._inference_function.call(\n\u001b[0m\u001b[0;32m   1919\u001b[0m           ctx, args, cancellation_manager=cancellation_manager))\n\u001b[0;32m   1920\u001b[0m     forward_backward = self._select_forward_and_backward_functions(\n",
      "\u001b[1;32mc:\\users\\admin\\appdata\\local\\programs\\python\\python38\\lib\\site-packages\\tensorflow\\python\\eager\\function.py\u001b[0m in \u001b[0;36mcall\u001b[1;34m(self, ctx, args, cancellation_manager)\u001b[0m\n\u001b[0;32m    553\u001b[0m       \u001b[1;32mwith\u001b[0m \u001b[0m_InterpolateFunctionError\u001b[0m\u001b[1;33m(\u001b[0m\u001b[0mself\u001b[0m\u001b[1;33m)\u001b[0m\u001b[1;33m:\u001b[0m\u001b[1;33m\u001b[0m\u001b[1;33m\u001b[0m\u001b[0m\n\u001b[0;32m    554\u001b[0m         \u001b[1;32mif\u001b[0m \u001b[0mcancellation_manager\u001b[0m \u001b[1;32mis\u001b[0m \u001b[1;32mNone\u001b[0m\u001b[1;33m:\u001b[0m\u001b[1;33m\u001b[0m\u001b[1;33m\u001b[0m\u001b[0m\n\u001b[1;32m--> 555\u001b[1;33m           outputs = execute.execute(\n\u001b[0m\u001b[0;32m    556\u001b[0m               \u001b[0mstr\u001b[0m\u001b[1;33m(\u001b[0m\u001b[0mself\u001b[0m\u001b[1;33m.\u001b[0m\u001b[0msignature\u001b[0m\u001b[1;33m.\u001b[0m\u001b[0mname\u001b[0m\u001b[1;33m)\u001b[0m\u001b[1;33m,\u001b[0m\u001b[1;33m\u001b[0m\u001b[1;33m\u001b[0m\u001b[0m\n\u001b[0;32m    557\u001b[0m               \u001b[0mnum_outputs\u001b[0m\u001b[1;33m=\u001b[0m\u001b[0mself\u001b[0m\u001b[1;33m.\u001b[0m\u001b[0m_num_outputs\u001b[0m\u001b[1;33m,\u001b[0m\u001b[1;33m\u001b[0m\u001b[1;33m\u001b[0m\u001b[0m\n",
      "\u001b[1;32mc:\\users\\admin\\appdata\\local\\programs\\python\\python38\\lib\\site-packages\\tensorflow\\python\\eager\\execute.py\u001b[0m in \u001b[0;36mquick_execute\u001b[1;34m(op_name, num_outputs, inputs, attrs, ctx, name)\u001b[0m\n\u001b[0;32m     57\u001b[0m   \u001b[1;32mtry\u001b[0m\u001b[1;33m:\u001b[0m\u001b[1;33m\u001b[0m\u001b[1;33m\u001b[0m\u001b[0m\n\u001b[0;32m     58\u001b[0m     \u001b[0mctx\u001b[0m\u001b[1;33m.\u001b[0m\u001b[0mensure_initialized\u001b[0m\u001b[1;33m(\u001b[0m\u001b[1;33m)\u001b[0m\u001b[1;33m\u001b[0m\u001b[1;33m\u001b[0m\u001b[0m\n\u001b[1;32m---> 59\u001b[1;33m     tensors = pywrap_tfe.TFE_Py_Execute(ctx._handle, device_name, op_name,\n\u001b[0m\u001b[0;32m     60\u001b[0m                                         inputs, attrs, num_outputs)\n\u001b[0;32m     61\u001b[0m   \u001b[1;32mexcept\u001b[0m \u001b[0mcore\u001b[0m\u001b[1;33m.\u001b[0m\u001b[0m_NotOkStatusException\u001b[0m \u001b[1;32mas\u001b[0m \u001b[0me\u001b[0m\u001b[1;33m:\u001b[0m\u001b[1;33m\u001b[0m\u001b[1;33m\u001b[0m\u001b[0m\n",
      "\u001b[1;31mKeyboardInterrupt\u001b[0m: "
     ]
    }
   ],
   "source": [
    "training(rsmodel, opt, train_dataset, val_dataset, num_epochs=10)"
   ]
  },
  {
   "cell_type": "code",
   "execution_count": null,
   "metadata": {},
   "outputs": [],
   "source": []
  },
  {
   "cell_type": "code",
   "execution_count": null,
   "metadata": {},
   "outputs": [],
   "source": []
  },
  {
   "cell_type": "code",
   "execution_count": null,
   "metadata": {},
   "outputs": [],
   "source": []
  },
  {
   "cell_type": "code",
   "execution_count": null,
   "metadata": {},
   "outputs": [],
   "source": []
  },
  {
   "cell_type": "code",
   "execution_count": null,
   "metadata": {},
   "outputs": [],
   "source": []
  },
  {
   "cell_type": "markdown",
   "metadata": {},
   "source": [
    "### using surprise library"
   ]
  },
  {
   "cell_type": "code",
   "execution_count": 4,
   "metadata": {},
   "outputs": [],
   "source": [
    "from surprise import SVD, NMF\n",
    "from surprise import Dataset\n",
    "from surprise.model_selection import cross_validate\n",
    "\n",
    "# Load the movielens-100k dataset (download it if needed).\n",
    "data = Dataset.load_builtin('ml-100k')"
   ]
  },
  {
   "cell_type": "code",
   "execution_count": 11,
   "metadata": {},
   "outputs": [
    {
     "name": "stdout",
     "output_type": "stream",
     "text": [
      "Evaluating RMSE, MAE of algorithm NMF on 5 split(s).\n",
      "\n",
      "                  Fold 1  Fold 2  Fold 3  Fold 4  Fold 5  Mean    Std     \n",
      "RMSE (testset)    0.9973  0.9892  0.9883  0.9849  0.9866  0.9893  0.0043  \n",
      "MAE (testset)     0.7651  0.7625  0.7587  0.7546  0.7553  0.7592  0.0041  \n",
      "Fit time          9.12    9.12    9.06    9.09    9.35    9.15    0.10    \n",
      "Test time         0.14    0.29    0.13    0.14    0.14    0.17    0.06    \n"
     ]
    },
    {
     "data": {
      "text/plain": [
       "{'test_rmse': array([0.9972816 , 0.98924323, 0.98830935, 0.98491456, 0.98662294]),\n",
       " 'test_mae': array([0.76506188, 0.76250315, 0.7587079 , 0.75456071, 0.75530337]),\n",
       " 'fit_time': (9.116624116897583,\n",
       "  9.116622924804688,\n",
       "  9.064760684967041,\n",
       "  9.094681024551392,\n",
       "  9.351994514465332),\n",
       " 'test_time': (0.13862919807434082,\n",
       "  0.2872333526611328,\n",
       "  0.13464045524597168,\n",
       "  0.13563776016235352,\n",
       "  0.1406247615814209)}"
      ]
     },
     "execution_count": 11,
     "metadata": {},
     "output_type": "execute_result"
    }
   ],
   "source": [
    "# Use the famous SVD algorithm.\n",
    "# algo = SVD()\n",
    "algo = NMF(n_factors=32)\n",
    "\n",
    "# Run 5-fold cross-validation and print results.\n",
    "cross_validate(algo, data, measures=['RMSE', 'MAE'], cv=5, verbose=True)"
   ]
  },
  {
   "cell_type": "code",
   "execution_count": null,
   "metadata": {},
   "outputs": [],
   "source": [
    "# Use the famous SVD algorithm.\n",
    "# algo = SVD()\n",
    "algo = NMF(n_factors=32)\n",
    "\n",
    "# Run 5-fold cross-validation and print results.\n",
    "cross_validate(algo, data, measures=['RMSE', 'MAE'], cv=5, verbose=True)"
   ]
  },
  {
   "cell_type": "code",
   "execution_count": null,
   "metadata": {},
   "outputs": [],
   "source": []
  },
  {
   "cell_type": "code",
   "execution_count": null,
   "metadata": {},
   "outputs": [],
   "source": []
  },
  {
   "cell_type": "code",
   "execution_count": null,
   "metadata": {},
   "outputs": [],
   "source": []
  },
  {
   "cell_type": "code",
   "execution_count": null,
   "metadata": {},
   "outputs": [],
   "source": []
  },
  {
   "cell_type": "markdown",
   "metadata": {},
   "source": [
    "### model EDA"
   ]
  },
  {
   "cell_type": "code",
   "execution_count": 17,
   "metadata": {},
   "outputs": [],
   "source": [
    "item_embedding = rsmodel.item_embedding.weights[0].numpy()\n",
    "user_embedding = rsmodel.user_embedding.weights[0].numpy()\n",
    "keyword_embedding = rsmodel.keyword_embedding.weights[0].numpy()"
   ]
  },
  {
   "cell_type": "code",
   "execution_count": 23,
   "metadata": {},
   "outputs": [
    {
     "name": "stderr",
     "output_type": "stream",
     "text": [
      "c:\\users\\admin\\appdata\\local\\programs\\python\\python38\\lib\\site-packages\\seaborn\\distributions.py:2551: FutureWarning: `distplot` is a deprecated function and will be removed in a future version. Please adapt your code to use either `displot` (a figure-level function with similar flexibility) or `histplot` (an axes-level function for histograms).\n",
      "  warnings.warn(msg, FutureWarning)\n",
      "c:\\users\\admin\\appdata\\local\\programs\\python\\python38\\lib\\site-packages\\seaborn\\distributions.py:305: UserWarning: Dataset has 0 variance; skipping density estimate.\n",
      "  warnings.warn(msg, UserWarning)\n"
     ]
    },
    {
     "data": {
      "text/plain": [
       "<matplotlib.axes._subplots.AxesSubplot at 0x22874e62bb0>"
      ]
     },
     "execution_count": 23,
     "metadata": {},
     "output_type": "execute_result"
    },
    {
     "data": {
      "image/png": "[encoded data removed]",
      "text/plain": [
       "<Figure size 432x288 with 1 Axes>"
      ]
     },
     "metadata": {
      "needs_background": "light"
     },
     "output_type": "display_data"
    }
   ],
   "source": [
    "sns.distplot(item_embedding[:,7][:10000])"
   ]
  },
  {
   "cell_type": "code",
   "execution_count": 26,
   "metadata": {},
   "outputs": [],
   "source": [
    "bias_i = np.squeeze(rsmodel.bias_i.weights[0].numpy())\n",
    "bias_u = np.squeeze(rsmodel.bias_u.weights[0].numpy())"
   ]
  },
  {
   "cell_type": "code",
   "execution_count": 27,
   "metadata": {},
   "outputs": [
    {
     "data": {
      "text/plain": [
       "<seaborn.axisgrid.FacetGrid at 0x22874ba9550>"
      ]
     },
     "execution_count": 27,
     "metadata": {},
     "output_type": "execute_result"
    },
    {
     "data": {
      "image/png": "[encoded data removed]",
      "text/plain": [
       "<Figure size 360x360 with 1 Axes>"
      ]
     },
     "metadata": {
      "needs_background": "light"
     },
     "output_type": "display_data"
    }
   ],
   "source": [
    "sns.displot(bias_i)"
   ]
  },
  {
   "cell_type": "code",
   "execution_count": 28,
   "metadata": {},
   "outputs": [
    {
     "data": {
      "text/plain": [
       "<seaborn.axisgrid.FacetGrid at 0x22874d8b790>"
      ]
     },
     "execution_count": 28,
     "metadata": {},
     "output_type": "execute_result"
    },
    {
     "data": {
      "image/png": "[encoded data removed]",
      "text/plain": [
       "<Figure size 360x360 with 1 Axes>"
      ]
     },
     "metadata": {
      "needs_background": "light"
     },
     "output_type": "display_data"
    }
   ],
   "source": [
    "sns.displot(bias_u)"
   ]
  },
  {
   "cell_type": "code",
   "execution_count": null,
   "metadata": {},
   "outputs": [],
   "source": []
  },
  {
   "cell_type": "code",
   "execution_count": null,
   "metadata": {},
   "outputs": [],
   "source": []
  },
  {
   "cell_type": "code",
   "execution_count": 10,
   "metadata": {},
   "outputs": [
    {
     "name": "stderr",
     "output_type": "stream",
     "text": [
      "  4%|███▎                                                                         | 1001/22872 [02:29<54:35,  6.68it/s]\n",
      "  3%|██▍                                                                            | 40/1270 [00:00<00:03, 393.20it/s]"
     ]
    },
    {
     "name": "stdout",
     "output_type": "stream",
     "text": [
      "epoch:  0 . load data time:  34.365124464035034 . train time:  149.92917370796204 . train loss:  1120230.2\n"
     ]
    },
    {
     "name": "stderr",
     "output_type": "stream",
     "text": [
      "100%|█████████████████████████████████████████████████████████████████████████████| 1270/1270 [00:03<00:00, 401.08it/s]\n"
     ]
    },
    {
     "name": "stdout",
     "output_type": "stream",
     "text": [
      "epoch: 0, score: {'val_rmse': 0.93591845}\n",
      "done save at epoch:  1\n"
     ]
    },
    {
     "name": "stderr",
     "output_type": "stream",
     "text": [
      "  4%|███▎                                                                         | 1001/22872 [02:28<54:10,  6.73it/s]\n"
     ]
    },
    {
     "name": "stdout",
     "output_type": "stream",
     "text": [
      "epoch:  1 . load data time:  34.087865352630615 . train time:  148.75131464004517 . train loss:  1044392.8\n"
     ]
    },
    {
     "name": "stderr",
     "output_type": "stream",
     "text": [
      "  4%|███▎                                                                         | 1001/22872 [02:27<53:41,  6.79it/s]\n",
      "  3%|██▍                                                                            | 40/1270 [00:00<00:03, 389.39it/s]"
     ]
    },
    {
     "name": "stdout",
     "output_type": "stream",
     "text": [
      "epoch:  2 . load data time:  32.71967267990112 . train time:  147.4328145980835 . train loss:  1021546.25\n"
     ]
    },
    {
     "name": "stderr",
     "output_type": "stream",
     "text": [
      "100%|█████████████████████████████████████████████████████████████████████████████| 1270/1270 [00:03<00:00, 409.72it/s]\n"
     ]
    },
    {
     "name": "stdout",
     "output_type": "stream",
     "text": [
      "epoch: 2, score: {'val_rmse': 0.89548504}\n",
      "done save at epoch:  4\n"
     ]
    },
    {
     "name": "stderr",
     "output_type": "stream",
     "text": [
      "  4%|███▎                                                                         | 1001/22872 [02:25<53:03,  6.87it/s]\n"
     ]
    },
    {
     "name": "stdout",
     "output_type": "stream",
     "text": [
      "epoch:  3 . load data time:  33.15340971946716 . train time:  145.6895010471344 . train loss:  1000892.44\n"
     ]
    },
    {
     "name": "stderr",
     "output_type": "stream",
     "text": [
      "  4%|███▎                                                                         | 1001/22872 [02:24<52:37,  6.93it/s]\n",
      "  3%|██▍                                                                            | 39/1270 [00:00<00:03, 383.38it/s]"
     ]
    },
    {
     "name": "stdout",
     "output_type": "stream",
     "text": [
      "epoch:  4 . load data time:  32.7544584274292 . train time:  144.4976589679718 . train loss:  988913.4\n"
     ]
    },
    {
     "name": "stderr",
     "output_type": "stream",
     "text": [
      "100%|█████████████████████████████████████████████████████████████████████████████| 1270/1270 [00:03<00:00, 410.61it/s]\n"
     ]
    },
    {
     "name": "stdout",
     "output_type": "stream",
     "text": [
      "epoch: 4, score: {'val_rmse': 0.8833952}\n",
      "done save at epoch:  9\n"
     ]
    },
    {
     "name": "stderr",
     "output_type": "stream",
     "text": [
      "  4%|███▎                                                                         | 1001/22872 [02:32<55:34,  6.56it/s]\n"
     ]
    },
    {
     "name": "stdout",
     "output_type": "stream",
     "text": [
      "epoch:  5 . load data time:  32.53402066230774 . train time:  152.60102224349976 . train loss:  984102.9\n"
     ]
    },
    {
     "name": "stderr",
     "output_type": "stream",
     "text": [
      "  4%|███▎                                                                         | 1001/22872 [02:33<55:44,  6.54it/s]\n",
      "  6%|████▊                                                                          | 77/1270 [00:00<00:03, 375.77it/s]"
     ]
    },
    {
     "name": "stdout",
     "output_type": "stream",
     "text": [
      "epoch:  6 . load data time:  34.2314817905426 . train time:  153.05780148506165 . train loss:  977282.94\n"
     ]
    },
    {
     "name": "stderr",
     "output_type": "stream",
     "text": [
      "100%|█████████████████████████████████████████████████████████████████████████████| 1270/1270 [00:03<00:00, 386.46it/s]\n"
     ]
    },
    {
     "name": "stdout",
     "output_type": "stream",
     "text": [
      "epoch: 6, score: {'val_rmse': 0.87926906}\n",
      "done save at epoch:  16\n"
     ]
    },
    {
     "name": "stderr",
     "output_type": "stream",
     "text": [
      "  4%|███▎                                                                         | 1001/22872 [02:27<53:39,  6.79it/s]\n"
     ]
    },
    {
     "name": "stdout",
     "output_type": "stream",
     "text": [
      "epoch:  7 . load data time:  34.48778676986694 . train time:  147.34806656837463 . train loss:  973930.1\n"
     ]
    },
    {
     "name": "stderr",
     "output_type": "stream",
     "text": [
      "  4%|███▎                                                                         | 1001/22872 [02:26<53:26,  6.82it/s]\n",
      "  6%|████▌                                                                          | 74/1270 [00:00<00:03, 354.98it/s]"
     ]
    },
    {
     "name": "stdout",
     "output_type": "stream",
     "text": [
      "epoch:  8 . load data time:  32.73548197746277 . train time:  146.7486686706543 . train loss:  972354.3\n"
     ]
    },
    {
     "name": "stderr",
     "output_type": "stream",
     "text": [
      "100%|█████████████████████████████████████████████████████████████████████████████| 1270/1270 [00:03<00:00, 387.29it/s]\n"
     ]
    },
    {
     "name": "stdout",
     "output_type": "stream",
     "text": [
      "epoch: 8, score: {'val_rmse': 0.8769898}\n",
      "done save at epoch:  25\n"
     ]
    },
    {
     "name": "stderr",
     "output_type": "stream",
     "text": [
      "  4%|███▎                                                                         | 1001/22872 [02:29<54:18,  6.71it/s]"
     ]
    },
    {
     "name": "stdout",
     "output_type": "stream",
     "text": [
      "epoch:  9 . load data time:  32.93003034591675 . train time:  149.15323948860168 . train loss:  965386.2\n"
     ]
    },
    {
     "name": "stderr",
     "output_type": "stream",
     "text": [
      "\n"
     ]
    }
   ],
   "source": [
    "training(rsmodel, opt, train_dataset, val_dataset, num_epochs=10)"
   ]
  },
  {
   "cell_type": "code",
   "execution_count": null,
   "metadata": {},
   "outputs": [],
   "source": []
  },
  {
   "cell_type": "code",
   "execution_count": null,
   "metadata": {
    "scrolled": false
   },
   "outputs": [
    {
     "name": "stderr",
     "output_type": "stream",
     "text": [
      "  4%|███▎                                                                         | 1001/22872 [02:25<53:05,  6.86it/s]\n",
      "  8%|██████▏                                                                       | 100/1270 [00:00<00:01, 983.01it/s]"
     ]
    },
    {
     "name": "stdout",
     "output_type": "stream",
     "text": [
      "epoch:  0 . load data time:  34.43304133415222 . train time:  145.82096195220947 . train loss:  6085918.0\n"
     ]
    },
    {
     "name": "stderr",
     "output_type": "stream",
     "text": [
      "100%|█████████████████████████████████████████████████████████████████████████████| 1270/1270 [00:01<00:00, 985.62it/s]\n"
     ]
    },
    {
     "name": "stdout",
     "output_type": "stream",
     "text": [
      "epoch: 0, score: {'val_rmse': 1.3326454}\n",
      "done save at epoch:  1\n"
     ]
    },
    {
     "name": "stderr",
     "output_type": "stream",
     "text": [
      "  4%|███▎                                                                         | 1001/22872 [02:24<52:37,  6.93it/s]\n"
     ]
    },
    {
     "name": "stdout",
     "output_type": "stream",
     "text": [
      "epoch:  1 . load data time:  33.41731905937195 . train time:  144.53356170654297 . train loss:  2219069.8\n"
     ]
    },
    {
     "name": "stderr",
     "output_type": "stream",
     "text": [
      "  4%|███▎                                                                         | 1001/22872 [02:25<52:59,  6.88it/s]\n",
      "  7%|█████▊                                                                         | 93/1270 [00:00<00:01, 923.24it/s]"
     ]
    },
    {
     "name": "stdout",
     "output_type": "stream",
     "text": [
      "epoch:  2 . load data time:  33.36878800392151 . train time:  145.50499296188354 . train loss:  1835103.2\n"
     ]
    },
    {
     "name": "stderr",
     "output_type": "stream",
     "text": [
      "100%|█████████████████████████████████████████████████████████████████████████████| 1270/1270 [00:01<00:00, 959.74it/s]\n"
     ]
    },
    {
     "name": "stdout",
     "output_type": "stream",
     "text": [
      "epoch: 2, score: {'val_rmse': 1.0594991}\n",
      "done save at epoch:  4\n"
     ]
    },
    {
     "name": "stderr",
     "output_type": "stream",
     "text": [
      "  4%|███▎                                                                         | 1001/22872 [02:28<54:09,  6.73it/s]\n"
     ]
    },
    {
     "name": "stdout",
     "output_type": "stream",
     "text": [
      "epoch:  3 . load data time:  33.23911452293396 . train time:  148.71837329864502 . train loss:  1558471.5\n"
     ]
    },
    {
     "name": "stderr",
     "output_type": "stream",
     "text": [
      "  4%|███▎                                                                         | 1001/22872 [02:24<52:41,  6.92it/s]\n",
      " 15%|███████████▉                                                                  | 195/1270 [00:00<00:01, 963.31it/s]"
     ]
    },
    {
     "name": "stdout",
     "output_type": "stream",
     "text": [
      "epoch:  4 . load data time:  32.914036989212036 . train time:  144.70812463760376 . train loss:  1347344.5\n"
     ]
    },
    {
     "name": "stderr",
     "output_type": "stream",
     "text": [
      "100%|█████████████████████████████████████████████████████████████████████████████| 1270/1270 [00:01<00:00, 973.85it/s]\n"
     ]
    },
    {
     "name": "stdout",
     "output_type": "stream",
     "text": [
      "epoch: 4, score: {'val_rmse': 0.9718058}\n",
      "done save at epoch:  9\n"
     ]
    }
   ],
   "source": [
    "training(rsmodel, opt, train_dataset, val_dataset, num_epochs=10)"
   ]
  },
  {
   "cell_type": "code",
   "execution_count": null,
   "metadata": {},
   "outputs": [],
   "source": []
  },
  {
   "cell_type": "code",
   "execution_count": null,
   "metadata": {},
   "outputs": [],
   "source": []
  },
  {
   "cell_type": "code",
   "execution_count": null,
   "metadata": {},
   "outputs": [],
   "source": []
  },
  {
   "cell_type": "code",
   "execution_count": null,
   "metadata": {},
   "outputs": [],
   "source": []
  },
  {
   "cell_type": "code",
   "execution_count": null,
   "metadata": {},
   "outputs": [],
   "source": []
  },
  {
   "cell_type": "code",
   "execution_count": null,
   "metadata": {},
   "outputs": [],
   "source": []
  },
  {
   "cell_type": "code",
   "execution_count": null,
   "metadata": {},
   "outputs": [],
   "source": []
  },
  {
   "cell_type": "code",
   "execution_count": null,
   "metadata": {},
   "outputs": [],
   "source": []
  },
  {
   "cell_type": "code",
   "execution_count": null,
   "metadata": {},
   "outputs": [],
   "source": []
  },
  {
   "cell_type": "code",
   "execution_count": null,
   "metadata": {},
   "outputs": [],
   "source": []
  },
  {
   "cell_type": "code",
   "execution_count": null,
   "metadata": {},
   "outputs": [],
   "source": []
  },
  {
   "cell_type": "code",
   "execution_count": null,
   "metadata": {},
   "outputs": [],
   "source": []
  },
  {
   "cell_type": "code",
   "execution_count": null,
   "metadata": {},
   "outputs": [],
   "source": []
  }
 ],
 "metadata": {
  "kernelspec": {
   "display_name": "Python 3",
   "language": "python",
   "name": "python3"
  },
  "language_info": {
   "codemirror_mode": {
    "name": "ipython",
    "version": 3
   },
   "file_extension": ".py",
   "mimetype": "text/x-python",
   "name": "python",
   "nbconvert_exporter": "python",
   "pygments_lexer": "ipython3",
   "version": "3.8.0"
  }
 },
 "nbformat": 4,
 "nbformat_minor": 4
}
