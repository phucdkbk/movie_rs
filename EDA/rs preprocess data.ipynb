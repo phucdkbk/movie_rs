{
 "cells": [
  {
   "cell_type": "code",
   "execution_count": 1,
   "metadata": {},
   "outputs": [
    {
     "name": "stderr",
     "output_type": "stream",
     "text": [
      "<ipython-input-1-cd2c252ab8a8>:11: TqdmDeprecationWarning: This function will be removed in tqdm==5.0.0\n",
      "Please use `tqdm.notebook.tqdm` instead of `tqdm.tqdm_notebook`\n",
      "  tqdm().pandas()\n"
     ]
    },
    {
     "data": {
      "application/vnd.jupyter.widget-view+json": {
       "model_id": "e8a5e59a21ca43c7b6d5a8b2935c24d6",
       "version_major": 2,
       "version_minor": 0
      },
      "text/plain": [
       "HBox(children=(HTML(value=''), FloatProgress(value=1.0, bar_style='info', layout=Layout(width='20px'), max=1.0…"
      ]
     },
     "metadata": {},
     "output_type": "display_data"
    },
    {
     "name": "stderr",
     "output_type": "stream",
     "text": [
      "c:\\users\\admin\\appdata\\local\\programs\\python\\python38\\lib\\site-packages\\tqdm\\std.py:697: FutureWarning: The Panel class is removed from pandas. Accessing it from the top-level namespace will also be removed in the next version\n",
      "  from pandas import Panel\n"
     ]
    }
   ],
   "source": [
    "import pandas as pd\n",
    "import numpy as np\n",
    "import matplotlib.pyplot as plt\n",
    "import seaborn as sns\n",
    "from tqdm import tqdm_notebook as tqdm\n",
    "import tensorflow as tf\n",
    "from datetime import datetime\n",
    "import json\n",
    "import ast\n",
    "\n",
    "tqdm().pandas()"
   ]
  },
  {
   "cell_type": "code",
   "execution_count": 67,
   "metadata": {},
   "outputs": [],
   "source": [
    "# base_folder = 'F:\\\\Projects\\\\train\\\\episerver\\\\data\\\\rs\\\\'\n",
    "base_folder = 'E:\\\\Projects\\\\Train\\\\episerver\\\\data\\\\rs\\\\'\n",
    "model_folder = 'E:\\\\Projects\\\\Train\\\\episerver\\\\model\\\\rs\\\\'"
   ]
  },
  {
   "cell_type": "code",
   "execution_count": 3,
   "metadata": {},
   "outputs": [
    {
     "name": "stderr",
     "output_type": "stream",
     "text": [
      "c:\\users\\admin\\appdata\\local\\programs\\python\\python38\\lib\\site-packages\\IPython\\core\\interactiveshell.py:3145: DtypeWarning: Columns (10) have mixed types.Specify dtype option on import or set low_memory=False.\n",
      "  has_raised = await self.run_ast_nodes(code_ast.body, cell_name,\n"
     ]
    }
   ],
   "source": [
    "movies_metadata = pd.read_csv(base_folder + 'movies_metadata.csv')\n",
    "keywords = pd.read_csv(base_folder + 'keywords.csv')\n",
    "credits = pd.read_csv(base_folder + 'credits.csv')\n",
    "links = pd.read_csv(base_folder + 'links.csv')\n",
    "ratings = pd.read_csv(base_folder + 'ratings.csv')"
   ]
  },
  {
   "cell_type": "markdown",
   "metadata": {},
   "source": [
    "### preprocess rating"
   ]
  },
  {
   "cell_type": "code",
   "execution_count": 4,
   "metadata": {},
   "outputs": [
    {
     "data": {
      "text/plain": [
       "((26024289, 4), 270896, 45115)"
      ]
     },
     "execution_count": 4,
     "metadata": {},
     "output_type": "execute_result"
    }
   ],
   "source": [
    "ratings.shape, ratings['userId'].unique().__len__(), ratings['movieId'].unique().__len__()"
   ]
  },
  {
   "cell_type": "code",
   "execution_count": 5,
   "metadata": {},
   "outputs": [],
   "source": [
    "USER_MIN_NUM_ITEMS = 3\n",
    "ITEM_MIN_NUM_USERS = 3"
   ]
  },
  {
   "cell_type": "code",
   "execution_count": 6,
   "metadata": {},
   "outputs": [],
   "source": [
    "user_item_count = ratings['userId'].value_counts()\n",
    "item_user_count = ratings['movieId'].value_counts()"
   ]
  },
  {
   "cell_type": "code",
   "execution_count": 7,
   "metadata": {},
   "outputs": [],
   "source": [
    "sparse_users = list(user_item_count[user_item_count < USER_MIN_NUM_ITEMS].index)\n",
    "sparse_items = list(item_user_count[item_user_count < ITEM_MIN_NUM_USERS].index)"
   ]
  },
  {
   "cell_type": "code",
   "execution_count": 8,
   "metadata": {},
   "outputs": [
    {
     "data": {
      "text/plain": [
       "(8693, 12628)"
      ]
     },
     "execution_count": 8,
     "metadata": {},
     "output_type": "execute_result"
    }
   ],
   "source": [
    "sparse_users.__len__(), sparse_items.__len__()"
   ]
  },
  {
   "cell_type": "code",
   "execution_count": 9,
   "metadata": {},
   "outputs": [
    {
     "data": {
      "text/plain": [
       "11"
      ]
     },
     "execution_count": 9,
     "metadata": {},
     "output_type": "execute_result"
    }
   ],
   "source": [
    "item_rated_by_sparse_users = ratings[ratings['userId'].isin(sparse_users)]['movieId'].unique()\n",
    "set(item_rated_by_sparse_users).intersection(set(sparse_items)).__len__()"
   ]
  },
  {
   "cell_type": "markdown",
   "metadata": {},
   "source": [
    "#### notes:\n",
    "    - only 2 movives is rated by one user, and that user only rates one movice\n",
    "    - only 11 movives is rated by users who only rates less than 3 movive\n",
    "    - --> don't need to process sparsity"
   ]
  },
  {
   "cell_type": "markdown",
   "metadata": {},
   "source": [
    "### preprocess keywords"
   ]
  },
  {
   "cell_type": "code",
   "execution_count": 10,
   "metadata": {},
   "outputs": [],
   "source": [
    "MIN_OCCURRED_KEYWORD = 3\n",
    "\n",
    "\n",
    "def get_all_keywords(keywords):\n",
    "    all_keywords = dict()\n",
    "    for keyword in keywords['keywords']:\n",
    "        list_keywords = ast.literal_eval(keyword)\n",
    "        if list_keywords.__len__() > 0:\n",
    "            for keyword_info in list_keywords:\n",
    "                keyword_value = keyword_info['name']\n",
    "                if not all_keywords.__contains__(keyword_value):\n",
    "                    all_keywords[keyword_value] = 0\n",
    "                all_keywords[keyword_value] += 1\n",
    "    all_keywords = pd.DataFrame({\n",
    "        'keyword': list(all_keywords.keys()),\n",
    "        'num_count': list(all_keywords.values())\n",
    "    })\n",
    "    return all_keywords\n",
    "\n",
    "\n",
    "def get_common_keywords(keyword_df):\n",
    "    keyword_df = keyword_df.sort_values(by='num_count', ascending=False)\n",
    "    common_keywords = keyword_df[keyword_df['num_count'] >= MIN_OCCURRED_KEYWORD].keyword\n",
    "    return common_keywords"
   ]
  },
  {
   "cell_type": "code",
   "execution_count": 11,
   "metadata": {},
   "outputs": [
    {
     "name": "stdout",
     "output_type": "stream",
     "text": [
      "\n"
     ]
    }
   ],
   "source": [
    "all_keywords = get_all_keywords(keywords)\n",
    "common_keywords = get_common_keywords(all_keywords)"
   ]
  },
  {
   "cell_type": "code",
   "execution_count": 12,
   "metadata": {},
   "outputs": [],
   "source": [
    "def get_movie_keyword(common_keywords, keywords):\n",
    "    map_keywords = {keyword: i + 1 for i, keyword in enumerate(common_keywords)}\n",
    "\n",
    "    map_movie_keyword = dict()\n",
    "    for movie_id, keyword in keywords[['id', 'keywords']].values:\n",
    "        list_keywords = ast.literal_eval(keyword)\n",
    "        movie_keywords = []\n",
    "        if list_keywords.__len__() > 0:\n",
    "            for keyword_info in list_keywords:\n",
    "                keyword_value = keyword_info['name']\n",
    "                if map_keywords.__contains__(keyword_value):\n",
    "                    movie_keywords.append(map_keywords[keyword_value])\n",
    "        map_movie_keyword[movie_id] = movie_keywords\n",
    "    movie_keyword_df = pd.DataFrame({\n",
    "        'movie_id': map_movie_keyword.keys(),\n",
    "        'keywords': map_movie_keyword.values()\n",
    "    })\n",
    "\n",
    "    movie_keyword_df['num_keyword'] = movie_keyword_df['keywords'].apply(lambda x: len(x))\n",
    "    return movie_keyword_df"
   ]
  },
  {
   "cell_type": "code",
   "execution_count": 13,
   "metadata": {},
   "outputs": [],
   "source": [
    "movie_keyword_df = get_movie_keyword(common_keywords, keywords)"
   ]
  },
  {
   "cell_type": "code",
   "execution_count": 14,
   "metadata": {},
   "outputs": [
    {
     "name": "stderr",
     "output_type": "stream",
     "text": [
      "c:\\users\\admin\\appdata\\local\\programs\\python\\python38\\lib\\site-packages\\seaborn\\distributions.py:2551: FutureWarning: `distplot` is a deprecated function and will be removed in a future version. Please adapt your code to use either `displot` (a figure-level function with similar flexibility) or `histplot` (an axes-level function for histograms).\n",
      "  warnings.warn(msg, FutureWarning)\n"
     ]
    },
    {
     "data": {
      "text/plain": [
       "<matplotlib.axes._subplots.AxesSubplot at 0x1cee5b66880>"
      ]
     },
     "execution_count": 14,
     "metadata": {},
     "output_type": "execute_result"
    },
    {
     "data": {
      "image/png": "[encoded data removed]",
      "text/plain": [
       "<Figure size 432x288 with 1 Axes>"
      ]
     },
     "metadata": {
      "needs_background": "light"
     },
     "output_type": "display_data"
    }
   ],
   "source": [
    "sns.distplot(movie_keyword_df['num_keyword'])"
   ]
  },
  {
   "cell_type": "markdown",
   "metadata": {},
   "source": [
    "#### padding keyword"
   ]
  },
  {
   "cell_type": "code",
   "execution_count": 15,
   "metadata": {},
   "outputs": [],
   "source": [
    "MOVIE_MAX_KEYWORD = 15"
   ]
  },
  {
   "cell_type": "code",
   "execution_count": 16,
   "metadata": {},
   "outputs": [],
   "source": [
    "def padding_keywords(movie_keyword_df, num_pad=MOVIE_MAX_KEYWORD):\n",
    "    map_padding_keywords = dict()\n",
    "    for movie_id, keywords in movie_keyword_df[['movie_id', 'keywords']].values:\n",
    "        if keywords.__len__() < num_pad:\n",
    "            padding_kewords = np.concatenate([np.array(keywords), np.zeros(num_pad - keywords.__len__())], axis=0).astype(np.int32)\n",
    "        else:\n",
    "            padding_kewords = np.array(keywords[:15]).astype(np.int32)\n",
    "        map_padding_keywords[movie_id] = padding_kewords\n",
    "    movie_keyword_df['padding_keywords'] = movie_keyword_df['movie_id'].map(map_padding_keywords)\n",
    "    movie_keyword_df = movie_keyword_df.drop(columns='keywords')\n",
    "    return movie_keyword_df"
   ]
  },
  {
   "cell_type": "code",
   "execution_count": 17,
   "metadata": {},
   "outputs": [],
   "source": [
    "movie_keyword_df = padding_keywords(movie_keyword_df)"
   ]
  },
  {
   "cell_type": "markdown",
   "metadata": {},
   "source": [
    "### mapping movie_id, user_id"
   ]
  },
  {
   "cell_type": "code",
   "execution_count": 31,
   "metadata": {},
   "outputs": [],
   "source": [
    "all_movie_ids = ratings['movieId'].unique()\n",
    "movie_id_idx_map = {movie_id: i for i, movie_id in enumerate(all_movie_ids)}\n",
    "idx_movie_id_map = {idx: movie_id for movie_id, idx in movie_id_idx_map.items()}"
   ]
  },
  {
   "cell_type": "code",
   "execution_count": 32,
   "metadata": {},
   "outputs": [],
   "source": [
    "def get_all_movie_keywords(ratings, movie_keyword_df, movie_id_idx_map):\n",
    "    all_movie_ids = ratings['movieId'].unique()\n",
    "    all_movie_keywords = pd.DataFrame({'movie_id': all_movie_ids})\n",
    "    all_movie_keywords = all_movie_keywords.merge(movie_keyword_df, how='left', on='movie_id')\n",
    "    all_movie_keywords['itemId'] = all_movie_keywords['movie_id'].map(movie_id_idx_map)\n",
    "    all_movie_keywords = all_movie_keywords.sort_values(by='itemId', ascending=True)\n",
    "\n",
    "    all_movie_keywords['num_keyword'] = all_movie_keywords['num_keyword'].fillna(0)\n",
    "    all_movie_keywords['num_keyword'] = all_movie_keywords['num_keyword'].astype(np.int32)\n",
    "\n",
    "    all_movie_keywords.loc[all_movie_keywords['padding_keywords'].isna(), 'padding_keywords'] = str(list(np.zeros(MOVIE_MAX_KEYWORD, dtype=np.int32)))\n",
    "    all_movie_keywords['padding_keywords'] = all_movie_keywords['padding_keywords'].apply(lambda x: np.array(ast.literal_eval(x)) if type(x) == str else x)\n",
    "\n",
    "    item_keywords = np.concatenate(all_movie_keywords['padding_keywords'].values, axis=0).reshape(-1, 15)\n",
    "    return item_keywords"
   ]
  },
  {
   "cell_type": "code",
   "execution_count": 34,
   "metadata": {},
   "outputs": [],
   "source": [
    "item_keywords = get_all_movie_keywords(ratings, movie_keyword_df, movie_id_idx_map)"
   ]
  },
  {
   "cell_type": "code",
   "execution_count": 36,
   "metadata": {},
   "outputs": [],
   "source": [
    "ratings['itemId'] = ratings['movieId'].map(movie_id_idx_map)"
   ]
  },
  {
   "cell_type": "markdown",
   "metadata": {},
   "source": [
    "### train test split"
   ]
  },
  {
   "cell_type": "code",
   "execution_count": 39,
   "metadata": {},
   "outputs": [],
   "source": [
    "ratings = ratings.drop(columns=['timestamp', 'movieId'])"
   ]
  },
  {
   "cell_type": "code",
   "execution_count": 41,
   "metadata": {},
   "outputs": [],
   "source": [
    "from sklearn.model_selection import train_test_split"
   ]
  },
  {
   "cell_type": "code",
   "execution_count": 59,
   "metadata": {},
   "outputs": [],
   "source": [
    "train, val_test = train_test_split(ratings, test_size=0.1)\n",
    "val, test = train_test_split(val_test, test_size=0.5)"
   ]
  },
  {
   "cell_type": "code",
   "execution_count": 60,
   "metadata": {},
   "outputs": [
    {
     "data": {
      "text/plain": [
       "((26024289, 3), (23421860, 3), (1301214, 3), (1301215, 3))"
      ]
     },
     "execution_count": 60,
     "metadata": {},
     "output_type": "execute_result"
    }
   ],
   "source": [
    "ratings.shape, train.shape, val.shape, test.shape"
   ]
  },
  {
   "cell_type": "code",
   "execution_count": 61,
   "metadata": {},
   "outputs": [
    {
     "data": {
      "text/plain": [
       "(0.9985117596645814,\n",
       " array([267098,  85166, 218033, ..., 207247, 108897, 134862], dtype=int64))"
      ]
     },
     "execution_count": 61,
     "metadata": {},
     "output_type": "execute_result"
    }
   ],
   "source": [
    "set(train['userId'].unique()).intersection(set(val['userId'].unique())).__len__()/val['userId'].unique().__len__(), val['userId'].unique()"
   ]
  },
  {
   "cell_type": "code",
   "execution_count": 68,
   "metadata": {},
   "outputs": [],
   "source": [
    "import pickle"
   ]
  },
  {
   "cell_type": "code",
   "execution_count": 72,
   "metadata": {},
   "outputs": [],
   "source": [
    "pickle.dump(train, open(model_folder + 'train.pkl', 'wb'))\n",
    "pickle.dump(val, open(model_folder + 'val.pkl', 'wb'))\n",
    "pickle.dump(test, open(model_folder + 'test.pkl', 'wb'))\n",
    "\n",
    "pickle.dump(movie_id_idx_map, open(model_folder + 'movie_id_idx_map.pkl', 'wb'))\n",
    "pickle.dump(idx_movie_id_map, open(model_folder + 'idx_movie_id_map.pkl', 'wb'))\n",
    "pickle.dump(common_keywords, open(model_folder + 'common_keywords.pkl', 'wb'))"
   ]
  },
  {
   "cell_type": "code",
   "execution_count": 83,
   "metadata": {},
   "outputs": [],
   "source": [
    "pickle.dump(item_keywords, open(model_folder + 'item_keywords.pkl', 'wb'))"
   ]
  },
  {
   "cell_type": "markdown",
   "metadata": {},
   "source": [
    "### train"
   ]
  },
  {
   "cell_type": "code",
   "execution_count": 80,
   "metadata": {},
   "outputs": [],
   "source": [
    "meta_data = {\n",
    "    'num_users': ratings['userId'].unique().__len__(),\n",
    "    'num_items':ratings['itemId'].unique().__len__(), \n",
    "    'num_keywords': common_keywords.__len__()\n",
    "}"
   ]
  },
  {
   "cell_type": "code",
   "execution_count": 81,
   "metadata": {},
   "outputs": [],
   "source": [
    "pickle.dump(meta_data, open(model_folder + 'meta_data.pkl', 'wb'))"
   ]
  },
  {
   "cell_type": "code",
   "execution_count": 75,
   "metadata": {},
   "outputs": [
    {
     "data": {
      "text/plain": [
       "8265"
      ]
     },
     "execution_count": 75,
     "metadata": {},
     "output_type": "execute_result"
    }
   ],
   "source": [
    "common_keywords.__len__()"
   ]
  },
  {
   "cell_type": "code",
   "execution_count": 85,
   "metadata": {},
   "outputs": [
    {
     "data": {
      "text/plain": [
       "(270896, 1)"
      ]
     },
     "execution_count": 85,
     "metadata": {},
     "output_type": "execute_result"
    }
   ],
   "source": [
    "ratings['userId'].max(), ratings['userId'].min()"
   ]
  },
  {
   "cell_type": "code",
   "execution_count": 87,
   "metadata": {},
   "outputs": [
    {
     "data": {
      "text/plain": [
       "270896"
      ]
     },
     "execution_count": 87,
     "metadata": {},
     "output_type": "execute_result"
    }
   ],
   "source": [
    "ratings['userId'].unique().__len__()"
   ]
  },
  {
   "cell_type": "code",
   "execution_count": null,
   "metadata": {},
   "outputs": [],
   "source": []
  },
  {
   "cell_type": "code",
   "execution_count": null,
   "metadata": {},
   "outputs": [],
   "source": []
  },
  {
   "cell_type": "code",
   "execution_count": null,
   "metadata": {},
   "outputs": [],
   "source": []
  },
  {
   "cell_type": "code",
   "execution_count": null,
   "metadata": {},
   "outputs": [],
   "source": []
  },
  {
   "cell_type": "code",
   "execution_count": null,
   "metadata": {},
   "outputs": [],
   "source": []
  },
  {
   "cell_type": "code",
   "execution_count": null,
   "metadata": {},
   "outputs": [],
   "source": []
  },
  {
   "cell_type": "code",
   "execution_count": null,
   "metadata": {},
   "outputs": [],
   "source": []
  },
  {
   "cell_type": "code",
   "execution_count": null,
   "metadata": {},
   "outputs": [],
   "source": []
  },
  {
   "cell_type": "code",
   "execution_count": null,
   "metadata": {},
   "outputs": [],
   "source": []
  },
  {
   "cell_type": "code",
   "execution_count": null,
   "metadata": {},
   "outputs": [],
   "source": []
  },
  {
   "cell_type": "code",
   "execution_count": null,
   "metadata": {},
   "outputs": [],
   "source": []
  },
  {
   "cell_type": "code",
   "execution_count": null,
   "metadata": {},
   "outputs": [],
   "source": []
  },
  {
   "cell_type": "code",
   "execution_count": null,
   "metadata": {},
   "outputs": [],
   "source": []
  },
  {
   "cell_type": "code",
   "execution_count": null,
   "metadata": {},
   "outputs": [],
   "source": []
  },
  {
   "cell_type": "code",
   "execution_count": null,
   "metadata": {},
   "outputs": [],
   "source": []
  },
  {
   "cell_type": "code",
   "execution_count": null,
   "metadata": {},
   "outputs": [],
   "source": []
  },
  {
   "cell_type": "code",
   "execution_count": null,
   "metadata": {},
   "outputs": [],
   "source": []
  }
 ],
 "metadata": {
  "kernelspec": {
   "display_name": "Python 3",
   "language": "python",
   "name": "python3"
  },
  "language_info": {
   "codemirror_mode": {
    "name": "ipython",
    "version": 3
   },
   "file_extension": ".py",
   "mimetype": "text/x-python",
   "name": "python",
   "nbconvert_exporter": "python",
   "pygments_lexer": "ipython3",
   "version": "3.8.0"
  }
 },
 "nbformat": 4,
 "nbformat_minor": 2
}
