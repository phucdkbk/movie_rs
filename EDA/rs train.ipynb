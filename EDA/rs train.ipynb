{
 "cells": [
  {
   "cell_type": "code",
   "execution_count": 1,
   "metadata": {},
   "outputs": [],
   "source": [
    "import tensorflow as tf\n",
    "from tensorflow.keras import Model\n",
    "from dataset import DataSet\n",
    "import numpy as np\n",
    "from tensorflow.keras.initializers import TruncatedNormal\n",
    "from tqdm import tqdm\n",
    "from time import time\n",
    "import pandas as pd\n",
    "import numpy as np\n",
    "import pickle\n",
    "import pandas as pd\n",
    "from tqdm import tqdm"
   ]
  },
  {
   "cell_type": "code",
   "execution_count": 2,
   "metadata": {},
   "outputs": [],
   "source": [
    "# base_folder = 'F:\\\\Projects\\\\train\\\\episerver\\\\data\\\\rs\\\\'\n",
    "# base_folder = 'E:\\\\Projects\\\\Train\\\\episerver\\\\data\\\\rs\\\\'\n",
    "model_folder = 'E:\\\\Projects\\\\Train\\\\episerver\\\\model\\\\rs\\\\'"
   ]
  },
  {
   "cell_type": "code",
   "execution_count": 3,
   "metadata": {},
   "outputs": [],
   "source": [
    "gpus = tf.config.experimental.list_physical_devices('GPU')\n",
    "if gpus.__len__() > 0:\n",
    "    tf.config.experimental.set_visible_devices(gpus[1], 'GPU')"
   ]
  },
  {
   "cell_type": "code",
   "execution_count": 4,
   "metadata": {},
   "outputs": [],
   "source": [
    "class DataSet:\n",
    "\n",
    "    def __init__(self, ratings, batch_size=128):\n",
    "        self.ratings = ratings\n",
    "        self.batch_size = batch_size\n",
    "        self.num_batch = self.ratings.shape[0] // self.batch_size\n",
    "\n",
    "    def shuffle(self):\n",
    "        np.random.shuffle(self.ratings)\n",
    "\n",
    "    def get_batch(self, i):\n",
    "        user_ids = self.ratings[i * self.batch_size: (i + 1) * self.batch_size, 0]\n",
    "        item_ids = self.ratings[i * self.batch_size: (i + 1) * self.batch_size, 1]\n",
    "        rates = self.ratings[i * self.batch_size: (i + 1) * self.batch_size, 2]\n",
    "        return (np.array(user_ids, dtype=np.int32),\n",
    "                np.array(item_ids, dtype=np.int32),\n",
    "                np.array(rates, dtype=np.float32))"
   ]
  },
  {
   "cell_type": "code",
   "execution_count": 5,
   "metadata": {},
   "outputs": [],
   "source": [
    "class RSModel(Model):\n",
    "\n",
    "    def __init__(self, args):\n",
    "        super(RSModel, self).__init__()\n",
    "        self.embedding_size = args['embedding_size']\n",
    "        self.keyword_embedding_size = args['keyword_embedding_size']\n",
    "        self.alpha = args['alpha']\n",
    "        self.beta = args['beta']\n",
    "        self.gamma = args['gamma']\n",
    "        self.num_items = args['num_items']\n",
    "        self.num_users = args['num_users']\n",
    "        self.num_keywords = args['num_keywords']\n",
    "        self.item_keywords = tf.constant(args['item_keywords'], dtype=tf.int32)\n",
    "        self.keyword_embedding = tf.keras.layers.Embedding(input_dim=self.num_keywords + 1, output_dim=self.keyword_embedding_size,\n",
    "                                                           embeddings_initializer=TruncatedNormal(mean=0., stddev=0.1),\n",
    "                                                           mask_zero=True,\n",
    "                                                           embeddings_regularizer=tf.keras.regularizers.L2(self.alpha)\n",
    "                                                           )\n",
    "        self.user_embedding = tf.keras.layers.Embedding(input_dim=self.num_users + 1, output_dim=self.embedding_size,\n",
    "                                                        embeddings_initializer=TruncatedNormal(mean=0., stddev=0.1),\n",
    "                                                        embeddings_regularizer=tf.keras.regularizers.L2(self.beta))\n",
    "        self.item_embedding = tf.keras.layers.Embedding(input_dim=self.num_items, output_dim=self.embedding_size,\n",
    "                                                        embeddings_initializer=TruncatedNormal(mean=0., stddev=0.1),\n",
    "                                                        embeddings_regularizer=tf.keras.regularizers.L2(self.beta))\n",
    "        self.bias_u = tf.keras.layers.Embedding(input_dim=self.num_users + 1, output_dim=1,\n",
    "                                                embeddings_initializer=TruncatedNormal(mean=0., stddev=0.1),\n",
    "                                                embeddings_regularizer=tf.keras.regularizers.L2(self.gamma))\n",
    "        self.bias_i = tf.keras.layers.Embedding(input_dim=self.num_items, output_dim=1,\n",
    "                                                embeddings_initializer=TruncatedNormal(mean=0., stddev=0.1),\n",
    "                                                embeddings_regularizer=tf.keras.regularizers.L2(self.gamma))\n",
    "        self.mlp_dense = tf.keras.layers.Dense(units=1)\n",
    "\n",
    "    def call(self, user_ids, item_ids):\n",
    "        user_bias = self.bias_u(user_ids)\n",
    "        item_bias = self.bias_i(item_ids)\n",
    "        # matrix factorization\n",
    "        users_embedding = self.user_embedding(user_ids)\n",
    "        items_embedding = self.item_embedding(item_ids)\n",
    "        mf = tf.math.multiply(users_embedding, items_embedding)\n",
    "        # mlp\n",
    "        item_keyword = tf.nn.embedding_lookup(self.item_keywords, item_ids)\n",
    "        item_keyword_embedding = self.keyword_embedding(item_keyword)\n",
    "        item_encode = tf.reduce_sum(item_keyword_embedding, axis=1)\n",
    "        item_encode = self.mlp_dense(item_encode)\n",
    "        # rating score\n",
    "        r = tf.squeeze(user_bias) + tf.squeeze(item_bias) + tf.reduce_sum(mf, axis=1) + tf.reduce_sum(item_encode, axis=1)\n",
    "        \n",
    "#         r = tf.squeeze(user_bias) + tf.squeeze(item_bias) + tf.reduce_sum(mf, axis=1)\n",
    "        return r\n",
    "\n",
    "    def loss_fn_rmse(self, predictions, labels):\n",
    "        loss = tf.reduce_sum(tf.math.square(predictions - labels))\n",
    "        loss += tf.reduce_sum(self.keyword_embedding.losses)\n",
    "        loss += tf.reduce_sum(rsmodel.user_embedding.losses) + tf.reduce_sum(rsmodel.item_embedding.losses)\n",
    "#         loss += tf.reduce_sum(self.bias_u.losses) + tf.reduce_sum(self.bias_i.losses)\n",
    "        return loss\n",
    "\n",
    "\n",
    "@tf.function\n",
    "def train_step(rs_model, optimizer, user_ids, item_ids, ratings):\n",
    "    with tf.GradientTape() as tape:\n",
    "        predictions = rs_model(user_ids, item_ids)\n",
    "        loss = rs_model.loss_fn_rmse(predictions, ratings)\n",
    "    gradients = tape.gradient(target=loss, sources=rs_model.trainable_variables)\n",
    "    optimizer.apply_gradients(zip(gradients, rs_model.trainable_variables))\n",
    "    return loss\n",
    "\n",
    "\n",
    "def get_val_rmse(rs_model, val_dataset):\n",
    "    all_ratings = []\n",
    "    all_predictions = []\n",
    "    for i in tqdm(range(val_dataset.num_batch)):\n",
    "        user_ids, item_ids, ratings = val_dataset.get_batch(i)\n",
    "        predictions = rsmodel(user_ids, item_ids)\n",
    "        all_predictions.append(predictions.numpy())\n",
    "        all_ratings.append(ratings)\n",
    "    val_predictions = np.concatenate(all_predictions, axis=0)\n",
    "    val_ratings = np.concatenate(all_ratings, axis=0)    \n",
    "    return np.sqrt(np.mean((val_predictions - val_ratings) ** 2))\n",
    "\n",
    "\n",
    "def training(rs_model, optimizer, train_dataset, val_dataset, num_epochs, pretrained=False):\n",
    "    epoch_step = tf.Variable(0, dtype=tf.int32)\n",
    "    ckpt = tf.train.Checkpoint(fism_model=rs_model, epoch_step=epoch_step)\n",
    "    manager = tf.train.CheckpointManager(checkpoint=ckpt, directory='./rsmodel_ckpt', max_to_keep=3)\n",
    "    if pretrained:\n",
    "        ckpt.restore(manager.latest_checkpoint)\n",
    "    for epoch in range(num_epochs):\n",
    "        train_loss = tf.constant(0, tf.float32)\n",
    "        start_load_data = time()\n",
    "        train_dataset.shuffle()\n",
    "        load_data_time = time() - start_load_data\n",
    "        start_train_time = time()\n",
    "        for i in tqdm(range(train_dataset.num_batch)):\n",
    "            user_ids, item_ids, ratings = train_dataset.get_batch(i)\n",
    "            loss_step = train_step(rs_model, optimizer, user_ids, item_ids, ratings)\n",
    "            train_loss += loss_step\n",
    "            if i > 1000:\n",
    "                break\n",
    "        train_time = time() - start_train_time\n",
    "        print('epoch: ', epoch, '. load data time: ', load_data_time, '. train time: ', train_time, '. train loss: ', train_loss.numpy())\n",
    "        if epoch % 2 == 0:\n",
    "            val_rmse = get_val_rmse(rs_model, val_dataset)\n",
    "            score = {'val_rmse': val_rmse}\n",
    "\n",
    "            print('epoch: {}, score: {}'.format(epoch, score))\n",
    "            ckpt.epoch_step.assign_add(epoch + 1)\n",
    "            manager.save()\n",
    "            print('done save at epoch: ', ckpt.epoch_step.numpy())"
   ]
  },
  {
   "cell_type": "markdown",
   "metadata": {},
   "source": [
    "#### load data"
   ]
  },
  {
   "cell_type": "code",
   "execution_count": 6,
   "metadata": {},
   "outputs": [],
   "source": [
    "train = pickle.load(open(model_folder + 'train.pkl', 'rb'))\n",
    "val = pickle.load(open(model_folder + 'val.pkl', 'rb'))\n",
    "test = pickle.load(open(model_folder + 'test.pkl', 'rb'))\n",
    "\n",
    "movie_id_idx_map = pickle.load(open(model_folder + 'movie_id_idx_map.pkl', 'rb'))\n",
    "idx_movie_id_map = pickle.load(open(model_folder + 'idx_movie_id_map.pkl', 'rb'))\n",
    "meta_data = pickle.load(open(model_folder + 'meta_data.pkl', 'rb'))\n",
    "\n",
    "item_keywords = pickle.load(open(model_folder + 'item_keywords.pkl', 'rb'))"
   ]
  },
  {
   "cell_type": "code",
   "execution_count": 7,
   "metadata": {},
   "outputs": [],
   "source": [
    "train_dataset = DataSet(train[['userId', 'itemId', 'rating']].values, batch_size=1024)\n",
    "val_dataset = DataSet(val[['userId', 'itemId', 'rating']].values, batch_size=1024)\n",
    "test_dataset = DataSet(test[['userId', 'itemId', 'rating']].values, batch_size=1024)"
   ]
  },
  {
   "cell_type": "code",
   "execution_count": 8,
   "metadata": {},
   "outputs": [],
   "source": [
    "args = dict()\n",
    "args['embedding_size'] = 128\n",
    "args['keyword_embedding_size'] = 128\n",
    "args['alpha'] = 0.005\n",
    "args['beta'] = 0.005\n",
    "args['gamma'] = 0.000\n",
    "args['num_items'] = meta_data['num_items']\n",
    "args['num_users'] = meta_data['num_users']\n",
    "args['num_keywords'] = meta_data['num_keywords']\n",
    "args['item_keywords'] = item_keywords\n",
    "\n",
    "\n",
    "rsmodel = RSModel(args)\n",
    "opt = tf.keras.optimizers.Adam(learning_rate=0.005)"
   ]
  },
  {
   "cell_type": "code",
   "execution_count": 9,
   "metadata": {},
   "outputs": [
    {
     "data": {
      "text/plain": [
       "270896"
      ]
     },
     "execution_count": 9,
     "metadata": {},
     "output_type": "execute_result"
    }
   ],
   "source": [
    "meta_data['num_users']"
   ]
  },
  {
   "cell_type": "code",
   "execution_count": 10,
   "metadata": {},
   "outputs": [
    {
     "name": "stderr",
     "output_type": "stream",
     "text": [
      "  4%|███▎                                                                       | 1001/22872 [05:08<1:52:11,  3.25it/s]\n",
      "  3%|██▍                                                                            | 39/1270 [00:00<00:06, 187.25it/s]"
     ]
    },
    {
     "name": "stdout",
     "output_type": "stream",
     "text": [
      "epoch:  0 . load data time:  33.879422187805176 . train time:  308.08832812309265 . train loss:  1249405.5\n"
     ]
    },
    {
     "name": "stderr",
     "output_type": "stream",
     "text": [
      "100%|█████████████████████████████████████████████████████████████████████████████| 1270/1270 [00:06<00:00, 192.12it/s]\n"
     ]
    },
    {
     "name": "stdout",
     "output_type": "stream",
     "text": [
      "epoch: 0, score: {'val_rmse': 0.9370996}\n",
      "done save at epoch:  1\n"
     ]
    },
    {
     "name": "stderr",
     "output_type": "stream",
     "text": [
      "  4%|███▎                                                                       | 1001/22872 [04:57<1:48:16,  3.37it/s]\n"
     ]
    },
    {
     "name": "stdout",
     "output_type": "stream",
     "text": [
      "epoch:  1 . load data time:  32.93997597694397 . train time:  297.32011556625366 . train loss:  1212435.2\n"
     ]
    },
    {
     "name": "stderr",
     "output_type": "stream",
     "text": [
      "  4%|███▎                                                                       | 1001/22872 [04:51<1:46:11,  3.43it/s]\n",
      "  3%|██▌                                                                            | 41/1270 [00:00<00:06, 196.16it/s]"
     ]
    },
    {
     "name": "stdout",
     "output_type": "stream",
     "text": [
      "epoch:  2 . load data time:  32.84723973274231 . train time:  291.6258432865143 . train loss:  1194330.1\n"
     ]
    },
    {
     "name": "stderr",
     "output_type": "stream",
     "text": [
      "100%|█████████████████████████████████████████████████████████████████████████████| 1270/1270 [00:06<00:00, 190.46it/s]\n"
     ]
    },
    {
     "name": "stdout",
     "output_type": "stream",
     "text": [
      "epoch: 2, score: {'val_rmse': 0.8969592}\n",
      "done save at epoch:  4\n"
     ]
    },
    {
     "name": "stderr",
     "output_type": "stream",
     "text": [
      "  4%|███▎                                                                       | 1001/22872 [04:54<1:47:25,  3.39it/s]\n"
     ]
    },
    {
     "name": "stdout",
     "output_type": "stream",
     "text": [
      "epoch:  3 . load data time:  34.59657096862793 . train time:  294.9803729057312 . train loss:  1165252.0\n"
     ]
    },
    {
     "name": "stderr",
     "output_type": "stream",
     "text": [
      "  4%|███▎                                                                       | 1001/22872 [04:49<1:45:25,  3.46it/s]\n",
      "  1%|█▏                                                                             | 19/1270 [00:00<00:06, 188.62it/s]"
     ]
    },
    {
     "name": "stdout",
     "output_type": "stream",
     "text": [
      "epoch:  4 . load data time:  33.262073278427124 . train time:  289.48606157302856 . train loss:  1146861.1\n"
     ]
    },
    {
     "name": "stderr",
     "output_type": "stream",
     "text": [
      "100%|█████████████████████████████████████████████████████████████████████████████| 1270/1270 [00:07<00:00, 176.35it/s]\n"
     ]
    },
    {
     "name": "stdout",
     "output_type": "stream",
     "text": [
      "epoch: 4, score: {'val_rmse': 0.88719815}\n",
      "done save at epoch:  9\n"
     ]
    },
    {
     "name": "stderr",
     "output_type": "stream",
     "text": [
      "  4%|███▎                                                                       | 1001/22872 [05:24<1:58:05,  3.09it/s]\n"
     ]
    },
    {
     "name": "stdout",
     "output_type": "stream",
     "text": [
      "epoch:  5 . load data time:  34.816917419433594 . train time:  324.2721002101898 . train loss:  1135320.5\n"
     ]
    },
    {
     "name": "stderr",
     "output_type": "stream",
     "text": [
      "  4%|███▎                                                                       | 1001/22872 [05:04<1:50:55,  3.29it/s]\n",
      "  1%|█                                                                              | 18/1270 [00:00<00:07, 175.23it/s]"
     ]
    },
    {
     "name": "stdout",
     "output_type": "stream",
     "text": [
      "epoch:  6 . load data time:  34.01309633255005 . train time:  304.6165795326233 . train loss:  1131118.5\n"
     ]
    },
    {
     "name": "stderr",
     "output_type": "stream",
     "text": [
      "100%|█████████████████████████████████████████████████████████████████████████████| 1270/1270 [00:07<00:00, 174.77it/s]\n"
     ]
    },
    {
     "name": "stdout",
     "output_type": "stream",
     "text": [
      "epoch: 6, score: {'val_rmse': 0.88753444}\n",
      "done save at epoch:  16\n"
     ]
    },
    {
     "name": "stderr",
     "output_type": "stream",
     "text": [
      "  4%|███▎                                                                       | 1001/22872 [04:59<1:48:55,  3.35it/s]\n"
     ]
    },
    {
     "name": "stdout",
     "output_type": "stream",
     "text": [
      "epoch:  7 . load data time:  34.43848276138306 . train time:  299.11631441116333 . train loss:  1127370.4\n"
     ]
    },
    {
     "name": "stderr",
     "output_type": "stream",
     "text": [
      "  4%|███▎                                                                       | 1001/22872 [05:00<1:49:27,  3.33it/s]\n",
      "  1%|▊                                                                              | 14/1270 [00:00<00:09, 136.29it/s]"
     ]
    },
    {
     "name": "stdout",
     "output_type": "stream",
     "text": [
      "epoch:  8 . load data time:  33.23218393325806 . train time:  300.5798923969269 . train loss:  1120706.6\n"
     ]
    },
    {
     "name": "stderr",
     "output_type": "stream",
     "text": [
      "100%|█████████████████████████████████████████████████████████████████████████████| 1270/1270 [00:07<00:00, 173.98it/s]\n"
     ]
    },
    {
     "name": "stdout",
     "output_type": "stream",
     "text": [
      "epoch: 8, score: {'val_rmse': 0.88174975}\n",
      "done save at epoch:  25\n"
     ]
    },
    {
     "name": "stderr",
     "output_type": "stream",
     "text": [
      "  4%|███▎                                                                       | 1001/22872 [05:02<1:50:00,  3.31it/s]"
     ]
    },
    {
     "name": "stdout",
     "output_type": "stream",
     "text": [
      "epoch:  9 . load data time:  33.84554696083069 . train time:  302.1072859764099 . train loss:  1117058.0\n"
     ]
    },
    {
     "name": "stderr",
     "output_type": "stream",
     "text": [
      "\n"
     ]
    }
   ],
   "source": [
    "training(rsmodel, opt, train_dataset, val_dataset, num_epochs=10)"
   ]
  },
  {
   "cell_type": "code",
   "execution_count": null,
   "metadata": {},
   "outputs": [],
   "source": []
  },
  {
   "cell_type": "code",
   "execution_count": null,
   "metadata": {},
   "outputs": [],
   "source": []
  },
  {
   "cell_type": "code",
   "execution_count": null,
   "metadata": {},
   "outputs": [],
   "source": []
  },
  {
   "cell_type": "code",
   "execution_count": 10,
   "metadata": {},
   "outputs": [
    {
     "name": "stderr",
     "output_type": "stream",
     "text": [
      "  4%|███▎                                                                         | 1001/22872 [02:29<54:35,  6.68it/s]\n",
      "  3%|██▍                                                                            | 40/1270 [00:00<00:03, 393.20it/s]"
     ]
    },
    {
     "name": "stdout",
     "output_type": "stream",
     "text": [
      "epoch:  0 . load data time:  34.365124464035034 . train time:  149.92917370796204 . train loss:  1120230.2\n"
     ]
    },
    {
     "name": "stderr",
     "output_type": "stream",
     "text": [
      "100%|█████████████████████████████████████████████████████████████████████████████| 1270/1270 [00:03<00:00, 401.08it/s]\n"
     ]
    },
    {
     "name": "stdout",
     "output_type": "stream",
     "text": [
      "epoch: 0, score: {'val_rmse': 0.93591845}\n",
      "done save at epoch:  1\n"
     ]
    },
    {
     "name": "stderr",
     "output_type": "stream",
     "text": [
      "  4%|███▎                                                                         | 1001/22872 [02:28<54:10,  6.73it/s]\n"
     ]
    },
    {
     "name": "stdout",
     "output_type": "stream",
     "text": [
      "epoch:  1 . load data time:  34.087865352630615 . train time:  148.75131464004517 . train loss:  1044392.8\n"
     ]
    },
    {
     "name": "stderr",
     "output_type": "stream",
     "text": [
      "  4%|███▎                                                                         | 1001/22872 [02:27<53:41,  6.79it/s]\n",
      "  3%|██▍                                                                            | 40/1270 [00:00<00:03, 389.39it/s]"
     ]
    },
    {
     "name": "stdout",
     "output_type": "stream",
     "text": [
      "epoch:  2 . load data time:  32.71967267990112 . train time:  147.4328145980835 . train loss:  1021546.25\n"
     ]
    },
    {
     "name": "stderr",
     "output_type": "stream",
     "text": [
      "100%|█████████████████████████████████████████████████████████████████████████████| 1270/1270 [00:03<00:00, 409.72it/s]\n"
     ]
    },
    {
     "name": "stdout",
     "output_type": "stream",
     "text": [
      "epoch: 2, score: {'val_rmse': 0.89548504}\n",
      "done save at epoch:  4\n"
     ]
    },
    {
     "name": "stderr",
     "output_type": "stream",
     "text": [
      "  4%|███▎                                                                         | 1001/22872 [02:25<53:03,  6.87it/s]\n"
     ]
    },
    {
     "name": "stdout",
     "output_type": "stream",
     "text": [
      "epoch:  3 . load data time:  33.15340971946716 . train time:  145.6895010471344 . train loss:  1000892.44\n"
     ]
    },
    {
     "name": "stderr",
     "output_type": "stream",
     "text": [
      "  4%|███▎                                                                         | 1001/22872 [02:24<52:37,  6.93it/s]\n",
      "  3%|██▍                                                                            | 39/1270 [00:00<00:03, 383.38it/s]"
     ]
    },
    {
     "name": "stdout",
     "output_type": "stream",
     "text": [
      "epoch:  4 . load data time:  32.7544584274292 . train time:  144.4976589679718 . train loss:  988913.4\n"
     ]
    },
    {
     "name": "stderr",
     "output_type": "stream",
     "text": [
      "100%|█████████████████████████████████████████████████████████████████████████████| 1270/1270 [00:03<00:00, 410.61it/s]\n"
     ]
    },
    {
     "name": "stdout",
     "output_type": "stream",
     "text": [
      "epoch: 4, score: {'val_rmse': 0.8833952}\n",
      "done save at epoch:  9\n"
     ]
    },
    {
     "name": "stderr",
     "output_type": "stream",
     "text": [
      "  4%|███▎                                                                         | 1001/22872 [02:32<55:34,  6.56it/s]\n"
     ]
    },
    {
     "name": "stdout",
     "output_type": "stream",
     "text": [
      "epoch:  5 . load data time:  32.53402066230774 . train time:  152.60102224349976 . train loss:  984102.9\n"
     ]
    },
    {
     "name": "stderr",
     "output_type": "stream",
     "text": [
      "  4%|███▎                                                                         | 1001/22872 [02:33<55:44,  6.54it/s]\n",
      "  6%|████▊                                                                          | 77/1270 [00:00<00:03, 375.77it/s]"
     ]
    },
    {
     "name": "stdout",
     "output_type": "stream",
     "text": [
      "epoch:  6 . load data time:  34.2314817905426 . train time:  153.05780148506165 . train loss:  977282.94\n"
     ]
    },
    {
     "name": "stderr",
     "output_type": "stream",
     "text": [
      "100%|█████████████████████████████████████████████████████████████████████████████| 1270/1270 [00:03<00:00, 386.46it/s]\n"
     ]
    },
    {
     "name": "stdout",
     "output_type": "stream",
     "text": [
      "epoch: 6, score: {'val_rmse': 0.87926906}\n",
      "done save at epoch:  16\n"
     ]
    },
    {
     "name": "stderr",
     "output_type": "stream",
     "text": [
      "  4%|███▎                                                                         | 1001/22872 [02:27<53:39,  6.79it/s]\n"
     ]
    },
    {
     "name": "stdout",
     "output_type": "stream",
     "text": [
      "epoch:  7 . load data time:  34.48778676986694 . train time:  147.34806656837463 . train loss:  973930.1\n"
     ]
    },
    {
     "name": "stderr",
     "output_type": "stream",
     "text": [
      "  4%|███▎                                                                         | 1001/22872 [02:26<53:26,  6.82it/s]\n",
      "  6%|████▌                                                                          | 74/1270 [00:00<00:03, 354.98it/s]"
     ]
    },
    {
     "name": "stdout",
     "output_type": "stream",
     "text": [
      "epoch:  8 . load data time:  32.73548197746277 . train time:  146.7486686706543 . train loss:  972354.3\n"
     ]
    },
    {
     "name": "stderr",
     "output_type": "stream",
     "text": [
      "100%|█████████████████████████████████████████████████████████████████████████████| 1270/1270 [00:03<00:00, 387.29it/s]\n"
     ]
    },
    {
     "name": "stdout",
     "output_type": "stream",
     "text": [
      "epoch: 8, score: {'val_rmse': 0.8769898}\n",
      "done save at epoch:  25\n"
     ]
    },
    {
     "name": "stderr",
     "output_type": "stream",
     "text": [
      "  4%|███▎                                                                         | 1001/22872 [02:29<54:18,  6.71it/s]"
     ]
    },
    {
     "name": "stdout",
     "output_type": "stream",
     "text": [
      "epoch:  9 . load data time:  32.93003034591675 . train time:  149.15323948860168 . train loss:  965386.2\n"
     ]
    },
    {
     "name": "stderr",
     "output_type": "stream",
     "text": [
      "\n"
     ]
    }
   ],
   "source": [
    "training(rsmodel, opt, train_dataset, val_dataset, num_epochs=10)"
   ]
  },
  {
   "cell_type": "code",
   "execution_count": null,
   "metadata": {},
   "outputs": [],
   "source": []
  },
  {
   "cell_type": "code",
   "execution_count": null,
   "metadata": {},
   "outputs": [],
   "source": []
  },
  {
   "cell_type": "code",
   "execution_count": null,
   "metadata": {},
   "outputs": [],
   "source": []
  },
  {
   "cell_type": "code",
   "execution_count": null,
   "metadata": {},
   "outputs": [],
   "source": []
  },
  {
   "cell_type": "code",
   "execution_count": null,
   "metadata": {},
   "outputs": [],
   "source": []
  },
  {
   "cell_type": "code",
   "execution_count": null,
   "metadata": {},
   "outputs": [],
   "source": []
  },
  {
   "cell_type": "code",
   "execution_count": null,
   "metadata": {
    "scrolled": false
   },
   "outputs": [
    {
     "name": "stderr",
     "output_type": "stream",
     "text": [
      "  4%|███▎                                                                         | 1001/22872 [02:25<53:05,  6.86it/s]\n",
      "  8%|██████▏                                                                       | 100/1270 [00:00<00:01, 983.01it/s]"
     ]
    },
    {
     "name": "stdout",
     "output_type": "stream",
     "text": [
      "epoch:  0 . load data time:  34.43304133415222 . train time:  145.82096195220947 . train loss:  6085918.0\n"
     ]
    },
    {
     "name": "stderr",
     "output_type": "stream",
     "text": [
      "100%|█████████████████████████████████████████████████████████████████████████████| 1270/1270 [00:01<00:00, 985.62it/s]\n"
     ]
    },
    {
     "name": "stdout",
     "output_type": "stream",
     "text": [
      "epoch: 0, score: {'val_rmse': 1.3326454}\n",
      "done save at epoch:  1\n"
     ]
    },
    {
     "name": "stderr",
     "output_type": "stream",
     "text": [
      "  4%|███▎                                                                         | 1001/22872 [02:24<52:37,  6.93it/s]\n"
     ]
    },
    {
     "name": "stdout",
     "output_type": "stream",
     "text": [
      "epoch:  1 . load data time:  33.41731905937195 . train time:  144.53356170654297 . train loss:  2219069.8\n"
     ]
    },
    {
     "name": "stderr",
     "output_type": "stream",
     "text": [
      "  4%|███▎                                                                         | 1001/22872 [02:25<52:59,  6.88it/s]\n",
      "  7%|█████▊                                                                         | 93/1270 [00:00<00:01, 923.24it/s]"
     ]
    },
    {
     "name": "stdout",
     "output_type": "stream",
     "text": [
      "epoch:  2 . load data time:  33.36878800392151 . train time:  145.50499296188354 . train loss:  1835103.2\n"
     ]
    },
    {
     "name": "stderr",
     "output_type": "stream",
     "text": [
      "100%|█████████████████████████████████████████████████████████████████████████████| 1270/1270 [00:01<00:00, 959.74it/s]\n"
     ]
    },
    {
     "name": "stdout",
     "output_type": "stream",
     "text": [
      "epoch: 2, score: {'val_rmse': 1.0594991}\n",
      "done save at epoch:  4\n"
     ]
    },
    {
     "name": "stderr",
     "output_type": "stream",
     "text": [
      "  4%|███▎                                                                         | 1001/22872 [02:28<54:09,  6.73it/s]\n"
     ]
    },
    {
     "name": "stdout",
     "output_type": "stream",
     "text": [
      "epoch:  3 . load data time:  33.23911452293396 . train time:  148.71837329864502 . train loss:  1558471.5\n"
     ]
    },
    {
     "name": "stderr",
     "output_type": "stream",
     "text": [
      "  4%|███▎                                                                         | 1001/22872 [02:24<52:41,  6.92it/s]\n",
      " 15%|███████████▉                                                                  | 195/1270 [00:00<00:01, 963.31it/s]"
     ]
    },
    {
     "name": "stdout",
     "output_type": "stream",
     "text": [
      "epoch:  4 . load data time:  32.914036989212036 . train time:  144.70812463760376 . train loss:  1347344.5\n"
     ]
    },
    {
     "name": "stderr",
     "output_type": "stream",
     "text": [
      "100%|█████████████████████████████████████████████████████████████████████████████| 1270/1270 [00:01<00:00, 973.85it/s]\n"
     ]
    },
    {
     "name": "stdout",
     "output_type": "stream",
     "text": [
      "epoch: 4, score: {'val_rmse': 0.9718058}\n",
      "done save at epoch:  9\n"
     ]
    }
   ],
   "source": [
    "training(rsmodel, opt, train_dataset, val_dataset, num_epochs=10)"
   ]
  },
  {
   "cell_type": "code",
   "execution_count": null,
   "metadata": {},
   "outputs": [],
   "source": []
  },
  {
   "cell_type": "code",
   "execution_count": null,
   "metadata": {},
   "outputs": [],
   "source": []
  },
  {
   "cell_type": "code",
   "execution_count": null,
   "metadata": {},
   "outputs": [],
   "source": []
  },
  {
   "cell_type": "code",
   "execution_count": null,
   "metadata": {},
   "outputs": [],
   "source": []
  },
  {
   "cell_type": "code",
   "execution_count": null,
   "metadata": {},
   "outputs": [],
   "source": []
  },
  {
   "cell_type": "code",
   "execution_count": null,
   "metadata": {},
   "outputs": [],
   "source": []
  },
  {
   "cell_type": "code",
   "execution_count": null,
   "metadata": {},
   "outputs": [],
   "source": []
  },
  {
   "cell_type": "code",
   "execution_count": null,
   "metadata": {},
   "outputs": [],
   "source": []
  },
  {
   "cell_type": "code",
   "execution_count": null,
   "metadata": {},
   "outputs": [],
   "source": []
  },
  {
   "cell_type": "code",
   "execution_count": null,
   "metadata": {},
   "outputs": [],
   "source": []
  },
  {
   "cell_type": "code",
   "execution_count": null,
   "metadata": {},
   "outputs": [],
   "source": []
  },
  {
   "cell_type": "code",
   "execution_count": null,
   "metadata": {},
   "outputs": [],
   "source": []
  },
  {
   "cell_type": "code",
   "execution_count": null,
   "metadata": {},
   "outputs": [],
   "source": []
  }
 ],
 "metadata": {
  "kernelspec": {
   "display_name": "Python 3",
   "language": "python",
   "name": "python3"
  },
  "language_info": {
   "codemirror_mode": {
    "name": "ipython",
    "version": 3
   },
   "file_extension": ".py",
   "mimetype": "text/x-python",
   "name": "python",
   "nbconvert_exporter": "python",
   "pygments_lexer": "ipython3",
   "version": "3.8.0"
  }
 },
 "nbformat": 4,
 "nbformat_minor": 4
}
